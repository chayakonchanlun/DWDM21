{
  "nbformat": 4,
  "nbformat_minor": 0,
  "metadata": {
    "colab": {
      "name": "สรุปเนื้อหาบทที่ 2 Getting to Know Your Data.ipynb",
      "provenance": [],
      "authorship_tag": "ABX9TyPHuLcVm/BV94v2D/AGFthB",
      "include_colab_link": true
    },
    "kernelspec": {
      "name": "python3",
      "display_name": "Python 3"
    },
    "language_info": {
      "name": "python"
    }
  },
  "cells": [
    {
      "cell_type": "markdown",
      "metadata": {
        "id": "view-in-github",
        "colab_type": "text"
      },
      "source": [
        "<a href=\"https://colab.research.google.com/github/chayakonchanlun/DWDM21/blob/main/%E0%B8%AA%E0%B8%A3%E0%B8%B8%E0%B8%9B%E0%B9%80%E0%B8%99%E0%B8%B7%E0%B9%89%E0%B8%AD%E0%B8%AB%E0%B8%B2%E0%B8%9A%E0%B8%97%E0%B8%97%E0%B8%B5%E0%B9%88_2_Getting_to_Know_Your_Data.ipynb\" target=\"_parent\"><img src=\"https://colab.research.google.com/assets/colab-badge.svg\" alt=\"Open In Colab\"/></a>"
      ]
    },
    {
      "cell_type": "markdown",
      "metadata": {
        "id": "RiO2HuDkPZ4f"
      },
      "source": [
        "\n",
        "สรุปเนื้อหาบทที่ 2\n",
        "\n",
        "Data\n",
        "\n",
        "\n",
        "ขนาดของข้อมูล\n",
        "- 1D จะมีข้อมูลเป็นความยาวหรือความกว้างอย่างใดอย่างหนึ่ง\n",
        "- 2D จะมีขนาดของ กว้าง*ยาว\n",
        "- 3D จะเอาข้อมูลขนาด 2D มาวางซ้อนทับกัน\n",
        "- 4D จะเอาข้อมูลขนาด 3D มาวางเรียงต่อกัน\n",
        "\n",
        "\n",
        "\n",
        "คุณสมบัติของ matrix\n",
        "- เเนวตั้ง : colum จะบอกถึงคุณสมบัติของข้อมูล\n",
        "- เเนวนอน : เเถว จะบอกถึงข้อมูลเเต่ละชุด\n",
        "\n",
        "\n",
        "\n",
        "ประเภทของชุดข้อมูล : การบันทึกข้อมูล\n",
        "- Relational records(เชิงสัมพันธ์)\n",
        "- Data matrix e.g. numerice matrix crosstabs (เมทริกซ์ข้อมูล เช่น เมทริกซ์ตัวเลข)\n",
        "- Transaction data (ข้อมูลธุรกรรม)\n",
        "- Document data : Term-frequency vector (matrix) of text documents เมทริกซ์ของเอกสารข้อความ\n",
        "\n",
        "ประเภทของชุดข้อมูล : กราฟเเละเครือข่าย\n",
        "- Transportation (เครือข่ายขนส่ง)\n",
        "- World Wide Web \n",
        "- Moleclar Structures (โครงสร้างโมเลกุล)\n",
        "- Social or information networks (เครือข่ายสังคมหรือข้อมูล)\n",
        "\n",
        "ประเภทของชุดข้อมูล : Ordered Data\n",
        "- Video data : sequence of images (ลำดับภาพ)\n",
        "- Temporal data time-series (อนุกรมเวลา)\n",
        "- SEquential Data transation SeQuences (ลำดับการทำธุรกรรม)\n",
        "- Genetic sequence data (ข้อมูลลำดับพันธุกรรม)\n",
        "\n",
        "ประเภทของชุดข้อมูล : ข้อมูลเชิงพื้นที่ ภาพ เเละมัลติมีเดีย\n",
        "- Spatial data : maps (แผนที่)\n",
        "- Image gata (การนำภาพมาซ้อนกันหลายๆรูป)\n",
        "\n",
        "\n",
        "\n",
        "ลักษณะสำคัญของข้อมูล\n",
        "- Dimensionality มิติของข้อมูล\n",
        "- Sparstity การเก็บเฉพาะคู่อันดับ ไม่เก็บตัวเลข\n",
        "- Resolution ความละเอียดในการเก็บข้อมูล\n",
        "- Distridution การกระจายตัวของข้อมูล\n",
        "\n",
        "\n",
        "\n",
        "ข้อมูลที่เป็นตัวเลข\n",
        "- Interval (ไม่มีศูนย์เเท้)\n",
        "- Ratio (มีศูนย์เเท้)\n",
        "\n",
        "\n"
      ]
    },
    {
      "cell_type": "code",
      "metadata": {
        "id": "wzuM1fVYPoHf"
      },
      "source": [
        ""
      ],
      "execution_count": null,
      "outputs": []
    }
  ]
}