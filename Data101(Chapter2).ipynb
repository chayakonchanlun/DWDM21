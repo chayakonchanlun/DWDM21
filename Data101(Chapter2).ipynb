{
  "nbformat": 4,
  "nbformat_minor": 0,
  "metadata": {
    "colab": {
      "name": "Data101(Chapter2).ipynb",
      "provenance": [],
      "authorship_tag": "ABX9TyOYY+c53zU0NYeDTRBqu4QJ",
      "include_colab_link": true
    },
    "kernelspec": {
      "name": "python3",
      "display_name": "Python 3"
    },
    "language_info": {
      "name": "python"
    }
  },
  "cells": [
    {
      "cell_type": "markdown",
      "metadata": {
        "id": "view-in-github",
        "colab_type": "text"
      },
      "source": [
        "<a href=\"https://colab.research.google.com/github/chayakonchanlun/DWDM21/blob/main/Data101(Chapter2).ipynb\" target=\"_parent\"><img src=\"https://colab.research.google.com/assets/colab-badge.svg\" alt=\"Open In Colab\"/></a>"
      ]
    },
    {
      "cell_type": "markdown",
      "metadata": {
        "id": "Jc8JydyBz0Yz"
      },
      "source": [
        "ข้อความที่อยู่ใน texboc จะเป็นภาษา markdown"
      ]
    },
    {
      "cell_type": "markdown",
      "metadata": {
        "id": "LmqAsouttxi5"
      },
      "source": [
        "ข้อดีของ python คือมี package สำหรับทำงานต่างๆ มากมาย ซึ่งpandas เป็น package สำหรับทำงานข้อมูลรูปแบบตาราง โดย pandas จะเรียกตารางนั้นว่า dataframe"
      ]
    },
    {
      "cell_type": "code",
      "metadata": {
        "id": "RSUQlLrQrwKp"
      },
      "source": [
        "import pandas # วิธีเรียกใช้  package คือ import ตามด้วยชื่อ package"
      ],
      "execution_count": 236,
      "outputs": []
    },
    {
      "cell_type": "code",
      "metadata": {
        "id": "LS6i2f3rtBZY"
      },
      "source": [
        "import pandas as pd # เหมือนกับข้างบนแต่ว่า ตั้งชื่อ packge ที่โหลดมาใหม่ว่า pd คือตัวย่อ"
      ],
      "execution_count": 237,
      "outputs": []
    },
    {
      "cell_type": "markdown",
      "metadata": {
        "id": "fPHSNpIduvi8"
      },
      "source": [
        "ไฟล์ . csv (csv = comma separated value) เป็นไฟล์หลักที่เราจะได้ใช้กันในวิชานี้"
      ]
    },
    {
      "cell_type": "code",
      "metadata": {
        "id": "hkwqjuAzutcv"
      },
      "source": [
        "data_df = pd.read_csv('data.csv')"
      ],
      "execution_count": 238,
      "outputs": []
    },
    {
      "cell_type": "code",
      "metadata": {
        "id": "J5eIo-a_xPMz",
        "colab": {
          "base_uri": "https://localhost:8080/",
          "height": 141
        },
        "outputId": "7a284280-3843-4c36-b2cb-416063ca2534"
      },
      "source": [
        "data_df"
      ],
      "execution_count": 239,
      "outputs": [
        {
          "output_type": "execute_result",
          "data": {
            "text/html": [
              "<div>\n",
              "<style scoped>\n",
              "    .dataframe tbody tr th:only-of-type {\n",
              "        vertical-align: middle;\n",
              "    }\n",
              "\n",
              "    .dataframe tbody tr th {\n",
              "        vertical-align: top;\n",
              "    }\n",
              "\n",
              "    .dataframe thead th {\n",
              "        text-align: right;\n",
              "    }\n",
              "</style>\n",
              "<table border=\"1\" class=\"dataframe\">\n",
              "  <thead>\n",
              "    <tr style=\"text-align: right;\">\n",
              "      <th></th>\n",
              "      <th>name</th>\n",
              "      <th>city</th>\n",
              "    </tr>\n",
              "  </thead>\n",
              "  <tbody>\n",
              "    <tr>\n",
              "      <th>tom</th>\n",
              "      <td>27</td>\n",
              "      <td>khonkaen</td>\n",
              "    </tr>\n",
              "    <tr>\n",
              "      <th>GetNu</th>\n",
              "      <td>15</td>\n",
              "      <td>Bangkon</td>\n",
              "    </tr>\n",
              "    <tr>\n",
              "      <th>sarah</th>\n",
              "      <td>49</td>\n",
              "      <td>london</td>\n",
              "    </tr>\n",
              "  </tbody>\n",
              "</table>\n",
              "</div>"
            ],
            "text/plain": [
              "       name      city\n",
              "tom      27  khonkaen\n",
              "GetNu    15   Bangkon\n",
              "sarah    49    london"
            ]
          },
          "metadata": {
            "tags": []
          },
          "execution_count": 239
        }
      ]
    },
    {
      "cell_type": "code",
      "metadata": {
        "id": "2iBLECcuxUc1",
        "colab": {
          "base_uri": "https://localhost:8080/",
          "height": 141
        },
        "outputId": "f863a81f-d208-4648-b9e6-f7397ba98c46"
      },
      "source": [
        "data_df2 = pandas.read_csv('data.csv')\n",
        "data_df2"
      ],
      "execution_count": 240,
      "outputs": [
        {
          "output_type": "execute_result",
          "data": {
            "text/html": [
              "<div>\n",
              "<style scoped>\n",
              "    .dataframe tbody tr th:only-of-type {\n",
              "        vertical-align: middle;\n",
              "    }\n",
              "\n",
              "    .dataframe tbody tr th {\n",
              "        vertical-align: top;\n",
              "    }\n",
              "\n",
              "    .dataframe thead th {\n",
              "        text-align: right;\n",
              "    }\n",
              "</style>\n",
              "<table border=\"1\" class=\"dataframe\">\n",
              "  <thead>\n",
              "    <tr style=\"text-align: right;\">\n",
              "      <th></th>\n",
              "      <th>name</th>\n",
              "      <th>city</th>\n",
              "    </tr>\n",
              "  </thead>\n",
              "  <tbody>\n",
              "    <tr>\n",
              "      <th>tom</th>\n",
              "      <td>27</td>\n",
              "      <td>khonkaen</td>\n",
              "    </tr>\n",
              "    <tr>\n",
              "      <th>GetNu</th>\n",
              "      <td>15</td>\n",
              "      <td>Bangkon</td>\n",
              "    </tr>\n",
              "    <tr>\n",
              "      <th>sarah</th>\n",
              "      <td>49</td>\n",
              "      <td>london</td>\n",
              "    </tr>\n",
              "  </tbody>\n",
              "</table>\n",
              "</div>"
            ],
            "text/plain": [
              "       name      city\n",
              "tom      27  khonkaen\n",
              "GetNu    15   Bangkon\n",
              "sarah    49    london"
            ]
          },
          "metadata": {
            "tags": []
          },
          "execution_count": 240
        }
      ]
    },
    {
      "cell_type": "markdown",
      "metadata": {
        "id": "T1-l8tZdzs16"
      },
      "source": [
        "# Basic Python\n",
        "## variable"
      ]
    },
    {
      "cell_type": "markdown",
      "metadata": {
        "id": "JbqdlK1t1pFe"
      },
      "source": [
        "กำหนดในการตั้งชื่อตัวแปร\n",
        "\n",
        "1. ชื่อห้ามมีเว้นวรรค\n",
        "2. ใช้ภาษาอังกฤษ\n",
        "3. ตัวเล็กกับตัวใหญ่แตกต่างกัน\n",
        "4. ห้ามใช้ตัวเลขเป็นตัวหน้า"
      ]
    },
    {
      "cell_type": "code",
      "metadata": {
        "id": "ohNhigyOyRYh"
      },
      "source": [
        "variable_a = 12\n",
        "varible_b = 'abcde' # ' เรียกว่า quote\n",
        "variable_c = variable_a"
      ],
      "execution_count": 241,
      "outputs": []
    },
    {
      "cell_type": "code",
      "metadata": {
        "id": "KZU1bXZO0T_H",
        "colab": {
          "base_uri": "https://localhost:8080/"
        },
        "outputId": "0d0598b2-bfca-43e8-8258-21198c4fce5f"
      },
      "source": [
        "variable_a"
      ],
      "execution_count": 242,
      "outputs": [
        {
          "output_type": "execute_result",
          "data": {
            "text/plain": [
              "12"
            ]
          },
          "metadata": {
            "tags": []
          },
          "execution_count": 242
        }
      ]
    },
    {
      "cell_type": "code",
      "metadata": {
        "id": "1f0nS2JS1OV-",
        "colab": {
          "base_uri": "https://localhost:8080/",
          "height": 34
        },
        "outputId": "1ea4c411-d0e1-435a-9673-7ac88f098bba"
      },
      "source": [
        "varible_b"
      ],
      "execution_count": 243,
      "outputs": [
        {
          "output_type": "execute_result",
          "data": {
            "application/vnd.google.colaboratory.intrinsic+json": {
              "type": "string"
            },
            "text/plain": [
              "'abcde'"
            ]
          },
          "metadata": {
            "tags": []
          },
          "execution_count": 243
        }
      ]
    },
    {
      "cell_type": "code",
      "metadata": {
        "id": "q1O_Op911Pzm",
        "colab": {
          "base_uri": "https://localhost:8080/"
        },
        "outputId": "c394cda4-7796-4fcf-cc74-1b926f6b5569"
      },
      "source": [
        "variable_c"
      ],
      "execution_count": 244,
      "outputs": [
        {
          "output_type": "execute_result",
          "data": {
            "text/plain": [
              "12"
            ]
          },
          "metadata": {
            "tags": []
          },
          "execution_count": 244
        }
      ]
    },
    {
      "cell_type": "code",
      "metadata": {
        "id": "5DVey1YF1SZ5"
      },
      "source": [
        "# colab ใช้ภาษาไทยเป็นชื่อตัวแปรได้ แต่ไม่ควรใช้\n",
        "# colab พยามใช้ภาษาอังกฤษ"
      ],
      "execution_count": 245,
      "outputs": []
    },
    {
      "cell_type": "code",
      "metadata": {
        "id": "CMQ0lUwY27f1"
      },
      "source": [
        "variable_a = 12\n",
        "variable_b = 'abcde'\n",
        "variable_c = variable_a\n",
        "variable_d = -41.2\n",
        "variable_4 = \"kku\" # \"\" เรียกว้า double quote\n",
        "\n"
      ],
      "execution_count": 246,
      "outputs": []
    },
    {
      "cell_type": "code",
      "metadata": {
        "id": "MmcjYPN25k1g",
        "colab": {
          "base_uri": "https://localhost:8080/"
        },
        "outputId": "7ebe81e9-e738-4f13-ce8d-ce9b22bb6262"
      },
      "source": [
        "variable_x = variable_c + variable_d\n",
        "print(variable_x)"
      ],
      "execution_count": 247,
      "outputs": [
        {
          "output_type": "stream",
          "text": [
            "-29.200000000000003\n"
          ],
          "name": "stdout"
        }
      ]
    },
    {
      "cell_type": "markdown",
      "metadata": {
        "id": "jkLL31na9Dto"
      },
      "source": [
        "# Data structure\n",
        "list()"
      ]
    },
    {
      "cell_type": "code",
      "metadata": {
        "id": "Y2JaHoyM521a"
      },
      "source": [
        "list_a = [1,2,0.2,'abc' ] #[] คือ square brackers\n",
        "list_b = [2,'xyz',list_a,[1,2,0.0]]"
      ],
      "execution_count": 248,
      "outputs": []
    },
    {
      "cell_type": "code",
      "metadata": {
        "id": "afLQyxse93UU",
        "colab": {
          "base_uri": "https://localhost:8080/"
        },
        "outputId": "1686fbf2-0f58-4c2b-b839-7b799c15cdf9"
      },
      "source": [
        "list_a\n"
      ],
      "execution_count": 249,
      "outputs": [
        {
          "output_type": "execute_result",
          "data": {
            "text/plain": [
              "[1, 2, 0.2, 'abc']"
            ]
          },
          "metadata": {
            "tags": []
          },
          "execution_count": 249
        }
      ]
    },
    {
      "cell_type": "code",
      "metadata": {
        "id": "9yZOlkAj95eu",
        "colab": {
          "base_uri": "https://localhost:8080/"
        },
        "outputId": "fb5be110-6341-4c94-8e20-3df2eb018485"
      },
      "source": [
        "list_b"
      ],
      "execution_count": 250,
      "outputs": [
        {
          "output_type": "execute_result",
          "data": {
            "text/plain": [
              "[2, 'xyz', [1, 2, 0.2, 'abc'], [1, 2, 0.0]]"
            ]
          },
          "metadata": {
            "tags": []
          },
          "execution_count": 250
        }
      ]
    },
    {
      "cell_type": "code",
      "metadata": {
        "id": "oK5426RJ-Pty",
        "colab": {
          "base_uri": "https://localhost:8080/"
        },
        "outputId": "adf07cd8-c7b5-4412-bd76-0f3aa0c384ce"
      },
      "source": [
        "len(list_b) #คือคำสั่งบอกจำนวนสมาชิกใน list นั้น"
      ],
      "execution_count": 251,
      "outputs": [
        {
          "output_type": "execute_result",
          "data": {
            "text/plain": [
              "4"
            ]
          },
          "metadata": {
            "tags": []
          },
          "execution_count": 251
        }
      ]
    },
    {
      "cell_type": "code",
      "metadata": {
        "id": "oIiIwFrE-X4o",
        "colab": {
          "base_uri": "https://localhost:8080/"
        },
        "outputId": "0641ab9d-ae53-41d6-c208-7b91b3bafe9f"
      },
      "source": [
        "list_b[3]"
      ],
      "execution_count": 252,
      "outputs": [
        {
          "output_type": "execute_result",
          "data": {
            "text/plain": [
              "[1, 2, 0.0]"
            ]
          },
          "metadata": {
            "tags": []
          },
          "execution_count": 252
        }
      ]
    },
    {
      "cell_type": "code",
      "metadata": {
        "id": "HwbmtzjC-f9e",
        "colab": {
          "base_uri": "https://localhost:8080/"
        },
        "outputId": "2b7635e3-0f14-4b79-c4fb-ce11a6c381ee"
      },
      "source": [
        "list_b[3][1]"
      ],
      "execution_count": 253,
      "outputs": [
        {
          "output_type": "execute_result",
          "data": {
            "text/plain": [
              "2"
            ]
          },
          "metadata": {
            "tags": []
          },
          "execution_count": 253
        }
      ]
    },
    {
      "cell_type": "markdown",
      "metadata": {
        "id": "hxID3AHv-M6q"
      },
      "source": [
        "## string คือ list ของตัวหนังสือ "
      ]
    },
    {
      "cell_type": "code",
      "metadata": {
        "id": "57kaJQy4--Bg"
      },
      "source": [
        "a = 'Stat KKU'"
      ],
      "execution_count": 254,
      "outputs": []
    },
    {
      "cell_type": "code",
      "metadata": {
        "id": "IYzHq9HI_DTx",
        "colab": {
          "base_uri": "https://localhost:8080/",
          "height": 0
        },
        "outputId": "8c2065b9-9fa4-43c3-9be8-4a551f291f17"
      },
      "source": [
        "a[4]"
      ],
      "execution_count": 255,
      "outputs": [
        {
          "output_type": "execute_result",
          "data": {
            "application/vnd.google.colaboratory.intrinsic+json": {
              "type": "string"
            },
            "text/plain": [
              "' '"
            ]
          },
          "metadata": {
            "tags": []
          },
          "execution_count": 255
        }
      ]
    },
    {
      "cell_type": "markdown",
      "metadata": {
        "id": "Oj59gfjym4Zl"
      },
      "source": [
        "## วิธีสร้าง list **ว่าง**"
      ]
    },
    {
      "cell_type": "code",
      "metadata": {
        "id": "GZrW8qvXm4Bl"
      },
      "source": [
        "list_c = list() #แบบที่ 1\n",
        "list_d = [] #แบบที่ 2"
      ],
      "execution_count": 256,
      "outputs": []
    },
    {
      "cell_type": "code",
      "metadata": {
        "id": "jBJYwswJm-BQ",
        "colab": {
          "base_uri": "https://localhost:8080/"
        },
        "outputId": "66eb19d2-1d6f-494b-f580-4170e0cefd8b"
      },
      "source": [
        "list_c"
      ],
      "execution_count": 257,
      "outputs": [
        {
          "output_type": "execute_result",
          "data": {
            "text/plain": [
              "[]"
            ]
          },
          "metadata": {
            "tags": []
          },
          "execution_count": 257
        }
      ]
    },
    {
      "cell_type": "code",
      "metadata": {
        "id": "ytt9Nb7bm9w4",
        "colab": {
          "base_uri": "https://localhost:8080/"
        },
        "outputId": "30bd0544-1fe3-4e1f-da49-966faee913e6"
      },
      "source": [
        "\n",
        "list_d"
      ],
      "execution_count": 258,
      "outputs": [
        {
          "output_type": "execute_result",
          "data": {
            "text/plain": [
              "[]"
            ]
          },
          "metadata": {
            "tags": []
          },
          "execution_count": 258
        }
      ]
    },
    {
      "cell_type": "markdown",
      "metadata": {
        "id": "xA7Z3sUrAfEn"
      },
      "source": [
        "เติมค่าลงไปใน list (.append)"
      ]
    },
    {
      "cell_type": "code",
      "metadata": {
        "id": "JDNJm5O9A_mW"
      },
      "source": [
        "list_d.append('a')"
      ],
      "execution_count": 259,
      "outputs": []
    },
    {
      "cell_type": "code",
      "metadata": {
        "id": "XDu9aSJNnCok",
        "colab": {
          "base_uri": "https://localhost:8080/"
        },
        "outputId": "ce204287-a419-4d36-89b0-dbd7a7938197"
      },
      "source": [
        "list_d"
      ],
      "execution_count": 260,
      "outputs": [
        {
          "output_type": "execute_result",
          "data": {
            "text/plain": [
              "['a']"
            ]
          },
          "metadata": {
            "tags": []
          },
          "execution_count": 260
        }
      ]
    },
    {
      "cell_type": "code",
      "metadata": {
        "id": "8MUeSnxXnENV"
      },
      "source": [
        "list_d.append(56)\n"
      ],
      "execution_count": 261,
      "outputs": []
    },
    {
      "cell_type": "code",
      "metadata": {
        "id": "3IzcoqmHnFxr",
        "colab": {
          "base_uri": "https://localhost:8080/"
        },
        "outputId": "a83bf590-4786-41d4-9375-cc0ad04dfd22"
      },
      "source": [
        "list_d\n"
      ],
      "execution_count": 262,
      "outputs": [
        {
          "output_type": "execute_result",
          "data": {
            "text/plain": [
              "['a', 56]"
            ]
          },
          "metadata": {
            "tags": []
          },
          "execution_count": 262
        }
      ]
    },
    {
      "cell_type": "markdown",
      "metadata": {
        "id": "YHqupV_3nJXe"
      },
      "source": [
        "การชี้ค่าใน list (indexing)\n",
        "\n",
        "ใช้ลำดับในการชี้\n",
        "\n",
        "ลำดับเริ่มจาก 0\n",
        "\n",
        "สามารถชี้จากข้างหลังได้โดยใช้ negative index"
      ]
    },
    {
      "cell_type": "code",
      "metadata": {
        "id": "V6N88it9nHb7",
        "colab": {
          "base_uri": "https://localhost:8080/"
        },
        "outputId": "91034d76-a05d-4a61-e305-9decf262ca25"
      },
      "source": [
        "list_b"
      ],
      "execution_count": 263,
      "outputs": [
        {
          "output_type": "execute_result",
          "data": {
            "text/plain": [
              "[2, 'xyz', [1, 2, 0.2, 'abc'], [1, 2, 0.0]]"
            ]
          },
          "metadata": {
            "tags": []
          },
          "execution_count": 263
        }
      ]
    },
    {
      "cell_type": "code",
      "metadata": {
        "id": "SGcrlM-8nNGz",
        "colab": {
          "base_uri": "https://localhost:8080/"
        },
        "outputId": "6c095fb3-a8d8-4970-d6dc-cc7945fe5456"
      },
      "source": [
        "list_b[-1]"
      ],
      "execution_count": 264,
      "outputs": [
        {
          "output_type": "execute_result",
          "data": {
            "text/plain": [
              "[1, 2, 0.0]"
            ]
          },
          "metadata": {
            "tags": []
          },
          "execution_count": 264
        }
      ]
    },
    {
      "cell_type": "markdown",
      "metadata": {
        "id": "-YImnuN7nPoR"
      },
      "source": [
        "## list **slicing**"
      ]
    },
    {
      "cell_type": "code",
      "metadata": {
        "id": "IXz6NdVynORK"
      },
      "source": [
        "list_ex = [1,2,3,5,6,8,-1,20,50,0]"
      ],
      "execution_count": 265,
      "outputs": []
    },
    {
      "cell_type": "markdown",
      "metadata": {
        "id": "gmBarB1YngjT"
      },
      "source": [
        "เราจะตัดlist โดยเอาตั้งแต่ [ตัวหน้า:ตัวก่อนตัวหลัง]\n",
        "ถ้าเป็นสัญลักษณ์คณิตศาสตร์ [ตัวหน้า:ตัวหลัง] -> [ตัวหน้า,ตัวหลัง)"
      ]
    },
    {
      "cell_type": "code",
      "metadata": {
        "id": "OQSl3QirnePH",
        "colab": {
          "base_uri": "https://localhost:8080/"
        },
        "outputId": "bfcabe4f-e816-40e5-f546-b08acd857b10"
      },
      "source": [
        "list_ex[1:6]"
      ],
      "execution_count": 266,
      "outputs": [
        {
          "output_type": "execute_result",
          "data": {
            "text/plain": [
              "[2, 3, 5, 6, 8]"
            ]
          },
          "metadata": {
            "tags": []
          },
          "execution_count": 266
        }
      ]
    },
    {
      "cell_type": "code",
      "metadata": {
        "id": "WiIWu9O5niJG",
        "colab": {
          "base_uri": "https://localhost:8080/"
        },
        "outputId": "4b1d27d1-e550-4012-cc92-fdc8b397aa2b"
      },
      "source": [
        "list_ex[4:]"
      ],
      "execution_count": 267,
      "outputs": [
        {
          "output_type": "execute_result",
          "data": {
            "text/plain": [
              "[6, 8, -1, 20, 50, 0]"
            ]
          },
          "metadata": {
            "tags": []
          },
          "execution_count": 267
        }
      ]
    },
    {
      "cell_type": "code",
      "metadata": {
        "id": "8jhUUKR5njRq",
        "colab": {
          "base_uri": "https://localhost:8080/"
        },
        "outputId": "d7bab99b-3efa-4e10-a6ad-d802196fa1b8"
      },
      "source": [
        "list_ex[:6]"
      ],
      "execution_count": 268,
      "outputs": [
        {
          "output_type": "execute_result",
          "data": {
            "text/plain": [
              "[1, 2, 3, 5, 6, 8]"
            ]
          },
          "metadata": {
            "tags": []
          },
          "execution_count": 268
        }
      ]
    },
    {
      "cell_type": "code",
      "metadata": {
        "id": "UbhYCaETnkZF",
        "colab": {
          "base_uri": "https://localhost:8080/"
        },
        "outputId": "04800c18-3a5d-4c52-9db5-722ed8f13b39"
      },
      "source": [
        "list_ex"
      ],
      "execution_count": 269,
      "outputs": [
        {
          "output_type": "execute_result",
          "data": {
            "text/plain": [
              "[1, 2, 3, 5, 6, 8, -1, 20, 50, 0]"
            ]
          },
          "metadata": {
            "tags": []
          },
          "execution_count": 269
        }
      ]
    },
    {
      "cell_type": "code",
      "metadata": {
        "id": "X4kgDGpanlfS",
        "colab": {
          "base_uri": "https://localhost:8080/"
        },
        "outputId": "0fbf6c4b-8128-4d5b-dea7-8bd6a6d0dc46"
      },
      "source": [
        "list_ex[::2]"
      ],
      "execution_count": 270,
      "outputs": [
        {
          "output_type": "execute_result",
          "data": {
            "text/plain": [
              "[1, 3, 6, -1, 50]"
            ]
          },
          "metadata": {
            "tags": []
          },
          "execution_count": 270
        }
      ]
    },
    {
      "cell_type": "code",
      "metadata": {
        "id": "Zr3ldbGUnm_-",
        "colab": {
          "base_uri": "https://localhost:8080/"
        },
        "outputId": "7739e92f-3a98-494f-efad-9bd739475f54"
      },
      "source": [
        "list_ex[::-1]  # การกลับ list"
      ],
      "execution_count": 271,
      "outputs": [
        {
          "output_type": "execute_result",
          "data": {
            "text/plain": [
              "[0, 50, 20, -1, 8, 6, 5, 3, 2, 1]"
            ]
          },
          "metadata": {
            "tags": []
          },
          "execution_count": 271
        }
      ]
    },
    {
      "cell_type": "code",
      "metadata": {
        "id": "gvYkky97noxl",
        "colab": {
          "base_uri": "https://localhost:8080/",
          "height": 0
        },
        "outputId": "2dcadc60-ef72-45f4-eac0-e38cd5a9c611"
      },
      "source": [
        "a"
      ],
      "execution_count": 272,
      "outputs": [
        {
          "output_type": "execute_result",
          "data": {
            "application/vnd.google.colaboratory.intrinsic+json": {
              "type": "string"
            },
            "text/plain": [
              "'Stat KKU'"
            ]
          },
          "metadata": {
            "tags": []
          },
          "execution_count": 272
        }
      ]
    },
    {
      "cell_type": "code",
      "metadata": {
        "id": "k2m4BCY7nqDY",
        "colab": {
          "base_uri": "https://localhost:8080/",
          "height": 0
        },
        "outputId": "f7b7fbdd-5a1f-4b62-f51b-bf12d251c787"
      },
      "source": [
        "a[5:]"
      ],
      "execution_count": 273,
      "outputs": [
        {
          "output_type": "execute_result",
          "data": {
            "application/vnd.google.colaboratory.intrinsic+json": {
              "type": "string"
            },
            "text/plain": [
              "'KKU'"
            ]
          },
          "metadata": {
            "tags": []
          },
          "execution_count": 273
        }
      ]
    },
    {
      "cell_type": "code",
      "metadata": {
        "id": "MB08XD06nrmW",
        "colab": {
          "base_uri": "https://localhost:8080/",
          "height": 0
        },
        "outputId": "c401796c-723c-4cee-bf39-103ff83b5f6a"
      },
      "source": [
        "a[-3:]"
      ],
      "execution_count": 274,
      "outputs": [
        {
          "output_type": "execute_result",
          "data": {
            "application/vnd.google.colaboratory.intrinsic+json": {
              "type": "string"
            },
            "text/plain": [
              "'KKU'"
            ]
          },
          "metadata": {
            "tags": []
          },
          "execution_count": 274
        }
      ]
    },
    {
      "cell_type": "code",
      "metadata": {
        "id": "lFv-qScfns1z",
        "colab": {
          "base_uri": "https://localhost:8080/",
          "height": 0
        },
        "outputId": "2e7accac-e329-4617-b6df-cee7736e7ca6"
      },
      "source": [
        "a[5:8]"
      ],
      "execution_count": 275,
      "outputs": [
        {
          "output_type": "execute_result",
          "data": {
            "application/vnd.google.colaboratory.intrinsic+json": {
              "type": "string"
            },
            "text/plain": [
              "'KKU'"
            ]
          },
          "metadata": {
            "tags": []
          },
          "execution_count": 275
        }
      ]
    },
    {
      "cell_type": "code",
      "metadata": {
        "id": "Jp1G5SNEnuRW",
        "colab": {
          "base_uri": "https://localhost:8080/",
          "height": 0
        },
        "outputId": "13c61ac6-319f-4d9e-94ac-b1c903717c27"
      },
      "source": [
        "a[5::]"
      ],
      "execution_count": 276,
      "outputs": [
        {
          "output_type": "execute_result",
          "data": {
            "application/vnd.google.colaboratory.intrinsic+json": {
              "type": "string"
            },
            "text/plain": [
              "'KKU'"
            ]
          },
          "metadata": {
            "tags": []
          },
          "execution_count": 276
        }
      ]
    },
    {
      "cell_type": "markdown",
      "metadata": {
        "id": "ZeyqlfQYnyTm"
      },
      "source": [
        "## list + **list**"
      ]
    },
    {
      "cell_type": "code",
      "metadata": {
        "id": "QMg3kugTnwYm",
        "colab": {
          "base_uri": "https://localhost:8080/"
        },
        "outputId": "0e85546e-af19-4343-85ce-a0b4d64b99a5"
      },
      "source": [
        "print(list_a)\n",
        "print(list_b)"
      ],
      "execution_count": 277,
      "outputs": [
        {
          "output_type": "stream",
          "text": [
            "[1, 2, 0.2, 'abc']\n",
            "[2, 'xyz', [1, 2, 0.2, 'abc'], [1, 2, 0.0]]\n"
          ],
          "name": "stdout"
        }
      ]
    },
    {
      "cell_type": "code",
      "metadata": {
        "id": "nsnV7553n0Qv",
        "colab": {
          "base_uri": "https://localhost:8080/"
        },
        "outputId": "9ddb90c7-ba14-4f2c-c2cf-a662abe8b4da"
      },
      "source": [
        "list_a + list_b"
      ],
      "execution_count": 278,
      "outputs": [
        {
          "output_type": "execute_result",
          "data": {
            "text/plain": [
              "[1, 2, 0.2, 'abc', 2, 'xyz', [1, 2, 0.2, 'abc'], [1, 2, 0.0]]"
            ]
          },
          "metadata": {
            "tags": []
          },
          "execution_count": 278
        }
      ]
    },
    {
      "cell_type": "code",
      "metadata": {
        "id": "ZMMGQ3rkn1t1",
        "colab": {
          "base_uri": "https://localhost:8080/",
          "height": 0
        },
        "outputId": "6707d344-5a6e-41dd-b776-86837cd8bc62"
      },
      "source": [
        "f'ตัวแปร list_a มีค่าคือ {list_a}'"
      ],
      "execution_count": 279,
      "outputs": [
        {
          "output_type": "execute_result",
          "data": {
            "application/vnd.google.colaboratory.intrinsic+json": {
              "type": "string"
            },
            "text/plain": [
              "\"ตัวแปร list_a มีค่าคือ [1, 2, 0.2, 'abc']\""
            ]
          },
          "metadata": {
            "tags": []
          },
          "execution_count": 279
        }
      ]
    },
    {
      "cell_type": "markdown",
      "metadata": {
        "id": "U30LLFrzn5eG"
      },
      "source": [
        "## **Loop**"
      ]
    },
    {
      "cell_type": "code",
      "metadata": {
        "id": "4kie7birn3uy",
        "colab": {
          "base_uri": "https://localhost:8080/"
        },
        "outputId": "3ef4fe11-ebd9-4147-8bdb-7ca9620c7005"
      },
      "source": [
        "for i in [1,2,3,4,5]:\n",
        "    print(i+1)"
      ],
      "execution_count": 280,
      "outputs": [
        {
          "output_type": "stream",
          "text": [
            "2\n",
            "3\n",
            "4\n",
            "5\n",
            "6\n"
          ],
          "name": "stdout"
        }
      ]
    },
    {
      "cell_type": "code",
      "metadata": {
        "id": "eqMCVbDSn7_D",
        "colab": {
          "base_uri": "https://localhost:8080/"
        },
        "outputId": "06287b4a-d8c7-4e15-872a-b35ac85bc39e"
      },
      "source": [
        "for x in [1,2,3,4,5]:\n",
        "    print(f'ค่าตัวแปร x คือ {x} และ x+2={x+2}')"
      ],
      "execution_count": 281,
      "outputs": [
        {
          "output_type": "stream",
          "text": [
            "ค่าตัวแปร x คือ 1 และ x+2=3\n",
            "ค่าตัวแปร x คือ 2 และ x+2=4\n",
            "ค่าตัวแปร x คือ 3 และ x+2=5\n",
            "ค่าตัวแปร x คือ 4 และ x+2=6\n",
            "ค่าตัวแปร x คือ 5 และ x+2=7\n"
          ],
          "name": "stdout"
        }
      ]
    },
    {
      "cell_type": "code",
      "metadata": {
        "id": "MgFZ3azxn9hK",
        "colab": {
          "base_uri": "https://localhost:8080/"
        },
        "outputId": "e7c445aa-6aa4-4b7d-b30f-c6ed17837bb4"
      },
      "source": [
        "list5=[1,2,3,4,5]\n",
        "for x in list5:\n",
        "    print(f'ค่าตัวแปร x คือ {x} และ x+2={x+2}')"
      ],
      "execution_count": 282,
      "outputs": [
        {
          "output_type": "stream",
          "text": [
            "ค่าตัวแปร x คือ 1 และ x+2=3\n",
            "ค่าตัวแปร x คือ 2 และ x+2=4\n",
            "ค่าตัวแปร x คือ 3 และ x+2=5\n",
            "ค่าตัวแปร x คือ 4 และ x+2=6\n",
            "ค่าตัวแปร x คือ 5 และ x+2=7\n"
          ],
          "name": "stdout"
        }
      ]
    },
    {
      "cell_type": "code",
      "metadata": {
        "id": "ISwdawnSn-tR",
        "colab": {
          "base_uri": "https://localhost:8080/"
        },
        "outputId": "d6b7892c-4834-4ff0-cae8-10eb1b8529db"
      },
      "source": [
        "list(range(10))"
      ],
      "execution_count": 283,
      "outputs": [
        {
          "output_type": "execute_result",
          "data": {
            "text/plain": [
              "[0, 1, 2, 3, 4, 5, 6, 7, 8, 9]"
            ]
          },
          "metadata": {
            "tags": []
          },
          "execution_count": 283
        }
      ]
    },
    {
      "cell_type": "code",
      "metadata": {
        "id": "szaYy2oOn_7i",
        "colab": {
          "base_uri": "https://localhost:8080/"
        },
        "outputId": "43a5a3f6-2dfd-446d-fd79-a2a5c5b5ac39"
      },
      "source": [
        "for i in range(2,7):\n",
        "    print(i)"
      ],
      "execution_count": 284,
      "outputs": [
        {
          "output_type": "stream",
          "text": [
            "2\n",
            "3\n",
            "4\n",
            "5\n",
            "6\n"
          ],
          "name": "stdout"
        }
      ]
    },
    {
      "cell_type": "code",
      "metadata": {
        "id": "JCJU96LIoBK1",
        "colab": {
          "base_uri": "https://localhost:8080/"
        },
        "outputId": "3d1b50e6-ca48-4687-97b4-d4bb56c0fff8"
      },
      "source": [
        "for i in range(2,7,2):\n",
        "    print(i)"
      ],
      "execution_count": 285,
      "outputs": [
        {
          "output_type": "stream",
          "text": [
            "2\n",
            "4\n",
            "6\n"
          ],
          "name": "stdout"
        }
      ]
    },
    {
      "cell_type": "code",
      "metadata": {
        "id": "wzNlI1UQoCwy",
        "colab": {
          "base_uri": "https://localhost:8080/"
        },
        "outputId": "7a23da88-7468-4bca-a409-bcf71253a71c"
      },
      "source": [
        "for i in range(5):\n",
        "    print('hahaha')"
      ],
      "execution_count": 286,
      "outputs": [
        {
          "output_type": "stream",
          "text": [
            "hahaha\n",
            "hahaha\n",
            "hahaha\n",
            "hahaha\n",
            "hahaha\n"
          ],
          "name": "stdout"
        }
      ]
    },
    {
      "cell_type": "code",
      "metadata": {
        "id": "mjI11bkjoEJ7",
        "colab": {
          "base_uri": "https://localhost:8080/"
        },
        "outputId": "5414370e-fd9c-4bc8-e2e8-cd60dddbed5f"
      },
      "source": [
        "for i in range(5):\n",
        "    print('hahaha')\n",
        "    x = i + 3\n",
        "    print(f'i={i} x={x}')"
      ],
      "execution_count": 287,
      "outputs": [
        {
          "output_type": "stream",
          "text": [
            "hahaha\n",
            "i=0 x=3\n",
            "hahaha\n",
            "i=1 x=4\n",
            "hahaha\n",
            "i=2 x=5\n",
            "hahaha\n",
            "i=3 x=6\n",
            "hahaha\n",
            "i=4 x=7\n"
          ],
          "name": "stdout"
        }
      ]
    },
    {
      "cell_type": "markdown",
      "metadata": {
        "id": "Pnm_KDvYoG_a"
      },
      "source": [
        "## Nested **loop**"
      ]
    },
    {
      "cell_type": "code",
      "metadata": {
        "id": "DWaaILJBoFeL",
        "colab": {
          "base_uri": "https://localhost:8080/"
        },
        "outputId": "3aece3af-b21d-4162-84fb-5f742886e1e1"
      },
      "source": [
        "for i in range(3):\n",
        "    print(f'now i = {i}')\n",
        "    print('start j loop')\n",
        "    for j in range(4):\n",
        "        print(f'i = {i} j = {j} i+j = {i+j}')\n",
        "    print('end j loop')\n"
      ],
      "execution_count": 288,
      "outputs": [
        {
          "output_type": "stream",
          "text": [
            "now i = 0\n",
            "start j loop\n",
            "i = 0 j = 0 i+j = 0\n",
            "i = 0 j = 1 i+j = 1\n",
            "i = 0 j = 2 i+j = 2\n",
            "i = 0 j = 3 i+j = 3\n",
            "end j loop\n",
            "now i = 1\n",
            "start j loop\n",
            "i = 1 j = 0 i+j = 1\n",
            "i = 1 j = 1 i+j = 2\n",
            "i = 1 j = 2 i+j = 3\n",
            "i = 1 j = 3 i+j = 4\n",
            "end j loop\n",
            "now i = 2\n",
            "start j loop\n",
            "i = 2 j = 0 i+j = 2\n",
            "i = 2 j = 1 i+j = 3\n",
            "i = 2 j = 2 i+j = 4\n",
            "i = 2 j = 3 i+j = 5\n",
            "end j loop\n"
          ],
          "name": "stdout"
        }
      ]
    },
    {
      "cell_type": "markdown",
      "metadata": {
        "id": "yYDaMFNYBySO"
      },
      "source": [
        "for ตัวแปรที่จะรับค่าจาก list in list ที่จะนำมาวนลูป"
      ]
    },
    {
      "cell_type": "markdown",
      "metadata": {
        "id": "Yms5MGBOoMfj"
      },
      "source": [
        "## Condition (If Statement)**ทำข้อความเป็นตัวหนา**"
      ]
    },
    {
      "cell_type": "markdown",
      "metadata": {
        "id": "XbZ2jvB_PkgO"
      },
      "source": [
        "if เงื่อนไขที่จะตรวจสอบ ( ==, !=, <, >, <=, >=) :\n",
        "\n",
        "  ถ้าเงื่อนไขเป็นจริง ทำงาน 1\n",
        "\n",
        "  ถ้าเงื่อนไขเป็นจริง ทำงาน 2\n",
        "\n",
        "elif เงื่อนไขที่จะตรวจสอบต่อไปถ้าเงื่อนไขข้างบนไม่เป็นจริง:\n",
        "\n",
        "  ถ้าเงื่อนไขเป็นจริง ทำงาน a1\n",
        "\n",
        "  ถ้าเงื่อนไขเป็นจริง ทำงาน a2\n",
        "\n",
        "elif เงื่อนไขที่จะตรวจสอบต่อไปถ้าเงื่อนไขข้างบนไม่เป็นจริง:\n",
        "\n",
        "  ถ้าเงื่อนไขเป็นจริง ทำงาน b1\n",
        "  \n",
        "  ถ้าเงื่อนไขเป็นจริง ทำงาน b2\n",
        "\n",
        "else : #ตรวจสอบเงื่อนไขข้างบนแล้วไม่เป็นจริง\n",
        "  ทำงานที่ x"
      ]
    },
    {
      "cell_type": "code",
      "metadata": {
        "id": "HXsLFZjsoKaT"
      },
      "source": [
        "stringx = ';glsl;alfpap3qrfsd..z'\n",
        "\n",
        "if len(stringx) > 30:\n",
        "  print (f'{string} is longer than 30 charecters')"
      ],
      "execution_count": 289,
      "outputs": []
    },
    {
      "cell_type": "code",
      "metadata": {
        "id": "n93RhSuLP7db",
        "colab": {
          "base_uri": "https://localhost:8080/"
        },
        "outputId": "a12e489e-a891-424d-caea-91c21ee9271d"
      },
      "source": [
        "stringx = ';glsl;alfpap3qrfsd..z'\n",
        "\n",
        "if len(stringx) > 100:\n",
        "  print (f'{string} is longer than 100 charecters')\n",
        "else :\n",
        "  print (f'{stringx} is {len(stringx)} charecters long')"
      ],
      "execution_count": 290,
      "outputs": [
        {
          "output_type": "stream",
          "text": [
            ";glsl;alfpap3qrfsd..z is 21 charecters long\n"
          ],
          "name": "stdout"
        }
      ]
    },
    {
      "cell_type": "code",
      "metadata": {
        "id": "mwNdoITQQAWz",
        "colab": {
          "base_uri": "https://localhost:8080/"
        },
        "outputId": "10ffeed1-0041-49ea-b6e0-302f6330f1c1"
      },
      "source": [
        "password = '12345'\n",
        "\n",
        "input_pass = '123'\n",
        "if input_pass == password:\n",
        "  print('Welcome!')\n",
        "elif len(input_pass) > len(password) :\n",
        "  print ('Too long, Try again')\n",
        "elif len(input_pass) < len(password) :\n",
        "  print ('Too short, Try again')\n",
        "else :\n",
        "  print ('Wrong passwords, Try again')"
      ],
      "execution_count": 291,
      "outputs": [
        {
          "output_type": "stream",
          "text": [
            "Too short, Try again\n"
          ],
          "name": "stdout"
        }
      ]
    },
    {
      "cell_type": "code",
      "metadata": {
        "id": "OJniiWa6QATQ"
      },
      "source": [
        ""
      ],
      "execution_count": 291,
      "outputs": []
    },
    {
      "cell_type": "markdown",
      "metadata": {
        "id": "rz910Ej3N7Dg"
      },
      "source": [
        "### Quiz 1 หา min "
      ]
    },
    {
      "cell_type": "code",
      "metadata": {
        "id": "VWa5vZ39OIdC"
      },
      "source": [
        "list_ex = [1,5,9,-19,-2,0] #หาค่าที่น้อยที่สุดใน list_ex โดยไม่ใช้ function min\n"
      ],
      "execution_count": 292,
      "outputs": []
    },
    {
      "cell_type": "code",
      "metadata": {
        "id": "hrXMF4FXRsag",
        "colab": {
          "base_uri": "https://localhost:8080/"
        },
        "outputId": "5af615a1-6514-44fd-86e9-181eb5ab0c98"
      },
      "source": [
        "if list_ex[i] < list_ex[j]:\n",
        "    print(f'Min is {list_ex[i]}')\n",
        "else:\n",
        "    print(f'Min is {list_ex[j]}')\n"
      ],
      "execution_count": 293,
      "outputs": [
        {
          "output_type": "stream",
          "text": [
            "Min is -19\n"
          ],
          "name": "stdout"
        }
      ]
    },
    {
      "cell_type": "code",
      "metadata": {
        "id": "UQWdyEJMR1OA",
        "outputId": "2dbc24b6-f2f1-4dba-82bd-7f53765f82cf",
        "colab": {
          "base_uri": "https://localhost:8080/"
        }
      },
      "source": [
        "min = 1000000  #ตั้งค่าไว้ก่อนให้เยอะๆ\n",
        "print(list_ex)\n",
        "for i in list_ex:   #วนเข้าไปดูตัวที่น้อยสุด\n",
        "     print(f'now i = {i}, min = {min}')\n",
        "     print('start condition')\n",
        "     if i < min:\n",
        "        print(f'i < min, update min -> {i}')\n",
        "        min = i\n",
        "     else:\n",
        "          print('not update')\n",
        "     print('end condition, go to next i')\n",
        "\n",
        "print(min)"
      ],
      "execution_count": 294,
      "outputs": [
        {
          "output_type": "stream",
          "text": [
            "[1, 5, 9, -19, -2, 0]\n",
            "now i = 1, min = 1000000\n",
            "start condition\n",
            "i < min, update min -> 1\n",
            "end condition, go to next i\n",
            "now i = 5, min = 1\n",
            "start condition\n",
            "not update\n",
            "end condition, go to next i\n",
            "now i = 9, min = 1\n",
            "start condition\n",
            "not update\n",
            "end condition, go to next i\n",
            "now i = -19, min = 1\n",
            "start condition\n",
            "i < min, update min -> -19\n",
            "end condition, go to next i\n",
            "now i = -2, min = -19\n",
            "start condition\n",
            "not update\n",
            "end condition, go to next i\n",
            "now i = 0, min = -19\n",
            "start condition\n",
            "not update\n",
            "end condition, go to next i\n",
            "-19\n"
          ],
          "name": "stdout"
        }
      ]
    },
    {
      "cell_type": "markdown",
      "metadata": {
        "id": "w6G160JI_kI9"
      },
      "source": [
        "## HW3 **ตัดเกรด**"
      ]
    },
    {
      "cell_type": "code",
      "metadata": {
        "id": "3dl-EmBs_hzh"
      },
      "source": [
        "score = [49,65,70,95,82,55,89,20,77,77,81,59,10] #ตัดเกรด คะแนนใน list score (ใช้ if กับ for)\n"
      ],
      "execution_count": 295,
      "outputs": []
    },
    {
      "cell_type": "code",
      "metadata": {
        "id": "V_YB2nli_3Yr",
        "outputId": "95a7c31c-8b08-461e-90e1-8a9105334590",
        "colab": {
          "base_uri": "https://localhost:8080/"
        }
      },
      "source": [
        "for i in score:\n",
        "  if i >= 80:\n",
        "     print('ได้เกรด A')\n",
        "  elif i >= 75:\n",
        "      print('ได้เกรด B+')\n",
        "  elif i >= 70:\n",
        "      print('ได้เกรด B')\n",
        "  elif i >= 65:\n",
        "      print('ได้เกรด C+')\n",
        "  elif i >= 60:\n",
        "      print('ได้เกรด C')\n",
        "  elif i >= 55:\n",
        "      print('ได้เกรด D+')\n",
        "  elif i >= 50:\n",
        "      print('ได้เกรด D')\n",
        "  else:\n",
        "      print('ได้เกรด F')"
      ],
      "execution_count": 296,
      "outputs": [
        {
          "output_type": "stream",
          "text": [
            "ได้เกรด F\n",
            "ได้เกรด C+\n",
            "ได้เกรด B\n",
            "ได้เกรด A\n",
            "ได้เกรด A\n",
            "ได้เกรด D+\n",
            "ได้เกรด A\n",
            "ได้เกรด F\n",
            "ได้เกรด B+\n",
            "ได้เกรด B+\n",
            "ได้เกรด A\n",
            "ได้เกรด D+\n",
            "ได้เกรด F\n"
          ],
          "name": "stdout"
        }
      ]
    },
    {
      "cell_type": "code",
      "metadata": {
        "id": "sS-BYFa__60n"
      },
      "source": [
        ""
      ],
      "execution_count": null,
      "outputs": []
    }
  ]
}