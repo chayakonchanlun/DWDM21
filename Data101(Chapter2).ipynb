{
  "nbformat": 4,
  "nbformat_minor": 0,
  "metadata": {
    "colab": {
      "name": "Data101(Chapter2).ipynb",
      "provenance": [],
      "authorship_tag": "ABX9TyOWQ1Q71QQMAX29rkvIW6Xy",
      "include_colab_link": true
    },
    "kernelspec": {
      "name": "python3",
      "display_name": "Python 3"
    },
    "language_info": {
      "name": "python"
    }
  },
  "cells": [
    {
      "cell_type": "markdown",
      "metadata": {
        "id": "view-in-github",
        "colab_type": "text"
      },
      "source": [
        "<a href=\"https://colab.research.google.com/github/chayakonchanlun/DWDM21/blob/main/Data101(Chapter2).ipynb\" target=\"_parent\"><img src=\"https://colab.research.google.com/assets/colab-badge.svg\" alt=\"Open In Colab\"/></a>"
      ]
    },
    {
      "cell_type": "markdown",
      "metadata": {
        "id": "Jc8JydyBz0Yz"
      },
      "source": [
        "ข้อความที่อยู่ใน texboc จะเป็นภาษา markdown"
      ]
    },
    {
      "cell_type": "markdown",
      "metadata": {
        "id": "LmqAsouttxi5"
      },
      "source": [
        "ข้อดีของ python คือมี package สำหรับทำงานต่างๆ มากมาย ซึ่งpandas เป็น package สำหรับทำงานข้อมูลรูปแบบตาราง โดย pandas จะเรียกตารางนั้นว่า dataframe"
      ]
    },
    {
      "cell_type": "code",
      "metadata": {
        "id": "RSUQlLrQrwKp"
      },
      "source": [
        "import pandas # วิธีเรียกใช้  package คือ import ตามด้วยชื่อ package"
      ],
      "execution_count": 1,
      "outputs": []
    },
    {
      "cell_type": "code",
      "metadata": {
        "id": "LS6i2f3rtBZY"
      },
      "source": [
        "import pandas as pd # เหมือนกับข้างบนแต่ว่า ตั้งชื่อ packge ที่โหลดมาใหม่ว่า pd คือตัวย่อ"
      ],
      "execution_count": 2,
      "outputs": []
    },
    {
      "cell_type": "markdown",
      "metadata": {
        "id": "fPHSNpIduvi8"
      },
      "source": [
        "ไฟล์ . csv (csv = comma separated value) เป็นไฟล์หลักที่เราจะได้ใช้กันในวิชานี้"
      ]
    },
    {
      "cell_type": "code",
      "metadata": {
        "id": "hkwqjuAzutcv"
      },
      "source": [
        "data_df = pd.read_csv('data.csv')"
      ],
      "execution_count": 3,
      "outputs": []
    },
    {
      "cell_type": "code",
      "metadata": {
        "id": "J5eIo-a_xPMz",
        "colab": {
          "base_uri": "https://localhost:8080/",
          "height": 141
        },
        "outputId": "310290b6-a5cb-4bd3-a6cb-44c3c0e1c66f"
      },
      "source": [
        "data_df"
      ],
      "execution_count": 4,
      "outputs": [
        {
          "output_type": "execute_result",
          "data": {
            "text/html": [
              "<div>\n",
              "<style scoped>\n",
              "    .dataframe tbody tr th:only-of-type {\n",
              "        vertical-align: middle;\n",
              "    }\n",
              "\n",
              "    .dataframe tbody tr th {\n",
              "        vertical-align: top;\n",
              "    }\n",
              "\n",
              "    .dataframe thead th {\n",
              "        text-align: right;\n",
              "    }\n",
              "</style>\n",
              "<table border=\"1\" class=\"dataframe\">\n",
              "  <thead>\n",
              "    <tr style=\"text-align: right;\">\n",
              "      <th></th>\n",
              "      <th>name</th>\n",
              "      <th>city</th>\n",
              "    </tr>\n",
              "  </thead>\n",
              "  <tbody>\n",
              "    <tr>\n",
              "      <th>tom</th>\n",
              "      <td>27</td>\n",
              "      <td>khonkaen</td>\n",
              "    </tr>\n",
              "    <tr>\n",
              "      <th>GetNu</th>\n",
              "      <td>15</td>\n",
              "      <td>Bangkok</td>\n",
              "    </tr>\n",
              "    <tr>\n",
              "      <th>sarah</th>\n",
              "      <td>49</td>\n",
              "      <td>london</td>\n",
              "    </tr>\n",
              "  </tbody>\n",
              "</table>\n",
              "</div>"
            ],
            "text/plain": [
              "       name      city\n",
              "tom      27  khonkaen\n",
              "GetNu    15   Bangkok\n",
              "sarah    49    london"
            ]
          },
          "metadata": {
            "tags": []
          },
          "execution_count": 4
        }
      ]
    },
    {
      "cell_type": "code",
      "metadata": {
        "id": "2iBLECcuxUc1",
        "colab": {
          "base_uri": "https://localhost:8080/",
          "height": 141
        },
        "outputId": "814cbe24-77e3-4817-b657-afd47e6440a4"
      },
      "source": [
        "data_df2 = pandas.read_csv('data.csv')\n",
        "data_df2"
      ],
      "execution_count": 5,
      "outputs": [
        {
          "output_type": "execute_result",
          "data": {
            "text/html": [
              "<div>\n",
              "<style scoped>\n",
              "    .dataframe tbody tr th:only-of-type {\n",
              "        vertical-align: middle;\n",
              "    }\n",
              "\n",
              "    .dataframe tbody tr th {\n",
              "        vertical-align: top;\n",
              "    }\n",
              "\n",
              "    .dataframe thead th {\n",
              "        text-align: right;\n",
              "    }\n",
              "</style>\n",
              "<table border=\"1\" class=\"dataframe\">\n",
              "  <thead>\n",
              "    <tr style=\"text-align: right;\">\n",
              "      <th></th>\n",
              "      <th>name</th>\n",
              "      <th>city</th>\n",
              "    </tr>\n",
              "  </thead>\n",
              "  <tbody>\n",
              "    <tr>\n",
              "      <th>tom</th>\n",
              "      <td>27</td>\n",
              "      <td>khonkaen</td>\n",
              "    </tr>\n",
              "    <tr>\n",
              "      <th>GetNu</th>\n",
              "      <td>15</td>\n",
              "      <td>Bangkok</td>\n",
              "    </tr>\n",
              "    <tr>\n",
              "      <th>sarah</th>\n",
              "      <td>49</td>\n",
              "      <td>london</td>\n",
              "    </tr>\n",
              "  </tbody>\n",
              "</table>\n",
              "</div>"
            ],
            "text/plain": [
              "       name      city\n",
              "tom      27  khonkaen\n",
              "GetNu    15   Bangkok\n",
              "sarah    49    london"
            ]
          },
          "metadata": {
            "tags": []
          },
          "execution_count": 5
        }
      ]
    },
    {
      "cell_type": "markdown",
      "metadata": {
        "id": "T1-l8tZdzs16"
      },
      "source": [
        "# Basic Python\n",
        "## variable"
      ]
    },
    {
      "cell_type": "markdown",
      "metadata": {
        "id": "JbqdlK1t1pFe"
      },
      "source": [
        "กำหนดในการตั้งชื่อตัวแปร\n",
        "\n",
        "1. ชื่อห้ามมีเว้นวรรค\n",
        "2. ใช้ภาษาอังกฤษ\n",
        "3. ตัวเล็กกับตัวใหญ่แตกต่างกัน\n",
        "4. ห้ามใช้ตัวเลขเป็นตัวหน้า"
      ]
    },
    {
      "cell_type": "code",
      "metadata": {
        "id": "ohNhigyOyRYh"
      },
      "source": [
        "variable_a = 12\n",
        "varible_b = 'abcde' # ' เรียกว่า quote\n",
        "variable_c = variable_a"
      ],
      "execution_count": 6,
      "outputs": []
    },
    {
      "cell_type": "code",
      "metadata": {
        "id": "KZU1bXZO0T_H",
        "colab": {
          "base_uri": "https://localhost:8080/"
        },
        "outputId": "af8b8215-0dca-4e3c-bb09-acaccda4d191"
      },
      "source": [
        "variable_a"
      ],
      "execution_count": 7,
      "outputs": [
        {
          "output_type": "execute_result",
          "data": {
            "text/plain": [
              "12"
            ]
          },
          "metadata": {
            "tags": []
          },
          "execution_count": 7
        }
      ]
    },
    {
      "cell_type": "code",
      "metadata": {
        "id": "1f0nS2JS1OV-",
        "colab": {
          "base_uri": "https://localhost:8080/",
          "height": 34
        },
        "outputId": "348b6952-1778-4304-ed6b-472a230d787c"
      },
      "source": [
        "varible_b"
      ],
      "execution_count": 8,
      "outputs": [
        {
          "output_type": "execute_result",
          "data": {
            "application/vnd.google.colaboratory.intrinsic+json": {
              "type": "string"
            },
            "text/plain": [
              "'abcde'"
            ]
          },
          "metadata": {
            "tags": []
          },
          "execution_count": 8
        }
      ]
    },
    {
      "cell_type": "code",
      "metadata": {
        "id": "q1O_Op911Pzm",
        "colab": {
          "base_uri": "https://localhost:8080/"
        },
        "outputId": "fefe8d20-d28d-4643-f629-5496b123cc22"
      },
      "source": [
        "variable_c"
      ],
      "execution_count": 9,
      "outputs": [
        {
          "output_type": "execute_result",
          "data": {
            "text/plain": [
              "12"
            ]
          },
          "metadata": {
            "tags": []
          },
          "execution_count": 9
        }
      ]
    },
    {
      "cell_type": "code",
      "metadata": {
        "id": "5DVey1YF1SZ5"
      },
      "source": [
        "# colab ใช้ภาษาไทยเป็นชื่อตัวแปรได้ แต่ไม่ควรใช้\n",
        "# colab พยามใช้ภาษาอังกฤษ"
      ],
      "execution_count": 10,
      "outputs": []
    },
    {
      "cell_type": "code",
      "metadata": {
        "id": "CMQ0lUwY27f1"
      },
      "source": [
        "variable_a = 12\n",
        "variable_b = 'abcde'\n",
        "variable_c = variable_a\n",
        "variable_d = -41.2\n",
        "variable_4 = \"kku\" # \"\" เรียกว้า double quote\n",
        "\n"
      ],
      "execution_count": 11,
      "outputs": []
    },
    {
      "cell_type": "code",
      "metadata": {
        "id": "MmcjYPN25k1g",
        "colab": {
          "base_uri": "https://localhost:8080/"
        },
        "outputId": "8548f650-d859-4ffb-de9e-5a1da1e20030"
      },
      "source": [
        "variable_x = variable_c + variable_d\n",
        "print(variable_x)"
      ],
      "execution_count": 12,
      "outputs": [
        {
          "output_type": "stream",
          "text": [
            "-29.200000000000003\n"
          ],
          "name": "stdout"
        }
      ]
    },
    {
      "cell_type": "markdown",
      "metadata": {
        "id": "jkLL31na9Dto"
      },
      "source": [
        "# Data structure\n",
        "list()"
      ]
    },
    {
      "cell_type": "code",
      "metadata": {
        "id": "Y2JaHoyM521a"
      },
      "source": [
        "list_a = [1,2,0.2,'abc' ] #[] คือ square brackers\n",
        "list_b = [2,'xyz',list_a,[1,2,0.0]]"
      ],
      "execution_count": 13,
      "outputs": []
    },
    {
      "cell_type": "code",
      "metadata": {
        "id": "afLQyxse93UU",
        "colab": {
          "base_uri": "https://localhost:8080/"
        },
        "outputId": "aba658a9-5cd7-4268-ec28-0bbd780d0d29"
      },
      "source": [
        "list_a\n"
      ],
      "execution_count": 14,
      "outputs": [
        {
          "output_type": "execute_result",
          "data": {
            "text/plain": [
              "[1, 2, 0.2, 'abc']"
            ]
          },
          "metadata": {
            "tags": []
          },
          "execution_count": 14
        }
      ]
    },
    {
      "cell_type": "code",
      "metadata": {
        "id": "9yZOlkAj95eu",
        "colab": {
          "base_uri": "https://localhost:8080/"
        },
        "outputId": "5d17902f-f00f-4ea3-8885-36257c1047cb"
      },
      "source": [
        "list_b"
      ],
      "execution_count": 15,
      "outputs": [
        {
          "output_type": "execute_result",
          "data": {
            "text/plain": [
              "[2, 'xyz', [1, 2, 0.2, 'abc'], [1, 2, 0.0]]"
            ]
          },
          "metadata": {
            "tags": []
          },
          "execution_count": 15
        }
      ]
    },
    {
      "cell_type": "code",
      "metadata": {
        "id": "oK5426RJ-Pty",
        "colab": {
          "base_uri": "https://localhost:8080/"
        },
        "outputId": "1af4f7a8-3572-4148-cda2-d66fa6b0b088"
      },
      "source": [
        "len(list_b) #คือคำสั่งบอกจำนวนสมาชิกใน list นั้น"
      ],
      "execution_count": 16,
      "outputs": [
        {
          "output_type": "execute_result",
          "data": {
            "text/plain": [
              "4"
            ]
          },
          "metadata": {
            "tags": []
          },
          "execution_count": 16
        }
      ]
    },
    {
      "cell_type": "code",
      "metadata": {
        "id": "oIiIwFrE-X4o",
        "colab": {
          "base_uri": "https://localhost:8080/"
        },
        "outputId": "1f38ede8-b1d0-40f6-e913-e321e5fff04c"
      },
      "source": [
        "list_b[3]"
      ],
      "execution_count": 17,
      "outputs": [
        {
          "output_type": "execute_result",
          "data": {
            "text/plain": [
              "[1, 2, 0.0]"
            ]
          },
          "metadata": {
            "tags": []
          },
          "execution_count": 17
        }
      ]
    },
    {
      "cell_type": "code",
      "metadata": {
        "id": "HwbmtzjC-f9e",
        "colab": {
          "base_uri": "https://localhost:8080/"
        },
        "outputId": "aaa82507-29a3-4270-eaf3-2dbfae3e2f74"
      },
      "source": [
        "list_b[3][1]"
      ],
      "execution_count": 18,
      "outputs": [
        {
          "output_type": "execute_result",
          "data": {
            "text/plain": [
              "2"
            ]
          },
          "metadata": {
            "tags": []
          },
          "execution_count": 18
        }
      ]
    },
    {
      "cell_type": "markdown",
      "metadata": {
        "id": "hxID3AHv-M6q"
      },
      "source": [
        "## string คือ list ของตัวหนังสือ "
      ]
    },
    {
      "cell_type": "code",
      "metadata": {
        "id": "57kaJQy4--Bg"
      },
      "source": [
        "a = 'Stat KKU'"
      ],
      "execution_count": 19,
      "outputs": []
    },
    {
      "cell_type": "code",
      "metadata": {
        "id": "IYzHq9HI_DTx",
        "colab": {
          "base_uri": "https://localhost:8080/",
          "height": 0
        },
        "outputId": "a33cc41a-3780-4b62-cef5-bf09e1f5f5e0"
      },
      "source": [
        "a[4]"
      ],
      "execution_count": 20,
      "outputs": [
        {
          "output_type": "execute_result",
          "data": {
            "application/vnd.google.colaboratory.intrinsic+json": {
              "type": "string"
            },
            "text/plain": [
              "' '"
            ]
          },
          "metadata": {
            "tags": []
          },
          "execution_count": 20
        }
      ]
    },
    {
      "cell_type": "markdown",
      "metadata": {
        "id": "Oj59gfjym4Zl"
      },
      "source": [
        "## วิธีสร้าง list **ว่าง**"
      ]
    },
    {
      "cell_type": "code",
      "metadata": {
        "id": "GZrW8qvXm4Bl"
      },
      "source": [
        "list_c = list() #แบบที่ 1\n",
        "list_d = [] #แบบที่ 2"
      ],
      "execution_count": 21,
      "outputs": []
    },
    {
      "cell_type": "code",
      "metadata": {
        "id": "jBJYwswJm-BQ",
        "colab": {
          "base_uri": "https://localhost:8080/"
        },
        "outputId": "d746cc3a-b456-4103-8c9d-d6de5d113863"
      },
      "source": [
        "list_c"
      ],
      "execution_count": 22,
      "outputs": [
        {
          "output_type": "execute_result",
          "data": {
            "text/plain": [
              "[]"
            ]
          },
          "metadata": {
            "tags": []
          },
          "execution_count": 22
        }
      ]
    },
    {
      "cell_type": "code",
      "metadata": {
        "id": "ytt9Nb7bm9w4",
        "colab": {
          "base_uri": "https://localhost:8080/"
        },
        "outputId": "18271f6e-6da0-4383-a5ac-6d67b84533d9"
      },
      "source": [
        "\n",
        "list_d"
      ],
      "execution_count": 23,
      "outputs": [
        {
          "output_type": "execute_result",
          "data": {
            "text/plain": [
              "[]"
            ]
          },
          "metadata": {
            "tags": []
          },
          "execution_count": 23
        }
      ]
    },
    {
      "cell_type": "markdown",
      "metadata": {
        "id": "xA7Z3sUrAfEn"
      },
      "source": [
        "เติมค่าลงไปใน list (.append)"
      ]
    },
    {
      "cell_type": "code",
      "metadata": {
        "id": "JDNJm5O9A_mW"
      },
      "source": [
        "list_d.append('a')"
      ],
      "execution_count": 24,
      "outputs": []
    },
    {
      "cell_type": "code",
      "metadata": {
        "id": "XDu9aSJNnCok",
        "colab": {
          "base_uri": "https://localhost:8080/"
        },
        "outputId": "bd8a82ee-aa3e-4acc-81a4-479a85cbdfe3"
      },
      "source": [
        "list_d"
      ],
      "execution_count": 25,
      "outputs": [
        {
          "output_type": "execute_result",
          "data": {
            "text/plain": [
              "['a']"
            ]
          },
          "metadata": {
            "tags": []
          },
          "execution_count": 25
        }
      ]
    },
    {
      "cell_type": "code",
      "metadata": {
        "id": "8MUeSnxXnENV"
      },
      "source": [
        "list_d.append(56)\n"
      ],
      "execution_count": 26,
      "outputs": []
    },
    {
      "cell_type": "code",
      "metadata": {
        "id": "3IzcoqmHnFxr",
        "colab": {
          "base_uri": "https://localhost:8080/"
        },
        "outputId": "d7a0bdb5-e774-4a75-a1d5-056a1390d20a"
      },
      "source": [
        "list_d\n"
      ],
      "execution_count": 27,
      "outputs": [
        {
          "output_type": "execute_result",
          "data": {
            "text/plain": [
              "['a', 56]"
            ]
          },
          "metadata": {
            "tags": []
          },
          "execution_count": 27
        }
      ]
    },
    {
      "cell_type": "markdown",
      "metadata": {
        "id": "YHqupV_3nJXe"
      },
      "source": [
        "การชี้ค่าใน list (indexing)\n",
        "\n",
        "ใช้ลำดับในการชี้\n",
        "\n",
        "ลำดับเริ่มจาก 0\n",
        "\n",
        "สามารถชี้จากข้างหลังได้โดยใช้ negative index"
      ]
    },
    {
      "cell_type": "code",
      "metadata": {
        "id": "V6N88it9nHb7",
        "colab": {
          "base_uri": "https://localhost:8080/"
        },
        "outputId": "3532b070-7599-4037-84f2-ca976d04f2cd"
      },
      "source": [
        "list_b"
      ],
      "execution_count": 28,
      "outputs": [
        {
          "output_type": "execute_result",
          "data": {
            "text/plain": [
              "[2, 'xyz', [1, 2, 0.2, 'abc'], [1, 2, 0.0]]"
            ]
          },
          "metadata": {
            "tags": []
          },
          "execution_count": 28
        }
      ]
    },
    {
      "cell_type": "code",
      "metadata": {
        "id": "SGcrlM-8nNGz",
        "colab": {
          "base_uri": "https://localhost:8080/"
        },
        "outputId": "b607f98f-94e3-4d2d-aca6-5915176b7902"
      },
      "source": [
        "list_b[-1]"
      ],
      "execution_count": 29,
      "outputs": [
        {
          "output_type": "execute_result",
          "data": {
            "text/plain": [
              "[1, 2, 0.0]"
            ]
          },
          "metadata": {
            "tags": []
          },
          "execution_count": 29
        }
      ]
    },
    {
      "cell_type": "markdown",
      "metadata": {
        "id": "-YImnuN7nPoR"
      },
      "source": [
        "## list **slicing**"
      ]
    },
    {
      "cell_type": "code",
      "metadata": {
        "id": "IXz6NdVynORK"
      },
      "source": [
        "list_ex = [1,2,3,5,6,8,-1,20,50,0]"
      ],
      "execution_count": 30,
      "outputs": []
    },
    {
      "cell_type": "markdown",
      "metadata": {
        "id": "gmBarB1YngjT"
      },
      "source": [
        "เราจะตัดlist โดยเอาตั้งแต่ [ตัวหน้า:ตัวก่อนตัวหลัง]\n",
        "ถ้าเป็นสัญลักษณ์คณิตศาสตร์ [ตัวหน้า:ตัวหลัง] -> [ตัวหน้า,ตัวหลัง)"
      ]
    },
    {
      "cell_type": "code",
      "metadata": {
        "id": "OQSl3QirnePH",
        "colab": {
          "base_uri": "https://localhost:8080/"
        },
        "outputId": "e9088ddf-959c-42c2-ec59-5521dcff6a89"
      },
      "source": [
        "list_ex[1:6]"
      ],
      "execution_count": 31,
      "outputs": [
        {
          "output_type": "execute_result",
          "data": {
            "text/plain": [
              "[2, 3, 5, 6, 8]"
            ]
          },
          "metadata": {
            "tags": []
          },
          "execution_count": 31
        }
      ]
    },
    {
      "cell_type": "code",
      "metadata": {
        "id": "WiIWu9O5niJG",
        "colab": {
          "base_uri": "https://localhost:8080/"
        },
        "outputId": "ea394430-63b1-4578-f0e2-b8c1748bba1c"
      },
      "source": [
        "list_ex[4:]"
      ],
      "execution_count": 32,
      "outputs": [
        {
          "output_type": "execute_result",
          "data": {
            "text/plain": [
              "[6, 8, -1, 20, 50, 0]"
            ]
          },
          "metadata": {
            "tags": []
          },
          "execution_count": 32
        }
      ]
    },
    {
      "cell_type": "code",
      "metadata": {
        "id": "8jhUUKR5njRq",
        "colab": {
          "base_uri": "https://localhost:8080/"
        },
        "outputId": "6827ec8b-2042-4c65-e988-315ddc933732"
      },
      "source": [
        "list_ex[:6]"
      ],
      "execution_count": 33,
      "outputs": [
        {
          "output_type": "execute_result",
          "data": {
            "text/plain": [
              "[1, 2, 3, 5, 6, 8]"
            ]
          },
          "metadata": {
            "tags": []
          },
          "execution_count": 33
        }
      ]
    },
    {
      "cell_type": "code",
      "metadata": {
        "id": "UbhYCaETnkZF",
        "colab": {
          "base_uri": "https://localhost:8080/"
        },
        "outputId": "37af4917-fdbf-4fc8-e45e-8560d3daebec"
      },
      "source": [
        "list_ex"
      ],
      "execution_count": 34,
      "outputs": [
        {
          "output_type": "execute_result",
          "data": {
            "text/plain": [
              "[1, 2, 3, 5, 6, 8, -1, 20, 50, 0]"
            ]
          },
          "metadata": {
            "tags": []
          },
          "execution_count": 34
        }
      ]
    },
    {
      "cell_type": "code",
      "metadata": {
        "id": "X4kgDGpanlfS",
        "colab": {
          "base_uri": "https://localhost:8080/"
        },
        "outputId": "a550bdab-5abe-4358-bd70-41529c4d3f80"
      },
      "source": [
        "list_ex[::2]"
      ],
      "execution_count": 35,
      "outputs": [
        {
          "output_type": "execute_result",
          "data": {
            "text/plain": [
              "[1, 3, 6, -1, 50]"
            ]
          },
          "metadata": {
            "tags": []
          },
          "execution_count": 35
        }
      ]
    },
    {
      "cell_type": "code",
      "metadata": {
        "id": "Zr3ldbGUnm_-",
        "colab": {
          "base_uri": "https://localhost:8080/"
        },
        "outputId": "216fafe3-1696-4f70-f43d-27cc412e3658"
      },
      "source": [
        "list_ex[::-1]  # การกลับ list"
      ],
      "execution_count": 36,
      "outputs": [
        {
          "output_type": "execute_result",
          "data": {
            "text/plain": [
              "[0, 50, 20, -1, 8, 6, 5, 3, 2, 1]"
            ]
          },
          "metadata": {
            "tags": []
          },
          "execution_count": 36
        }
      ]
    },
    {
      "cell_type": "code",
      "metadata": {
        "id": "gvYkky97noxl",
        "colab": {
          "base_uri": "https://localhost:8080/",
          "height": 0
        },
        "outputId": "aaabd439-7e5a-4ee2-c72b-94bc8762f771"
      },
      "source": [
        "a"
      ],
      "execution_count": 37,
      "outputs": [
        {
          "output_type": "execute_result",
          "data": {
            "application/vnd.google.colaboratory.intrinsic+json": {
              "type": "string"
            },
            "text/plain": [
              "'Stat KKU'"
            ]
          },
          "metadata": {
            "tags": []
          },
          "execution_count": 37
        }
      ]
    },
    {
      "cell_type": "code",
      "metadata": {
        "id": "k2m4BCY7nqDY",
        "colab": {
          "base_uri": "https://localhost:8080/",
          "height": 0
        },
        "outputId": "528d3eef-32b1-4700-9ca2-a45218a064c8"
      },
      "source": [
        "a[5:]"
      ],
      "execution_count": 38,
      "outputs": [
        {
          "output_type": "execute_result",
          "data": {
            "application/vnd.google.colaboratory.intrinsic+json": {
              "type": "string"
            },
            "text/plain": [
              "'KKU'"
            ]
          },
          "metadata": {
            "tags": []
          },
          "execution_count": 38
        }
      ]
    },
    {
      "cell_type": "code",
      "metadata": {
        "id": "MB08XD06nrmW",
        "colab": {
          "base_uri": "https://localhost:8080/",
          "height": 0
        },
        "outputId": "3ca5d3bb-08de-4736-e294-c9776c545672"
      },
      "source": [
        "a[-3:]"
      ],
      "execution_count": 39,
      "outputs": [
        {
          "output_type": "execute_result",
          "data": {
            "application/vnd.google.colaboratory.intrinsic+json": {
              "type": "string"
            },
            "text/plain": [
              "'KKU'"
            ]
          },
          "metadata": {
            "tags": []
          },
          "execution_count": 39
        }
      ]
    },
    {
      "cell_type": "code",
      "metadata": {
        "id": "lFv-qScfns1z",
        "colab": {
          "base_uri": "https://localhost:8080/",
          "height": 0
        },
        "outputId": "8a3ad542-c8e7-4166-da58-52d1c8b96a78"
      },
      "source": [
        "a[5:8]"
      ],
      "execution_count": 40,
      "outputs": [
        {
          "output_type": "execute_result",
          "data": {
            "application/vnd.google.colaboratory.intrinsic+json": {
              "type": "string"
            },
            "text/plain": [
              "'KKU'"
            ]
          },
          "metadata": {
            "tags": []
          },
          "execution_count": 40
        }
      ]
    },
    {
      "cell_type": "code",
      "metadata": {
        "id": "Jp1G5SNEnuRW",
        "colab": {
          "base_uri": "https://localhost:8080/",
          "height": 0
        },
        "outputId": "afd981e4-9a7f-4771-fbc4-e882fc20ea7c"
      },
      "source": [
        "a[5::]"
      ],
      "execution_count": 41,
      "outputs": [
        {
          "output_type": "execute_result",
          "data": {
            "application/vnd.google.colaboratory.intrinsic+json": {
              "type": "string"
            },
            "text/plain": [
              "'KKU'"
            ]
          },
          "metadata": {
            "tags": []
          },
          "execution_count": 41
        }
      ]
    },
    {
      "cell_type": "markdown",
      "metadata": {
        "id": "ZeyqlfQYnyTm"
      },
      "source": [
        "## list + **list**"
      ]
    },
    {
      "cell_type": "code",
      "metadata": {
        "id": "QMg3kugTnwYm",
        "colab": {
          "base_uri": "https://localhost:8080/"
        },
        "outputId": "3d5ab097-29fb-449e-febe-a84212b9bbb2"
      },
      "source": [
        "print(list_a)\n",
        "print(list_b)"
      ],
      "execution_count": 42,
      "outputs": [
        {
          "output_type": "stream",
          "text": [
            "[1, 2, 0.2, 'abc']\n",
            "[2, 'xyz', [1, 2, 0.2, 'abc'], [1, 2, 0.0]]\n"
          ],
          "name": "stdout"
        }
      ]
    },
    {
      "cell_type": "code",
      "metadata": {
        "id": "nsnV7553n0Qv",
        "colab": {
          "base_uri": "https://localhost:8080/"
        },
        "outputId": "45c5493c-235b-402c-a1ff-4f63e912892c"
      },
      "source": [
        "list_a + list_b"
      ],
      "execution_count": 43,
      "outputs": [
        {
          "output_type": "execute_result",
          "data": {
            "text/plain": [
              "[1, 2, 0.2, 'abc', 2, 'xyz', [1, 2, 0.2, 'abc'], [1, 2, 0.0]]"
            ]
          },
          "metadata": {
            "tags": []
          },
          "execution_count": 43
        }
      ]
    },
    {
      "cell_type": "code",
      "metadata": {
        "id": "ZMMGQ3rkn1t1",
        "colab": {
          "base_uri": "https://localhost:8080/",
          "height": 0
        },
        "outputId": "36e6ad03-d6c2-4b18-b068-9a47b5d0307a"
      },
      "source": [
        "f'ตัวแปร list_a มีค่าคือ {list_a}'"
      ],
      "execution_count": 44,
      "outputs": [
        {
          "output_type": "execute_result",
          "data": {
            "application/vnd.google.colaboratory.intrinsic+json": {
              "type": "string"
            },
            "text/plain": [
              "\"ตัวแปร list_a มีค่าคือ [1, 2, 0.2, 'abc']\""
            ]
          },
          "metadata": {
            "tags": []
          },
          "execution_count": 44
        }
      ]
    },
    {
      "cell_type": "markdown",
      "metadata": {
        "id": "U30LLFrzn5eG"
      },
      "source": [
        "## **Loop**"
      ]
    },
    {
      "cell_type": "code",
      "metadata": {
        "id": "4kie7birn3uy",
        "colab": {
          "base_uri": "https://localhost:8080/"
        },
        "outputId": "4c22a221-24dd-434e-a276-5093d4f1c7f6"
      },
      "source": [
        "for i in [1,2,3,4,5]:\n",
        "    print(i+1)"
      ],
      "execution_count": 45,
      "outputs": [
        {
          "output_type": "stream",
          "text": [
            "2\n",
            "3\n",
            "4\n",
            "5\n",
            "6\n"
          ],
          "name": "stdout"
        }
      ]
    },
    {
      "cell_type": "code",
      "metadata": {
        "id": "eqMCVbDSn7_D",
        "colab": {
          "base_uri": "https://localhost:8080/"
        },
        "outputId": "53729a9d-343f-46b7-dbb7-2e157e328681"
      },
      "source": [
        "for x in [1,2,3,4,5]:\n",
        "    print(f'ค่าตัวแปร x คือ {x} และ x+2={x+2}')"
      ],
      "execution_count": 46,
      "outputs": [
        {
          "output_type": "stream",
          "text": [
            "ค่าตัวแปร x คือ 1 และ x+2=3\n",
            "ค่าตัวแปร x คือ 2 และ x+2=4\n",
            "ค่าตัวแปร x คือ 3 และ x+2=5\n",
            "ค่าตัวแปร x คือ 4 และ x+2=6\n",
            "ค่าตัวแปร x คือ 5 และ x+2=7\n"
          ],
          "name": "stdout"
        }
      ]
    },
    {
      "cell_type": "code",
      "metadata": {
        "id": "MgFZ3azxn9hK",
        "colab": {
          "base_uri": "https://localhost:8080/"
        },
        "outputId": "5c099925-6246-4bc6-9cf7-5894305c4383"
      },
      "source": [
        "list5=[1,2,3,4,5]\n",
        "for x in list5:\n",
        "    print(f'ค่าตัวแปร x คือ {x} และ x+2={x+2}')"
      ],
      "execution_count": 47,
      "outputs": [
        {
          "output_type": "stream",
          "text": [
            "ค่าตัวแปร x คือ 1 และ x+2=3\n",
            "ค่าตัวแปร x คือ 2 และ x+2=4\n",
            "ค่าตัวแปร x คือ 3 และ x+2=5\n",
            "ค่าตัวแปร x คือ 4 และ x+2=6\n",
            "ค่าตัวแปร x คือ 5 และ x+2=7\n"
          ],
          "name": "stdout"
        }
      ]
    },
    {
      "cell_type": "code",
      "metadata": {
        "id": "ISwdawnSn-tR",
        "colab": {
          "base_uri": "https://localhost:8080/"
        },
        "outputId": "d94f5749-a616-4c9e-ec95-f353971b0e82"
      },
      "source": [
        "list(range(10))"
      ],
      "execution_count": 48,
      "outputs": [
        {
          "output_type": "execute_result",
          "data": {
            "text/plain": [
              "[0, 1, 2, 3, 4, 5, 6, 7, 8, 9]"
            ]
          },
          "metadata": {
            "tags": []
          },
          "execution_count": 48
        }
      ]
    },
    {
      "cell_type": "code",
      "metadata": {
        "id": "szaYy2oOn_7i",
        "colab": {
          "base_uri": "https://localhost:8080/"
        },
        "outputId": "df71cac1-2dfe-49ea-8c3c-2407b6505aa6"
      },
      "source": [
        "for i in range(2,7):\n",
        "    print(i)"
      ],
      "execution_count": 49,
      "outputs": [
        {
          "output_type": "stream",
          "text": [
            "2\n",
            "3\n",
            "4\n",
            "5\n",
            "6\n"
          ],
          "name": "stdout"
        }
      ]
    },
    {
      "cell_type": "code",
      "metadata": {
        "id": "JCJU96LIoBK1",
        "colab": {
          "base_uri": "https://localhost:8080/"
        },
        "outputId": "bbedf6d2-4c71-4bd8-9713-b13e90a43c6e"
      },
      "source": [
        "for i in range(2,7,2):\n",
        "    print(i)"
      ],
      "execution_count": 50,
      "outputs": [
        {
          "output_type": "stream",
          "text": [
            "2\n",
            "4\n",
            "6\n"
          ],
          "name": "stdout"
        }
      ]
    },
    {
      "cell_type": "code",
      "metadata": {
        "id": "wzNlI1UQoCwy",
        "colab": {
          "base_uri": "https://localhost:8080/"
        },
        "outputId": "e827fc26-e6ed-49b3-d18c-8c7c7e67387a"
      },
      "source": [
        "for i in range(5):\n",
        "    print('hahaha')"
      ],
      "execution_count": 51,
      "outputs": [
        {
          "output_type": "stream",
          "text": [
            "hahaha\n",
            "hahaha\n",
            "hahaha\n",
            "hahaha\n",
            "hahaha\n"
          ],
          "name": "stdout"
        }
      ]
    },
    {
      "cell_type": "code",
      "metadata": {
        "id": "mjI11bkjoEJ7",
        "colab": {
          "base_uri": "https://localhost:8080/"
        },
        "outputId": "02b7adbd-d3d4-4bd5-ce18-04c4da7a4a9a"
      },
      "source": [
        "for i in range(5):\n",
        "    print('hahaha')\n",
        "    x = i + 3\n",
        "    print(f'i={i} x={x}')"
      ],
      "execution_count": 52,
      "outputs": [
        {
          "output_type": "stream",
          "text": [
            "hahaha\n",
            "i=0 x=3\n",
            "hahaha\n",
            "i=1 x=4\n",
            "hahaha\n",
            "i=2 x=5\n",
            "hahaha\n",
            "i=3 x=6\n",
            "hahaha\n",
            "i=4 x=7\n"
          ],
          "name": "stdout"
        }
      ]
    },
    {
      "cell_type": "markdown",
      "metadata": {
        "id": "Pnm_KDvYoG_a"
      },
      "source": [
        "## Nested **loop**"
      ]
    },
    {
      "cell_type": "code",
      "metadata": {
        "id": "DWaaILJBoFeL",
        "colab": {
          "base_uri": "https://localhost:8080/"
        },
        "outputId": "c59480dd-32cd-430c-c1bb-372dd7f52cd6"
      },
      "source": [
        "for i in range(3):\n",
        "    print(f'now i = {i}')\n",
        "    print('start j loop')\n",
        "    for j in range(4):\n",
        "        print(f'i = {i} j = {j} i+j = {i+j}')\n",
        "    print('end j loop')\n"
      ],
      "execution_count": 53,
      "outputs": [
        {
          "output_type": "stream",
          "text": [
            "now i = 0\n",
            "start j loop\n",
            "i = 0 j = 0 i+j = 0\n",
            "i = 0 j = 1 i+j = 1\n",
            "i = 0 j = 2 i+j = 2\n",
            "i = 0 j = 3 i+j = 3\n",
            "end j loop\n",
            "now i = 1\n",
            "start j loop\n",
            "i = 1 j = 0 i+j = 1\n",
            "i = 1 j = 1 i+j = 2\n",
            "i = 1 j = 2 i+j = 3\n",
            "i = 1 j = 3 i+j = 4\n",
            "end j loop\n",
            "now i = 2\n",
            "start j loop\n",
            "i = 2 j = 0 i+j = 2\n",
            "i = 2 j = 1 i+j = 3\n",
            "i = 2 j = 2 i+j = 4\n",
            "i = 2 j = 3 i+j = 5\n",
            "end j loop\n"
          ],
          "name": "stdout"
        }
      ]
    },
    {
      "cell_type": "markdown",
      "metadata": {
        "id": "yYDaMFNYBySO"
      },
      "source": [
        "for ตัวแปรที่จะรับค่าจาก list in list ที่จะนำมาวนลูป"
      ]
    },
    {
      "cell_type": "markdown",
      "metadata": {
        "id": "Yms5MGBOoMfj"
      },
      "source": [
        "## Condition (If Statement)**ทำข้อความเป็นตัวหนา**"
      ]
    },
    {
      "cell_type": "markdown",
      "metadata": {
        "id": "XbZ2jvB_PkgO"
      },
      "source": [
        "if เงื่อนไขที่จะตรวจสอบ ( ==, !=, <, >, <=, >=) :\n",
        "\n",
        "  ถ้าเงื่อนไขเป็นจริง ทำงาน 1\n",
        "\n",
        "  ถ้าเงื่อนไขเป็นจริง ทำงาน 2\n",
        "\n",
        "elif เงื่อนไขที่จะตรวจสอบต่อไปถ้าเงื่อนไขข้างบนไม่เป็นจริง:\n",
        "\n",
        "  ถ้าเงื่อนไขเป็นจริง ทำงาน a1\n",
        "\n",
        "  ถ้าเงื่อนไขเป็นจริง ทำงาน a2\n",
        "\n",
        "elif เงื่อนไขที่จะตรวจสอบต่อไปถ้าเงื่อนไขข้างบนไม่เป็นจริง:\n",
        "\n",
        "  ถ้าเงื่อนไขเป็นจริง ทำงาน b1\n",
        "  \n",
        "  ถ้าเงื่อนไขเป็นจริง ทำงาน b2\n",
        "\n",
        "else : #ตรวจสอบเงื่อนไขข้างบนแล้วไม่เป็นจริง\n",
        "  ทำงานที่ x"
      ]
    },
    {
      "cell_type": "code",
      "metadata": {
        "id": "HXsLFZjsoKaT"
      },
      "source": [
        "stringx = ';glsl;alfpap3qrfsd..z'\n",
        "\n",
        "if len(stringx) > 30:\n",
        "  print (f'{string} is longer than 30 charecters')"
      ],
      "execution_count": 54,
      "outputs": []
    },
    {
      "cell_type": "code",
      "metadata": {
        "id": "n93RhSuLP7db",
        "colab": {
          "base_uri": "https://localhost:8080/"
        },
        "outputId": "b9c3c629-f4d2-41a8-d0c1-6d92ba446f75"
      },
      "source": [
        "stringx = ';glsl;alfpap3qrfsd..z'\n",
        "\n",
        "if len(stringx) > 100:\n",
        "  print (f'{string} is longer than 100 charecters')\n",
        "else :\n",
        "  print (f'{stringx} is {len(stringx)} charecters long')"
      ],
      "execution_count": 55,
      "outputs": [
        {
          "output_type": "stream",
          "text": [
            ";glsl;alfpap3qrfsd..z is 21 charecters long\n"
          ],
          "name": "stdout"
        }
      ]
    },
    {
      "cell_type": "code",
      "metadata": {
        "id": "mwNdoITQQAWz",
        "colab": {
          "base_uri": "https://localhost:8080/"
        },
        "outputId": "60c723cb-0765-40c9-c5b3-35d9f40991d7"
      },
      "source": [
        "password = '12345'\n",
        "\n",
        "input_pass = '123'\n",
        "if input_pass == password:\n",
        "  print('Welcome!')\n",
        "elif len(input_pass) > len(password) :\n",
        "  print ('Too long, Try again')\n",
        "elif len(input_pass) < len(password) :\n",
        "  print ('Too short, Try again')\n",
        "else :\n",
        "  print ('Wrong passwords, Try again')"
      ],
      "execution_count": 56,
      "outputs": [
        {
          "output_type": "stream",
          "text": [
            "Too short, Try again\n"
          ],
          "name": "stdout"
        }
      ]
    },
    {
      "cell_type": "code",
      "metadata": {
        "id": "OJniiWa6QATQ"
      },
      "source": [
        ""
      ],
      "execution_count": 56,
      "outputs": []
    },
    {
      "cell_type": "markdown",
      "metadata": {
        "id": "rz910Ej3N7Dg"
      },
      "source": [
        "### Quiz 1 หา min "
      ]
    },
    {
      "cell_type": "code",
      "metadata": {
        "id": "VWa5vZ39OIdC"
      },
      "source": [
        "list_ex = [1,5,9,-19,-2,0] #หาค่าที่น้อยที่สุดใน list_ex โดยไม่ใช้ function min\n"
      ],
      "execution_count": 57,
      "outputs": []
    },
    {
      "cell_type": "code",
      "metadata": {
        "id": "hrXMF4FXRsag",
        "colab": {
          "base_uri": "https://localhost:8080/"
        },
        "outputId": "50aa4980-b8fb-4e62-d6fe-29f046670ed7"
      },
      "source": [
        "if list_ex[i] < list_ex[j]:\n",
        "    print(f'Min is {list_ex[i]}')\n",
        "else:\n",
        "    print(f'Min is {list_ex[j]}')\n"
      ],
      "execution_count": 58,
      "outputs": [
        {
          "output_type": "stream",
          "text": [
            "Min is -19\n"
          ],
          "name": "stdout"
        }
      ]
    },
    {
      "cell_type": "code",
      "metadata": {
        "id": "UQWdyEJMR1OA",
        "colab": {
          "base_uri": "https://localhost:8080/"
        },
        "outputId": "ac572daf-1d54-4a91-8539-24b547945780"
      },
      "source": [
        "min = 1000000  #ตั้งค่าไว้ก่อนให้เยอะๆ\n",
        "print(list_ex)\n",
        "for i in list_ex:   #วนเข้าไปดูตัวที่น้อยสุด\n",
        "     print(f'now i = {i}, min = {min}')\n",
        "     print('start condition')\n",
        "     if i < min:\n",
        "        print(f'i < min, update min -> {i}')\n",
        "        min = i\n",
        "     else:\n",
        "          print('not update')\n",
        "     print('end condition, go to next i')\n",
        "\n",
        "print(min)"
      ],
      "execution_count": 59,
      "outputs": [
        {
          "output_type": "stream",
          "text": [
            "[1, 5, 9, -19, -2, 0]\n",
            "now i = 1, min = 1000000\n",
            "start condition\n",
            "i < min, update min -> 1\n",
            "end condition, go to next i\n",
            "now i = 5, min = 1\n",
            "start condition\n",
            "not update\n",
            "end condition, go to next i\n",
            "now i = 9, min = 1\n",
            "start condition\n",
            "not update\n",
            "end condition, go to next i\n",
            "now i = -19, min = 1\n",
            "start condition\n",
            "i < min, update min -> -19\n",
            "end condition, go to next i\n",
            "now i = -2, min = -19\n",
            "start condition\n",
            "not update\n",
            "end condition, go to next i\n",
            "now i = 0, min = -19\n",
            "start condition\n",
            "not update\n",
            "end condition, go to next i\n",
            "-19\n"
          ],
          "name": "stdout"
        }
      ]
    },
    {
      "cell_type": "markdown",
      "metadata": {
        "id": "w6G160JI_kI9"
      },
      "source": [
        "## HW3 **ตัดเกรด**"
      ]
    },
    {
      "cell_type": "code",
      "metadata": {
        "id": "3dl-EmBs_hzh"
      },
      "source": [
        "score = [49,65,70,95,82,55,89,20,77,77,81,59,10] #ตัดเกรด คะแนนใน list score (ใช้ if กับ for)\n"
      ],
      "execution_count": 60,
      "outputs": []
    },
    {
      "cell_type": "code",
      "metadata": {
        "id": "V_YB2nli_3Yr",
        "colab": {
          "base_uri": "https://localhost:8080/"
        },
        "outputId": "daf83b33-5d24-4a76-8532-76f70dd7a5f0"
      },
      "source": [
        "for i in score:\n",
        "  if i >= 80:\n",
        "     print('ได้เกรด A')\n",
        "  elif i >= 75:\n",
        "      print('ได้เกรด B+')\n",
        "  elif i >= 70:\n",
        "      print('ได้เกรด B')\n",
        "  elif i >= 65:\n",
        "      print('ได้เกรด C+')\n",
        "  elif i >= 60:\n",
        "      print('ได้เกรด C')\n",
        "  elif i >= 55:\n",
        "      print('ได้เกรด D+')\n",
        "  elif i >= 50:\n",
        "      print('ได้เกรด D')\n",
        "  else:\n",
        "      print('ได้เกรด F')"
      ],
      "execution_count": 61,
      "outputs": [
        {
          "output_type": "stream",
          "text": [
            "ได้เกรด F\n",
            "ได้เกรด C+\n",
            "ได้เกรด B\n",
            "ได้เกรด A\n",
            "ได้เกรด A\n",
            "ได้เกรด D+\n",
            "ได้เกรด A\n",
            "ได้เกรด F\n",
            "ได้เกรด B+\n",
            "ได้เกรด B+\n",
            "ได้เกรด A\n",
            "ได้เกรด D+\n",
            "ได้เกรด F\n"
          ],
          "name": "stdout"
        }
      ]
    },
    {
      "cell_type": "markdown",
      "metadata": {
        "id": "kyNKXklHyV4h"
      },
      "source": [
        "## **Function**"
      ]
    },
    {
      "cell_type": "markdown",
      "metadata": {
        "id": "aWqrtRzrIwkm"
      },
      "source": [
        "def ชื่อฟังก์ชัน(input1,input2,...):\n",
        "\n",
        "    งานxxx\n",
        "\n",
        "    งานyyy\n",
        "\n",
        "    return output\n",
        "\n",
        "ส่วนประกอบสำคัญ\n",
        "\n",
        "input\n",
        "\n",
        "process (ไม่มีไม่ได้)\n",
        "\n",
        "output"
      ]
    },
    {
      "cell_type": "markdown",
      "metadata": {
        "id": "js0dcMfAI49h"
      },
      "source": [
        "Example1\n",
        "จะเขียนโค้ดยาวๆแค่รอบเดียว\n",
        "\n",
        "วิธีที่ 1 ค่อย return ตอนสุดท้าย"
      ]
    },
    {
      "cell_type": "markdown",
      "metadata": {
        "id": "P03vLcakGT64"
      },
      "source": [
        "## Quiz 4 ส่ง 11.05 (27/07/2021)\n",
        "\n",
        "สร้างฟังก์ชัน\n",
        "\n",
        "วาดรูปบ้าน\n",
        "\n",
        "วาดรูปต้นไม้"
      ]
    },
    {
      "cell_type": "code",
      "metadata": {
        "id": "sS-BYFa__60n"
      },
      "source": [
        "# วาดรูปบ้าน\n",
        "def home():\n",
        "    print('   / \\   ')\n",
        "    print('  /__\\   ')\n",
        "    print('  |__|   ')"
      ],
      "execution_count": 63,
      "outputs": []
    },
    {
      "cell_type": "code",
      "metadata": {
        "id": "SZEkmzsVI_5-",
        "outputId": "528951a2-beb5-4f2d-e642-e97698ba20bc",
        "colab": {
          "base_uri": "https://localhost:8080/"
        }
      },
      "source": [
        "home()"
      ],
      "execution_count": 64,
      "outputs": [
        {
          "output_type": "stream",
          "text": [
            "   / \\   \n",
            "  /__\\   \n",
            "  |__|   \n"
          ],
          "name": "stdout"
        }
      ]
    },
    {
      "cell_type": "code",
      "metadata": {
        "id": "w7fVMb_wJCl8",
        "outputId": "c21015ff-194a-47ed-ce73-a119bab73c15",
        "colab": {
          "base_uri": "https://localhost:8080/",
          "height": 231
        }
      },
      "source": [
        " วาดรูปต้นไม้\n",
        "def tree():\n",
        "    print('    (  )     ')\n",
        "    print('   (    )    ')\n",
        "    print('  (____)   ')\n",
        "    print('    ||     ')"
      ],
      "execution_count": 65,
      "outputs": [
        {
          "output_type": "error",
          "ename": "NameError",
          "evalue": "ignored",
          "traceback": [
            "\u001b[0;31m---------------------------------------------------------------------------\u001b[0m",
            "\u001b[0;31mNameError\u001b[0m                                 Traceback (most recent call last)",
            "\u001b[0;32m<ipython-input-65-d3767af9ec8d>\u001b[0m in \u001b[0;36m<module>\u001b[0;34m()\u001b[0m\n\u001b[0;32m----> 1\u001b[0;31m \u001b[0mวาดร\u001b[0m\u001b[0;31mู\u001b[0m\u001b[0mปต\u001b[0m\u001b[0;31m้\u001b[0m\u001b[0mนไม\u001b[0m\u001b[0;31m้\u001b[0m\u001b[0;34m\u001b[0m\u001b[0;34m\u001b[0m\u001b[0m\n\u001b[0m\u001b[1;32m      2\u001b[0m \u001b[0;32mdef\u001b[0m \u001b[0mtree\u001b[0m\u001b[0;34m(\u001b[0m\u001b[0;34m)\u001b[0m\u001b[0;34m:\u001b[0m\u001b[0;34m\u001b[0m\u001b[0;34m\u001b[0m\u001b[0m\n\u001b[1;32m      3\u001b[0m    \u001b[0mprint\u001b[0m\u001b[0;34m(\u001b[0m\u001b[0;34m'    (  )     '\u001b[0m\u001b[0;34m)\u001b[0m\u001b[0;34m\u001b[0m\u001b[0;34m\u001b[0m\u001b[0m\n\u001b[1;32m      4\u001b[0m    \u001b[0mprint\u001b[0m\u001b[0;34m(\u001b[0m\u001b[0;34m'   (    )    '\u001b[0m\u001b[0;34m)\u001b[0m\u001b[0;34m\u001b[0m\u001b[0;34m\u001b[0m\u001b[0m\n\u001b[1;32m      5\u001b[0m    \u001b[0mprint\u001b[0m\u001b[0;34m(\u001b[0m\u001b[0;34m'  (____)   '\u001b[0m\u001b[0;34m)\u001b[0m\u001b[0;34m\u001b[0m\u001b[0;34m\u001b[0m\u001b[0m\n",
            "\u001b[0;31mNameError\u001b[0m: name 'วาดรูปต้นไม้' is not defined"
          ]
        }
      ]
    },
    {
      "cell_type": "code",
      "metadata": {
        "id": "2EgV6BOnJGHK"
      },
      "source": [
        ""
      ],
      "execution_count": null,
      "outputs": []
    }
  ]
}