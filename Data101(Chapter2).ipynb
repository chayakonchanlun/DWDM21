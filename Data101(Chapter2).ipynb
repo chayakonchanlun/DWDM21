{
  "nbformat": 4,
  "nbformat_minor": 0,
  "metadata": {
    "colab": {
      "name": "Data101(Chapter2).ipynb",
      "provenance": [],
      "authorship_tag": "ABX9TyPDvp2cdAluaMS11IliMxHW",
      "include_colab_link": true
    },
    "kernelspec": {
      "name": "python3",
      "display_name": "Python 3"
    },
    "language_info": {
      "name": "python"
    }
  },
  "cells": [
    {
      "cell_type": "markdown",
      "metadata": {
        "id": "view-in-github",
        "colab_type": "text"
      },
      "source": [
        "<a href=\"https://colab.research.google.com/github/chayakonchanlun/DWDM21/blob/main/Data101(Chapter2).ipynb\" target=\"_parent\"><img src=\"https://colab.research.google.com/assets/colab-badge.svg\" alt=\"Open In Colab\"/></a>"
      ]
    },
    {
      "cell_type": "markdown",
      "metadata": {
        "id": "Jc8JydyBz0Yz"
      },
      "source": [
        "ข้อความที่อยู่ใน texboc จะเป็นภาษา markdown"
      ]
    },
    {
      "cell_type": "markdown",
      "metadata": {
        "id": "LmqAsouttxi5"
      },
      "source": [
        "ข้อดีของ python คือมี package สำหรับทำงานต่างๆ มากมาย ซึ่งpandas เป็น package สำหรับทำงานข้อมูลรูปแบบตาราง โดย pandas จะเรียกตารางนั้นว่า dataframe"
      ]
    },
    {
      "cell_type": "code",
      "metadata": {
        "id": "RSUQlLrQrwKp"
      },
      "source": [
        "import pandas # วิธีเรียกใช้  package คือ import ตามด้วยชื่อ package"
      ],
      "execution_count": 4,
      "outputs": []
    },
    {
      "cell_type": "code",
      "metadata": {
        "id": "LS6i2f3rtBZY"
      },
      "source": [
        "import pandas as pd # เหมือนกับข้างบนแต่ว่า ตั้งชื่อ packge ที่โหลดมาใหม่ว่า pd คือตัวย่อ"
      ],
      "execution_count": 5,
      "outputs": []
    },
    {
      "cell_type": "markdown",
      "metadata": {
        "id": "fPHSNpIduvi8"
      },
      "source": [
        "ไฟล์ . csv (csv = comma separated value) เป็นไฟล์หลักที่เราจะได้ใช้กันในวิชานี้"
      ]
    },
    {
      "cell_type": "code",
      "metadata": {
        "id": "hkwqjuAzutcv"
      },
      "source": [
        "data_df = pd.read_csv('data.csv')"
      ],
      "execution_count": 6,
      "outputs": []
    },
    {
      "cell_type": "code",
      "metadata": {
        "id": "J5eIo-a_xPMz",
        "outputId": "1baed0c0-fdfd-43f2-a143-92f189b0af71",
        "colab": {
          "base_uri": "https://localhost:8080/",
          "height": 141
        }
      },
      "source": [
        "data_df"
      ],
      "execution_count": 7,
      "outputs": [
        {
          "output_type": "execute_result",
          "data": {
            "text/html": [
              "<div>\n",
              "<style scoped>\n",
              "    .dataframe tbody tr th:only-of-type {\n",
              "        vertical-align: middle;\n",
              "    }\n",
              "\n",
              "    .dataframe tbody tr th {\n",
              "        vertical-align: top;\n",
              "    }\n",
              "\n",
              "    .dataframe thead th {\n",
              "        text-align: right;\n",
              "    }\n",
              "</style>\n",
              "<table border=\"1\" class=\"dataframe\">\n",
              "  <thead>\n",
              "    <tr style=\"text-align: right;\">\n",
              "      <th></th>\n",
              "      <th></th>\n",
              "      <th>name.city</th>\n",
              "    </tr>\n",
              "  </thead>\n",
              "  <tbody>\n",
              "    <tr>\n",
              "      <th>tom</th>\n",
              "      <th>27</th>\n",
              "      <td>Khon kaen</td>\n",
              "    </tr>\n",
              "    <tr>\n",
              "      <th>GetNu</th>\n",
              "      <th>15</th>\n",
              "      <td>Bangkok</td>\n",
              "    </tr>\n",
              "    <tr>\n",
              "      <th>sarah</th>\n",
              "      <th>49</th>\n",
              "      <td>london</td>\n",
              "    </tr>\n",
              "  </tbody>\n",
              "</table>\n",
              "</div>"
            ],
            "text/plain": [
              "          name.city\n",
              "tom   27  Khon kaen\n",
              "GetNu 15    Bangkok\n",
              "sarah 49     london"
            ]
          },
          "metadata": {
            "tags": []
          },
          "execution_count": 7
        }
      ]
    },
    {
      "cell_type": "code",
      "metadata": {
        "id": "2iBLECcuxUc1",
        "outputId": "11ef3571-6d7b-40d0-e9c8-06c9cec783b2",
        "colab": {
          "base_uri": "https://localhost:8080/",
          "height": 141
        }
      },
      "source": [
        "data_df2 = pandas.read_csv('data.csv')\n",
        "data_df2"
      ],
      "execution_count": 8,
      "outputs": [
        {
          "output_type": "execute_result",
          "data": {
            "text/html": [
              "<div>\n",
              "<style scoped>\n",
              "    .dataframe tbody tr th:only-of-type {\n",
              "        vertical-align: middle;\n",
              "    }\n",
              "\n",
              "    .dataframe tbody tr th {\n",
              "        vertical-align: top;\n",
              "    }\n",
              "\n",
              "    .dataframe thead th {\n",
              "        text-align: right;\n",
              "    }\n",
              "</style>\n",
              "<table border=\"1\" class=\"dataframe\">\n",
              "  <thead>\n",
              "    <tr style=\"text-align: right;\">\n",
              "      <th></th>\n",
              "      <th></th>\n",
              "      <th>name.city</th>\n",
              "    </tr>\n",
              "  </thead>\n",
              "  <tbody>\n",
              "    <tr>\n",
              "      <th>tom</th>\n",
              "      <th>27</th>\n",
              "      <td>Khon kaen</td>\n",
              "    </tr>\n",
              "    <tr>\n",
              "      <th>GetNu</th>\n",
              "      <th>15</th>\n",
              "      <td>Bangkok</td>\n",
              "    </tr>\n",
              "    <tr>\n",
              "      <th>sarah</th>\n",
              "      <th>49</th>\n",
              "      <td>london</td>\n",
              "    </tr>\n",
              "  </tbody>\n",
              "</table>\n",
              "</div>"
            ],
            "text/plain": [
              "          name.city\n",
              "tom   27  Khon kaen\n",
              "GetNu 15    Bangkok\n",
              "sarah 49     london"
            ]
          },
          "metadata": {
            "tags": []
          },
          "execution_count": 8
        }
      ]
    },
    {
      "cell_type": "markdown",
      "metadata": {
        "id": "T1-l8tZdzs16"
      },
      "source": [
        "# Basic Python\n",
        "## variable"
      ]
    },
    {
      "cell_type": "markdown",
      "metadata": {
        "id": "JbqdlK1t1pFe"
      },
      "source": [
        "กำหนดในการตั้งชื่อตัวแปร\n",
        "\n",
        "1. ชื่อห้ามมีเว้นวรรค\n",
        "2. ใช้ภาษาอังกฤษ\n",
        "3. ตัวเล็กกับตัวใหญ่แตกต่างกัน\n",
        "4. ห้ามใช้ตัวเลขเป็นตัวหน้า"
      ]
    },
    {
      "cell_type": "code",
      "metadata": {
        "id": "ohNhigyOyRYh"
      },
      "source": [
        "variable_a = 12\n",
        "varible_b = 'abcde' # ' เรียกว่า quote\n",
        "variable_c = variable_a"
      ],
      "execution_count": 9,
      "outputs": []
    },
    {
      "cell_type": "code",
      "metadata": {
        "id": "KZU1bXZO0T_H",
        "outputId": "88f993de-9dbe-4707-a42b-ef5f9485185b",
        "colab": {
          "base_uri": "https://localhost:8080/"
        }
      },
      "source": [
        "variable_a"
      ],
      "execution_count": 10,
      "outputs": [
        {
          "output_type": "execute_result",
          "data": {
            "text/plain": [
              "12"
            ]
          },
          "metadata": {
            "tags": []
          },
          "execution_count": 10
        }
      ]
    },
    {
      "cell_type": "code",
      "metadata": {
        "id": "1f0nS2JS1OV-",
        "outputId": "b35a5344-454c-4222-82e6-16e65032a205",
        "colab": {
          "base_uri": "https://localhost:8080/",
          "height": 34
        }
      },
      "source": [
        "varible_b"
      ],
      "execution_count": 11,
      "outputs": [
        {
          "output_type": "execute_result",
          "data": {
            "application/vnd.google.colaboratory.intrinsic+json": {
              "type": "string"
            },
            "text/plain": [
              "'abcde'"
            ]
          },
          "metadata": {
            "tags": []
          },
          "execution_count": 11
        }
      ]
    },
    {
      "cell_type": "code",
      "metadata": {
        "id": "q1O_Op911Pzm",
        "outputId": "a21e8797-7618-4974-e522-9a4070e28f2a",
        "colab": {
          "base_uri": "https://localhost:8080/"
        }
      },
      "source": [
        "variable_c"
      ],
      "execution_count": 12,
      "outputs": [
        {
          "output_type": "execute_result",
          "data": {
            "text/plain": [
              "12"
            ]
          },
          "metadata": {
            "tags": []
          },
          "execution_count": 12
        }
      ]
    },
    {
      "cell_type": "code",
      "metadata": {
        "id": "5DVey1YF1SZ5"
      },
      "source": [
        "# colab ใช้ภาษาไทยเป็นชื่อตัวแปรได้ แต่ไม่ควรใช้\n",
        "# colab พยามใช้ภาษาอังกฤษ"
      ],
      "execution_count": 13,
      "outputs": []
    },
    {
      "cell_type": "code",
      "metadata": {
        "id": "CMQ0lUwY27f1"
      },
      "source": [
        "variable_a = 12\n",
        "variable_b = 'abcde'\n",
        "variable_c = variable_a\n",
        "variable_d = -41.2\n",
        "variable_4 = \"kku\" # \"\" เรียกว้า double quote\n",
        "\n"
      ],
      "execution_count": 14,
      "outputs": []
    },
    {
      "cell_type": "code",
      "metadata": {
        "id": "MmcjYPN25k1g",
        "colab": {
          "base_uri": "https://localhost:8080/"
        },
        "outputId": "05cdc5bf-9c23-4bd8-e1a7-7bd3c0dc887e"
      },
      "source": [
        "variable_x = variable_c + variable_d\n",
        "print(variable_x)"
      ],
      "execution_count": 15,
      "outputs": [
        {
          "output_type": "stream",
          "text": [
            "-29.200000000000003\n"
          ],
          "name": "stdout"
        }
      ]
    },
    {
      "cell_type": "markdown",
      "metadata": {
        "id": "jkLL31na9Dto"
      },
      "source": [
        "# Data structure\n",
        "list()"
      ]
    },
    {
      "cell_type": "code",
      "metadata": {
        "id": "Y2JaHoyM521a"
      },
      "source": [
        "list_a = [1,2,0.2,'abc' ] #[] คือ square brackers\n",
        "list_b = [2,'xyz',list_a,[1,2,0.0]]"
      ],
      "execution_count": 16,
      "outputs": []
    },
    {
      "cell_type": "code",
      "metadata": {
        "id": "afLQyxse93UU",
        "colab": {
          "base_uri": "https://localhost:8080/"
        },
        "outputId": "c291a2b5-77e6-4bc4-ba22-923ace10b472"
      },
      "source": [
        "list_a\n"
      ],
      "execution_count": 17,
      "outputs": [
        {
          "output_type": "execute_result",
          "data": {
            "text/plain": [
              "[1, 2, 0.2, 'abc']"
            ]
          },
          "metadata": {
            "tags": []
          },
          "execution_count": 17
        }
      ]
    },
    {
      "cell_type": "code",
      "metadata": {
        "id": "9yZOlkAj95eu",
        "colab": {
          "base_uri": "https://localhost:8080/"
        },
        "outputId": "ba92c93e-7665-4906-f252-681245b5c953"
      },
      "source": [
        "list_b"
      ],
      "execution_count": 18,
      "outputs": [
        {
          "output_type": "execute_result",
          "data": {
            "text/plain": [
              "[2, 'xyz', [1, 2, 0.2, 'abc'], [1, 2, 0.0]]"
            ]
          },
          "metadata": {
            "tags": []
          },
          "execution_count": 18
        }
      ]
    },
    {
      "cell_type": "code",
      "metadata": {
        "id": "oK5426RJ-Pty",
        "colab": {
          "base_uri": "https://localhost:8080/"
        },
        "outputId": "d0138c7a-4910-4004-fefd-82816f5661b5"
      },
      "source": [
        "len(list_b) #คือคำสั่งบอกจำนวนสมาชิกใน list นั้น"
      ],
      "execution_count": 19,
      "outputs": [
        {
          "output_type": "execute_result",
          "data": {
            "text/plain": [
              "4"
            ]
          },
          "metadata": {
            "tags": []
          },
          "execution_count": 19
        }
      ]
    },
    {
      "cell_type": "code",
      "metadata": {
        "id": "oIiIwFrE-X4o",
        "colab": {
          "base_uri": "https://localhost:8080/"
        },
        "outputId": "126190d5-eb79-454a-e242-e329123031f6"
      },
      "source": [
        "list_b[3]"
      ],
      "execution_count": 20,
      "outputs": [
        {
          "output_type": "execute_result",
          "data": {
            "text/plain": [
              "[1, 2, 0.0]"
            ]
          },
          "metadata": {
            "tags": []
          },
          "execution_count": 20
        }
      ]
    },
    {
      "cell_type": "code",
      "metadata": {
        "id": "HwbmtzjC-f9e",
        "colab": {
          "base_uri": "https://localhost:8080/"
        },
        "outputId": "19e60775-6911-40f1-bf81-446bf933a75c"
      },
      "source": [
        "list_b[3][1]"
      ],
      "execution_count": 21,
      "outputs": [
        {
          "output_type": "execute_result",
          "data": {
            "text/plain": [
              "2"
            ]
          },
          "metadata": {
            "tags": []
          },
          "execution_count": 21
        }
      ]
    },
    {
      "cell_type": "markdown",
      "metadata": {
        "id": "hxID3AHv-M6q"
      },
      "source": [
        "## string คือ list ของตัวหนังสือ "
      ]
    },
    {
      "cell_type": "code",
      "metadata": {
        "id": "57kaJQy4--Bg"
      },
      "source": [
        "a = 'Stat KKU'"
      ],
      "execution_count": 22,
      "outputs": []
    },
    {
      "cell_type": "code",
      "metadata": {
        "id": "IYzHq9HI_DTx",
        "colab": {
          "base_uri": "https://localhost:8080/",
          "height": 0
        },
        "outputId": "77959282-3161-4b7b-f72d-dcd17e6a4d5b"
      },
      "source": [
        "a[4]"
      ],
      "execution_count": 23,
      "outputs": [
        {
          "output_type": "execute_result",
          "data": {
            "application/vnd.google.colaboratory.intrinsic+json": {
              "type": "string"
            },
            "text/plain": [
              "' '"
            ]
          },
          "metadata": {
            "tags": []
          },
          "execution_count": 23
        }
      ]
    },
    {
      "cell_type": "markdown",
      "metadata": {
        "id": "Oj59gfjym4Zl"
      },
      "source": [
        "## วิธีสร้าง list **ว่าง**"
      ]
    },
    {
      "cell_type": "code",
      "metadata": {
        "id": "GZrW8qvXm4Bl"
      },
      "source": [
        "list_c = list() #แบบที่ 1\n",
        "list_d = [] #แบบที่ 2"
      ],
      "execution_count": 24,
      "outputs": []
    },
    {
      "cell_type": "code",
      "metadata": {
        "id": "jBJYwswJm-BQ",
        "colab": {
          "base_uri": "https://localhost:8080/"
        },
        "outputId": "fd65f56e-8894-4589-cd8d-7ccd1de30242"
      },
      "source": [
        "list_c"
      ],
      "execution_count": 25,
      "outputs": [
        {
          "output_type": "execute_result",
          "data": {
            "text/plain": [
              "[]"
            ]
          },
          "metadata": {
            "tags": []
          },
          "execution_count": 25
        }
      ]
    },
    {
      "cell_type": "code",
      "metadata": {
        "id": "ytt9Nb7bm9w4",
        "colab": {
          "base_uri": "https://localhost:8080/"
        },
        "outputId": "2b01767f-4c2c-4511-b9f9-2febabece9d2"
      },
      "source": [
        "\n",
        "list_d"
      ],
      "execution_count": 26,
      "outputs": [
        {
          "output_type": "execute_result",
          "data": {
            "text/plain": [
              "[]"
            ]
          },
          "metadata": {
            "tags": []
          },
          "execution_count": 26
        }
      ]
    },
    {
      "cell_type": "markdown",
      "metadata": {
        "id": "xA7Z3sUrAfEn"
      },
      "source": [
        "เติมค่าลงไปใน list (.append)"
      ]
    },
    {
      "cell_type": "code",
      "metadata": {
        "id": "JDNJm5O9A_mW"
      },
      "source": [
        "list_d.append('a')"
      ],
      "execution_count": 27,
      "outputs": []
    },
    {
      "cell_type": "code",
      "metadata": {
        "id": "XDu9aSJNnCok",
        "colab": {
          "base_uri": "https://localhost:8080/"
        },
        "outputId": "b34d4a47-bbbd-4083-82b5-0dbe3f290317"
      },
      "source": [
        "list_d"
      ],
      "execution_count": 28,
      "outputs": [
        {
          "output_type": "execute_result",
          "data": {
            "text/plain": [
              "['a']"
            ]
          },
          "metadata": {
            "tags": []
          },
          "execution_count": 28
        }
      ]
    },
    {
      "cell_type": "code",
      "metadata": {
        "id": "8MUeSnxXnENV"
      },
      "source": [
        "list_d.append(56)\n"
      ],
      "execution_count": 29,
      "outputs": []
    },
    {
      "cell_type": "code",
      "metadata": {
        "id": "3IzcoqmHnFxr",
        "colab": {
          "base_uri": "https://localhost:8080/"
        },
        "outputId": "af3df40d-f7d4-4ea8-8987-cb7c5b595177"
      },
      "source": [
        "list_d\n"
      ],
      "execution_count": 30,
      "outputs": [
        {
          "output_type": "execute_result",
          "data": {
            "text/plain": [
              "['a', 56]"
            ]
          },
          "metadata": {
            "tags": []
          },
          "execution_count": 30
        }
      ]
    },
    {
      "cell_type": "markdown",
      "metadata": {
        "id": "YHqupV_3nJXe"
      },
      "source": [
        "การชี้ค่าใน list (indexing)\n",
        "\n",
        "ใช้ลำดับในการชี้\n",
        "\n",
        "ลำดับเริ่มจาก 0\n",
        "\n",
        "สามารถชี้จากข้างหลังได้โดยใช้ negative index"
      ]
    },
    {
      "cell_type": "code",
      "metadata": {
        "id": "V6N88it9nHb7",
        "colab": {
          "base_uri": "https://localhost:8080/"
        },
        "outputId": "6bd5f280-ccb6-4f3a-9bef-eb3102d91200"
      },
      "source": [
        "list_b"
      ],
      "execution_count": 31,
      "outputs": [
        {
          "output_type": "execute_result",
          "data": {
            "text/plain": [
              "[2, 'xyz', [1, 2, 0.2, 'abc'], [1, 2, 0.0]]"
            ]
          },
          "metadata": {
            "tags": []
          },
          "execution_count": 31
        }
      ]
    },
    {
      "cell_type": "code",
      "metadata": {
        "id": "SGcrlM-8nNGz",
        "colab": {
          "base_uri": "https://localhost:8080/"
        },
        "outputId": "081ddc2f-f69a-4319-8b79-6415d7ab7cc4"
      },
      "source": [
        "list_b[-1]"
      ],
      "execution_count": 32,
      "outputs": [
        {
          "output_type": "execute_result",
          "data": {
            "text/plain": [
              "[1, 2, 0.0]"
            ]
          },
          "metadata": {
            "tags": []
          },
          "execution_count": 32
        }
      ]
    },
    {
      "cell_type": "markdown",
      "metadata": {
        "id": "-YImnuN7nPoR"
      },
      "source": [
        "## list **slicing**"
      ]
    },
    {
      "cell_type": "code",
      "metadata": {
        "id": "IXz6NdVynORK"
      },
      "source": [
        "list_ex = [1,2,3,5,6,8,-1,20,50,0]"
      ],
      "execution_count": 33,
      "outputs": []
    },
    {
      "cell_type": "markdown",
      "metadata": {
        "id": "gmBarB1YngjT"
      },
      "source": [
        "เราจะตัดlist โดยเอาตั้งแต่ [ตัวหน้า:ตัวก่อนตัวหลัง]\n",
        "ถ้าเป็นสัญลักษณ์คณิตศาสตร์ [ตัวหน้า:ตัวหลัง] -> [ตัวหน้า,ตัวหลัง)"
      ]
    },
    {
      "cell_type": "code",
      "metadata": {
        "id": "OQSl3QirnePH",
        "colab": {
          "base_uri": "https://localhost:8080/"
        },
        "outputId": "8f9dcb97-42de-4868-da4c-516319a44c83"
      },
      "source": [
        "list_ex[1:6]"
      ],
      "execution_count": 34,
      "outputs": [
        {
          "output_type": "execute_result",
          "data": {
            "text/plain": [
              "[2, 3, 5, 6, 8]"
            ]
          },
          "metadata": {
            "tags": []
          },
          "execution_count": 34
        }
      ]
    },
    {
      "cell_type": "code",
      "metadata": {
        "id": "WiIWu9O5niJG",
        "colab": {
          "base_uri": "https://localhost:8080/"
        },
        "outputId": "9b5ff44a-3aca-43c9-ccfb-e70ea28afe0c"
      },
      "source": [
        "list_ex[4:]"
      ],
      "execution_count": 35,
      "outputs": [
        {
          "output_type": "execute_result",
          "data": {
            "text/plain": [
              "[6, 8, -1, 20, 50, 0]"
            ]
          },
          "metadata": {
            "tags": []
          },
          "execution_count": 35
        }
      ]
    },
    {
      "cell_type": "code",
      "metadata": {
        "id": "8jhUUKR5njRq",
        "colab": {
          "base_uri": "https://localhost:8080/"
        },
        "outputId": "73905462-7732-42e0-b70c-116cdebbc948"
      },
      "source": [
        "list_ex[:6]"
      ],
      "execution_count": 36,
      "outputs": [
        {
          "output_type": "execute_result",
          "data": {
            "text/plain": [
              "[1, 2, 3, 5, 6, 8]"
            ]
          },
          "metadata": {
            "tags": []
          },
          "execution_count": 36
        }
      ]
    },
    {
      "cell_type": "code",
      "metadata": {
        "id": "UbhYCaETnkZF",
        "colab": {
          "base_uri": "https://localhost:8080/"
        },
        "outputId": "9494f705-458c-47be-f14b-d67f7d6c56c2"
      },
      "source": [
        "list_ex"
      ],
      "execution_count": 37,
      "outputs": [
        {
          "output_type": "execute_result",
          "data": {
            "text/plain": [
              "[1, 2, 3, 5, 6, 8, -1, 20, 50, 0]"
            ]
          },
          "metadata": {
            "tags": []
          },
          "execution_count": 37
        }
      ]
    },
    {
      "cell_type": "code",
      "metadata": {
        "id": "X4kgDGpanlfS",
        "colab": {
          "base_uri": "https://localhost:8080/"
        },
        "outputId": "810a2a93-914f-49f6-a516-78c9cfd1d139"
      },
      "source": [
        "list_ex[::2]"
      ],
      "execution_count": 38,
      "outputs": [
        {
          "output_type": "execute_result",
          "data": {
            "text/plain": [
              "[1, 3, 6, -1, 50]"
            ]
          },
          "metadata": {
            "tags": []
          },
          "execution_count": 38
        }
      ]
    },
    {
      "cell_type": "code",
      "metadata": {
        "id": "Zr3ldbGUnm_-",
        "colab": {
          "base_uri": "https://localhost:8080/"
        },
        "outputId": "b47a56d3-86ae-4a38-8e87-e95fbad93eb8"
      },
      "source": [
        "list_ex[::-1]  # การกลับ list"
      ],
      "execution_count": 39,
      "outputs": [
        {
          "output_type": "execute_result",
          "data": {
            "text/plain": [
              "[0, 50, 20, -1, 8, 6, 5, 3, 2, 1]"
            ]
          },
          "metadata": {
            "tags": []
          },
          "execution_count": 39
        }
      ]
    },
    {
      "cell_type": "code",
      "metadata": {
        "id": "gvYkky97noxl",
        "colab": {
          "base_uri": "https://localhost:8080/",
          "height": 0
        },
        "outputId": "4e2817b9-4d4e-429a-84bd-0f93e633b233"
      },
      "source": [
        "a"
      ],
      "execution_count": 40,
      "outputs": [
        {
          "output_type": "execute_result",
          "data": {
            "application/vnd.google.colaboratory.intrinsic+json": {
              "type": "string"
            },
            "text/plain": [
              "'Stat KKU'"
            ]
          },
          "metadata": {
            "tags": []
          },
          "execution_count": 40
        }
      ]
    },
    {
      "cell_type": "code",
      "metadata": {
        "id": "k2m4BCY7nqDY",
        "colab": {
          "base_uri": "https://localhost:8080/",
          "height": 0
        },
        "outputId": "ea44ed90-62f4-49cf-9868-a2f456678612"
      },
      "source": [
        "a[5:]"
      ],
      "execution_count": 41,
      "outputs": [
        {
          "output_type": "execute_result",
          "data": {
            "application/vnd.google.colaboratory.intrinsic+json": {
              "type": "string"
            },
            "text/plain": [
              "'KKU'"
            ]
          },
          "metadata": {
            "tags": []
          },
          "execution_count": 41
        }
      ]
    },
    {
      "cell_type": "code",
      "metadata": {
        "id": "MB08XD06nrmW",
        "colab": {
          "base_uri": "https://localhost:8080/",
          "height": 0
        },
        "outputId": "146eae45-49b5-4466-b88e-8d49dd647588"
      },
      "source": [
        "a[-3:]"
      ],
      "execution_count": 42,
      "outputs": [
        {
          "output_type": "execute_result",
          "data": {
            "application/vnd.google.colaboratory.intrinsic+json": {
              "type": "string"
            },
            "text/plain": [
              "'KKU'"
            ]
          },
          "metadata": {
            "tags": []
          },
          "execution_count": 42
        }
      ]
    },
    {
      "cell_type": "code",
      "metadata": {
        "id": "lFv-qScfns1z",
        "colab": {
          "base_uri": "https://localhost:8080/",
          "height": 0
        },
        "outputId": "474d882c-42f6-44b6-a000-b092c86fd81f"
      },
      "source": [
        "a[5:8]"
      ],
      "execution_count": 43,
      "outputs": [
        {
          "output_type": "execute_result",
          "data": {
            "application/vnd.google.colaboratory.intrinsic+json": {
              "type": "string"
            },
            "text/plain": [
              "'KKU'"
            ]
          },
          "metadata": {
            "tags": []
          },
          "execution_count": 43
        }
      ]
    },
    {
      "cell_type": "code",
      "metadata": {
        "id": "Jp1G5SNEnuRW",
        "colab": {
          "base_uri": "https://localhost:8080/",
          "height": 0
        },
        "outputId": "c0d09cc0-9fe5-4b48-8736-0fbe296dc5bf"
      },
      "source": [
        "a[5::]"
      ],
      "execution_count": 44,
      "outputs": [
        {
          "output_type": "execute_result",
          "data": {
            "application/vnd.google.colaboratory.intrinsic+json": {
              "type": "string"
            },
            "text/plain": [
              "'KKU'"
            ]
          },
          "metadata": {
            "tags": []
          },
          "execution_count": 44
        }
      ]
    },
    {
      "cell_type": "markdown",
      "metadata": {
        "id": "ZeyqlfQYnyTm"
      },
      "source": [
        "## list + **list**"
      ]
    },
    {
      "cell_type": "code",
      "metadata": {
        "id": "QMg3kugTnwYm",
        "colab": {
          "base_uri": "https://localhost:8080/"
        },
        "outputId": "7edd50e6-dda2-4145-ddfb-e0b908d5d7d2"
      },
      "source": [
        "print(list_a)\n",
        "print(list_b)"
      ],
      "execution_count": 45,
      "outputs": [
        {
          "output_type": "stream",
          "text": [
            "[1, 2, 0.2, 'abc']\n",
            "[2, 'xyz', [1, 2, 0.2, 'abc'], [1, 2, 0.0]]\n"
          ],
          "name": "stdout"
        }
      ]
    },
    {
      "cell_type": "code",
      "metadata": {
        "id": "nsnV7553n0Qv",
        "colab": {
          "base_uri": "https://localhost:8080/"
        },
        "outputId": "6c180a7b-adfc-406e-9991-02f32a1dba71"
      },
      "source": [
        "list_a + list_b"
      ],
      "execution_count": 46,
      "outputs": [
        {
          "output_type": "execute_result",
          "data": {
            "text/plain": [
              "[1, 2, 0.2, 'abc', 2, 'xyz', [1, 2, 0.2, 'abc'], [1, 2, 0.0]]"
            ]
          },
          "metadata": {
            "tags": []
          },
          "execution_count": 46
        }
      ]
    },
    {
      "cell_type": "code",
      "metadata": {
        "id": "ZMMGQ3rkn1t1",
        "colab": {
          "base_uri": "https://localhost:8080/",
          "height": 0
        },
        "outputId": "4e2c7172-e84e-4795-892b-3849e7f0ad44"
      },
      "source": [
        "f'ตัวแปร list_a มีค่าคือ {list_a}'"
      ],
      "execution_count": 47,
      "outputs": [
        {
          "output_type": "execute_result",
          "data": {
            "application/vnd.google.colaboratory.intrinsic+json": {
              "type": "string"
            },
            "text/plain": [
              "\"ตัวแปร list_a มีค่าคือ [1, 2, 0.2, 'abc']\""
            ]
          },
          "metadata": {
            "tags": []
          },
          "execution_count": 47
        }
      ]
    },
    {
      "cell_type": "markdown",
      "metadata": {
        "id": "U30LLFrzn5eG"
      },
      "source": [
        "## **Loop**"
      ]
    },
    {
      "cell_type": "code",
      "metadata": {
        "id": "4kie7birn3uy",
        "colab": {
          "base_uri": "https://localhost:8080/"
        },
        "outputId": "4d78f010-8571-41bb-fc55-d31a40d8dd66"
      },
      "source": [
        "for i in [1,2,3,4,5]:\n",
        "    print(i+1)"
      ],
      "execution_count": 48,
      "outputs": [
        {
          "output_type": "stream",
          "text": [
            "2\n",
            "3\n",
            "4\n",
            "5\n",
            "6\n"
          ],
          "name": "stdout"
        }
      ]
    },
    {
      "cell_type": "code",
      "metadata": {
        "id": "eqMCVbDSn7_D",
        "colab": {
          "base_uri": "https://localhost:8080/"
        },
        "outputId": "d4fef2c3-7731-4093-8d0b-71401a3daa5d"
      },
      "source": [
        "for x in [1,2,3,4,5]:\n",
        "    print(f'ค่าตัวแปร x คือ {x} และ x+2={x+2}')"
      ],
      "execution_count": 49,
      "outputs": [
        {
          "output_type": "stream",
          "text": [
            "ค่าตัวแปร x คือ 1 และ x+2=3\n",
            "ค่าตัวแปร x คือ 2 และ x+2=4\n",
            "ค่าตัวแปร x คือ 3 และ x+2=5\n",
            "ค่าตัวแปร x คือ 4 และ x+2=6\n",
            "ค่าตัวแปร x คือ 5 และ x+2=7\n"
          ],
          "name": "stdout"
        }
      ]
    },
    {
      "cell_type": "code",
      "metadata": {
        "id": "MgFZ3azxn9hK",
        "colab": {
          "base_uri": "https://localhost:8080/"
        },
        "outputId": "01e8ad9d-b628-46e4-912f-e468482e8c65"
      },
      "source": [
        "list5=[1,2,3,4,5]\n",
        "for x in list5:\n",
        "    print(f'ค่าตัวแปร x คือ {x} และ x+2={x+2}')"
      ],
      "execution_count": 50,
      "outputs": [
        {
          "output_type": "stream",
          "text": [
            "ค่าตัวแปร x คือ 1 และ x+2=3\n",
            "ค่าตัวแปร x คือ 2 และ x+2=4\n",
            "ค่าตัวแปร x คือ 3 และ x+2=5\n",
            "ค่าตัวแปร x คือ 4 และ x+2=6\n",
            "ค่าตัวแปร x คือ 5 และ x+2=7\n"
          ],
          "name": "stdout"
        }
      ]
    },
    {
      "cell_type": "code",
      "metadata": {
        "id": "ISwdawnSn-tR",
        "colab": {
          "base_uri": "https://localhost:8080/"
        },
        "outputId": "5869d43a-8148-46aa-c588-674254380e04"
      },
      "source": [
        "list(range(10))"
      ],
      "execution_count": 51,
      "outputs": [
        {
          "output_type": "execute_result",
          "data": {
            "text/plain": [
              "[0, 1, 2, 3, 4, 5, 6, 7, 8, 9]"
            ]
          },
          "metadata": {
            "tags": []
          },
          "execution_count": 51
        }
      ]
    },
    {
      "cell_type": "code",
      "metadata": {
        "id": "szaYy2oOn_7i",
        "colab": {
          "base_uri": "https://localhost:8080/"
        },
        "outputId": "931d192c-b77b-4b19-bfb5-0934dc7f4540"
      },
      "source": [
        "for i in range(2,7):\n",
        "    print(i)"
      ],
      "execution_count": 52,
      "outputs": [
        {
          "output_type": "stream",
          "text": [
            "2\n",
            "3\n",
            "4\n",
            "5\n",
            "6\n"
          ],
          "name": "stdout"
        }
      ]
    },
    {
      "cell_type": "code",
      "metadata": {
        "id": "JCJU96LIoBK1",
        "colab": {
          "base_uri": "https://localhost:8080/"
        },
        "outputId": "d781f2d6-3569-4f57-afa4-39fea5ea84a8"
      },
      "source": [
        "for i in range(2,7,2):\n",
        "    print(i)"
      ],
      "execution_count": 53,
      "outputs": [
        {
          "output_type": "stream",
          "text": [
            "2\n",
            "4\n",
            "6\n"
          ],
          "name": "stdout"
        }
      ]
    },
    {
      "cell_type": "code",
      "metadata": {
        "id": "wzNlI1UQoCwy",
        "colab": {
          "base_uri": "https://localhost:8080/"
        },
        "outputId": "0ec4c816-6de6-47aa-b820-b2beee3d1625"
      },
      "source": [
        "for i in range(5):\n",
        "    print('hahaha')"
      ],
      "execution_count": 54,
      "outputs": [
        {
          "output_type": "stream",
          "text": [
            "hahaha\n",
            "hahaha\n",
            "hahaha\n",
            "hahaha\n",
            "hahaha\n"
          ],
          "name": "stdout"
        }
      ]
    },
    {
      "cell_type": "code",
      "metadata": {
        "id": "mjI11bkjoEJ7",
        "colab": {
          "base_uri": "https://localhost:8080/"
        },
        "outputId": "77b2e433-9fb4-4d0f-ca98-c7a17fbd3d1c"
      },
      "source": [
        "for i in range(5):\n",
        "    print('hahaha')\n",
        "    x = i + 3\n",
        "    print(f'i={i} x={x}')"
      ],
      "execution_count": 55,
      "outputs": [
        {
          "output_type": "stream",
          "text": [
            "hahaha\n",
            "i=0 x=3\n",
            "hahaha\n",
            "i=1 x=4\n",
            "hahaha\n",
            "i=2 x=5\n",
            "hahaha\n",
            "i=3 x=6\n",
            "hahaha\n",
            "i=4 x=7\n"
          ],
          "name": "stdout"
        }
      ]
    },
    {
      "cell_type": "markdown",
      "metadata": {
        "id": "Pnm_KDvYoG_a"
      },
      "source": [
        "## Nested **loop**"
      ]
    },
    {
      "cell_type": "code",
      "metadata": {
        "id": "DWaaILJBoFeL",
        "colab": {
          "base_uri": "https://localhost:8080/"
        },
        "outputId": "f3482b5d-4f3f-49cd-d1d0-6f96f246d1d5"
      },
      "source": [
        "for i in range(3):\n",
        "    print(f'now i = {i}')\n",
        "    print('start j loop')\n",
        "    for j in range(4):\n",
        "        print(f'i = {i} j = {j} i+j = {i+j}')\n",
        "    print('end j loop')\n"
      ],
      "execution_count": 56,
      "outputs": [
        {
          "output_type": "stream",
          "text": [
            "now i = 0\n",
            "start j loop\n",
            "i = 0 j = 0 i+j = 0\n",
            "i = 0 j = 1 i+j = 1\n",
            "i = 0 j = 2 i+j = 2\n",
            "i = 0 j = 3 i+j = 3\n",
            "end j loop\n",
            "now i = 1\n",
            "start j loop\n",
            "i = 1 j = 0 i+j = 1\n",
            "i = 1 j = 1 i+j = 2\n",
            "i = 1 j = 2 i+j = 3\n",
            "i = 1 j = 3 i+j = 4\n",
            "end j loop\n",
            "now i = 2\n",
            "start j loop\n",
            "i = 2 j = 0 i+j = 2\n",
            "i = 2 j = 1 i+j = 3\n",
            "i = 2 j = 2 i+j = 4\n",
            "i = 2 j = 3 i+j = 5\n",
            "end j loop\n"
          ],
          "name": "stdout"
        }
      ]
    },
    {
      "cell_type": "markdown",
      "metadata": {
        "id": "yYDaMFNYBySO"
      },
      "source": [
        "for ตัวแปรที่จะรับค่าจาก list in list ที่จะนำมาวนลูป"
      ]
    },
    {
      "cell_type": "markdown",
      "metadata": {
        "id": "Yms5MGBOoMfj"
      },
      "source": [
        "## Condition (If Statement)**ทำข้อความเป็นตัวหนา**"
      ]
    },
    {
      "cell_type": "markdown",
      "metadata": {
        "id": "XbZ2jvB_PkgO"
      },
      "source": [
        "if เงื่อนไขที่จะตรวจสอบ ( ==, !=, <, >, <=, >=) :\n",
        "\n",
        "  ถ้าเงื่อนไขเป็นจริง ทำงาน 1\n",
        "\n",
        "  ถ้าเงื่อนไขเป็นจริง ทำงาน 2\n",
        "\n",
        "elif เงื่อนไขที่จะตรวจสอบต่อไปถ้าเงื่อนไขข้างบนไม่เป็นจริง:\n",
        "\n",
        "  ถ้าเงื่อนไขเป็นจริง ทำงาน a1\n",
        "\n",
        "  ถ้าเงื่อนไขเป็นจริง ทำงาน a2\n",
        "\n",
        "elif เงื่อนไขที่จะตรวจสอบต่อไปถ้าเงื่อนไขข้างบนไม่เป็นจริง:\n",
        "\n",
        "  ถ้าเงื่อนไขเป็นจริง ทำงาน b1\n",
        "  \n",
        "  ถ้าเงื่อนไขเป็นจริง ทำงาน b2\n",
        "\n",
        "else : #ตรวจสอบเงื่อนไขข้างบนแล้วไม่เป็นจริง\n",
        "  ทำงานที่ x"
      ]
    },
    {
      "cell_type": "code",
      "metadata": {
        "id": "HXsLFZjsoKaT"
      },
      "source": [
        "stringx = ';glsl;alfpap3qrfsd..z'\n",
        "\n",
        "if len(stringx) > 30:\n",
        "  print (f'{string} is longer than 30 charecters')"
      ],
      "execution_count": 59,
      "outputs": []
    },
    {
      "cell_type": "code",
      "metadata": {
        "id": "n93RhSuLP7db",
        "outputId": "e67b3c33-a10b-4082-c664-6f34649cc108",
        "colab": {
          "base_uri": "https://localhost:8080/"
        }
      },
      "source": [
        "stringx = ';glsl;alfpap3qrfsd..z'\n",
        "\n",
        "if len(stringx) > 100:\n",
        "  print (f'{string} is longer than 100 charecters')\n",
        "else :\n",
        "  print (f'{stringx} is {len(stringx)} charecters long')"
      ],
      "execution_count": 62,
      "outputs": [
        {
          "output_type": "stream",
          "text": [
            ";glsl;alfpap3qrfsd..z is 21 charecters long\n"
          ],
          "name": "stdout"
        }
      ]
    },
    {
      "cell_type": "code",
      "metadata": {
        "id": "mwNdoITQQAWz",
        "outputId": "44c61ca3-c10c-48ff-e1a9-003213185fac",
        "colab": {
          "base_uri": "https://localhost:8080/"
        }
      },
      "source": [
        "password = '12345'\n",
        "\n",
        "input_pass = '123'\n",
        "if input_pass == password:\n",
        "  print('Welcome!')\n",
        "elif len(input_pass) > len(password) :\n",
        "  print ('Too long, Try again')\n",
        "elif len(input_pass) < len(password) :\n",
        "  print ('Too short, Try again')\n",
        "else :\n",
        "  print ('Wrong passwords, Try again')"
      ],
      "execution_count": 61,
      "outputs": [
        {
          "output_type": "stream",
          "text": [
            "Too short, Try again\n"
          ],
          "name": "stdout"
        }
      ]
    },
    {
      "cell_type": "code",
      "metadata": {
        "id": "OJniiWa6QATQ"
      },
      "source": [
        ""
      ],
      "execution_count": null,
      "outputs": []
    },
    {
      "cell_type": "markdown",
      "metadata": {
        "id": "rz910Ej3N7Dg"
      },
      "source": [
        "### Quiz 1 หา min "
      ]
    },
    {
      "cell_type": "code",
      "metadata": {
        "id": "VWa5vZ39OIdC"
      },
      "source": [
        "list_ex = [1,5,9,-19,-2,0] #หาค่าที่น้อยที่สุดใน list_ex โดยไม่ใช้ function min\n"
      ],
      "execution_count": 64,
      "outputs": []
    },
    {
      "cell_type": "code",
      "metadata": {
        "id": "hrXMF4FXRsag",
        "outputId": "47bee227-a38a-44a8-b0d6-dac741325ef0",
        "colab": {
          "base_uri": "https://localhost:8080/"
        }
      },
      "source": [
        "if list_ex[i] < list_ex[j]:\n",
        "    print(f'Min is {list_ex[i]}')\n",
        "else:\n",
        "    print(f'Min is {list_ex[j]}')\n"
      ],
      "execution_count": 65,
      "outputs": [
        {
          "output_type": "stream",
          "text": [
            "Min is -19\n"
          ],
          "name": "stdout"
        }
      ]
    },
    {
      "cell_type": "code",
      "metadata": {
        "id": "UQWdyEJMR1OA"
      },
      "source": [
        ""
      ],
      "execution_count": null,
      "outputs": []
    }
  ]
}