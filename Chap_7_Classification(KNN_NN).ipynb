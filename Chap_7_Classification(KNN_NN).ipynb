{
  "nbformat": 4,
  "nbformat_minor": 0,
  "metadata": {
    "colab": {
      "name": "Chap 7 Classification(KNN-NN).ipynb",
      "provenance": [],
      "authorship_tag": "ABX9TyPXksvAdv4/tj6c+dwh6u0t",
      "include_colab_link": true
    },
    "kernelspec": {
      "name": "python3",
      "display_name": "Python 3"
    },
    "language_info": {
      "name": "python"
    }
  },
  "cells": [
    {
      "cell_type": "markdown",
      "metadata": {
        "id": "view-in-github",
        "colab_type": "text"
      },
      "source": [
        "<a href=\"https://colab.research.google.com/github/chayakonchanlun/DWDM21/blob/main/Chap_7_Classification(KNN_NN).ipynb\" target=\"_parent\"><img src=\"https://colab.research.google.com/assets/colab-badge.svg\" alt=\"Open In Colab\"/></a>"
      ]
    },
    {
      "cell_type": "markdown",
      "metadata": {
        "id": "BkQ6yrPVwcC8"
      },
      "source": [
        "\n",
        "## **Load data**"
      ]
    },
    {
      "cell_type": "code",
      "metadata": {
        "id": "ZRKQlBCUUCsK"
      },
      "source": [
        "from sklearn import datasets\n",
        "\n",
        "digit_data = datasets.load_digits()\n",
        "\n",
        "X = digit_data['data']\n",
        "y = digit_data['target']"
      ],
      "execution_count": 1,
      "outputs": []
    },
    {
      "cell_type": "markdown",
      "metadata": {
        "id": "0PPeqAtrwjzg"
      },
      "source": [
        "## **Split Data**"
      ]
    },
    {
      "cell_type": "code",
      "metadata": {
        "id": "oQfJBwBfweqN"
      },
      "source": [
        "from sklearn.model_selection import train_test_split\n",
        "\n",
        "# train-test\n",
        "X_train, X_test, y_train, y_test = train_test_split(X, y, test_size=0.5, random_state=6)\n",
        "\n",
        "# train-validation\n",
        "X_train2, X_val, y_train2, y_val = train_test_split(X_train, y_train, test_size=0.3, random_state=6)"
      ],
      "execution_count": 2,
      "outputs": []
    },
    {
      "cell_type": "markdown",
      "metadata": {
        "id": "QzETCEEewo7g"
      },
      "source": [
        "# **Train Model**\n",
        "\n",
        "import"
      ]
    },
    {
      "cell_type": "code",
      "metadata": {
        "id": "9AUIHix9wmuZ"
      },
      "source": [
        "from sklearn.neighbors import KNeighborsClassifier\n",
        "from sklearn.metrics import accuracy_score"
      ],
      "execution_count": 3,
      "outputs": []
    },
    {
      "cell_type": "markdown",
      "metadata": {
        "id": "rBIC83F_wtcD"
      },
      "source": [
        "## **knn1**"
      ]
    },
    {
      "cell_type": "code",
      "metadata": {
        "id": "HtukFbYMwr8j",
        "outputId": "55ab33c1-82b9-419a-c1fa-7cd09e4d5418",
        "colab": {
          "base_uri": "https://localhost:8080/"
        }
      },
      "source": [
        "# Define\n",
        "neigh1 = KNeighborsClassifier(n_neighbors=3, weights='uniform') #ถามเพื่อนบ้านที่ใกล้ที่สุด 3 คน เเละเชื่อทุกๆคนเท่ากัน\n",
        "# Train\n",
        "neigh1.fit(X_train2,y_train2)\n",
        "# Test\n",
        "knn1_result = neigh1.predict(X_val)\n",
        "accuracy_score(y_val, knn1_result)"
      ],
      "execution_count": 4,
      "outputs": [
        {
          "output_type": "execute_result",
          "data": {
            "text/plain": [
              "0.9703703703703703"
            ]
          },
          "metadata": {},
          "execution_count": 4
        }
      ]
    },
    {
      "cell_type": "markdown",
      "metadata": {
        "id": "Pkf4AheywyNA"
      },
      "source": [
        "## **knn2**"
      ]
    },
    {
      "cell_type": "code",
      "metadata": {
        "id": "e0fZIJHYwwKX",
        "outputId": "f10b20c1-f1f3-4dc7-a06d-78c39df06413",
        "colab": {
          "base_uri": "https://localhost:8080/"
        }
      },
      "source": [
        "# Define\n",
        "neigh2 = KNeighborsClassifier(n_neighbors=10, weights='distance') #ถามเพื่อนบ้านที่ใกล้ที่สุด 3 คน เเละเชื่อคนที่ใกล้มากกว่าไกล\n",
        "# Train\n",
        "neigh2.fit(X_train2,y_train2)\n",
        "# Test\n",
        "knn2_result = neigh2.predict(X_val)\n",
        "accuracy_score(y_val, knn2_result)"
      ],
      "execution_count": 5,
      "outputs": [
        {
          "output_type": "execute_result",
          "data": {
            "text/plain": [
              "0.9703703703703703"
            ]
          },
          "metadata": {},
          "execution_count": 5
        }
      ]
    },
    {
      "cell_type": "markdown",
      "metadata": {
        "id": "CpOYRVxxw14G"
      },
      "source": [
        "## **knn3**"
      ]
    },
    {
      "cell_type": "code",
      "metadata": {
        "id": "Yslzm_Qhw0U7",
        "outputId": "2b45a16b-7b18-4c99-9628-86e9bb7da675",
        "colab": {
          "base_uri": "https://localhost:8080/"
        }
      },
      "source": [
        "# Define\n",
        "neigh3 = KNeighborsClassifier(n_neighbors=1) #เชื่อเพื่อนบ้านที่ใกล้ที่สุดคนเดียว\n",
        "# Train\n",
        "neigh3.fit(X_train2,y_train2)\n",
        "# Test\n",
        "knn3_result = neigh3.predict(X_val)\n",
        "accuracy_score(y_val, knn3_result)"
      ],
      "execution_count": 6,
      "outputs": [
        {
          "output_type": "execute_result",
          "data": {
            "text/plain": [
              "0.9777777777777777"
            ]
          },
          "metadata": {},
          "execution_count": 6
        }
      ]
    },
    {
      "cell_type": "markdown",
      "metadata": {
        "id": "vucdFgd7w51-"
      },
      "source": [
        "# Retrain & Evaluate"
      ]
    },
    {
      "cell_type": "code",
      "metadata": {
        "id": "fJjDHEAmw5pJ",
        "outputId": "6b17e36c-ae14-4681-baea-3e9a827d7843",
        "colab": {
          "base_uri": "https://localhost:8080/"
        }
      },
      "source": [
        "# Define\n",
        "neigh3_final = KNeighborsClassifier(n_neighbors=1)\n",
        "# Train\n",
        "neigh3_final.fit(X_train,y_train)\n",
        "# Evaluation\n",
        "knn3final_result = neigh3_final.predict(X_test)\n",
        "accuracy_score(y_test, knn3final_result)"
      ],
      "execution_count": 7,
      "outputs": [
        {
          "output_type": "execute_result",
          "data": {
            "text/plain": [
              "0.982202447163515"
            ]
          },
          "metadata": {},
          "execution_count": 7
        }
      ]
    },
    {
      "cell_type": "markdown",
      "metadata": {
        "id": "kPcRXAdKw-OJ"
      },
      "source": [
        "# Neural Network"
      ]
    },
    {
      "cell_type": "markdown",
      "metadata": {
        "id": "rBNK_1_2xBE4"
      },
      "source": [
        "Import"
      ]
    },
    {
      "cell_type": "code",
      "metadata": {
        "id": "LJGk7Fncw4CJ"
      },
      "source": [
        "from sklearn.neural_network import MLPClassifier"
      ],
      "execution_count": 8,
      "outputs": []
    },
    {
      "cell_type": "markdown",
      "metadata": {
        "id": "7RUPWDO_xEZg"
      },
      "source": [
        "Define"
      ]
    },
    {
      "cell_type": "code",
      "metadata": {
        "id": "MPdSVeftxDDj"
      },
      "source": [
        "perceptron1 = MLPClassifier(random_state=6, max_iter=2000, hidden_layer_sizes=1,learning_rate_init=0.005)"
      ],
      "execution_count": 9,
      "outputs": []
    },
    {
      "cell_type": "markdown",
      "metadata": {
        "id": "kATEx1uwxHGy"
      },
      "source": [
        "Train - Test"
      ]
    },
    {
      "cell_type": "code",
      "metadata": {
        "id": "QkzlhNwvxF7V",
        "outputId": "114042ba-6992-44de-f777-8eeab94e0db4",
        "colab": {
          "base_uri": "https://localhost:8080/"
        }
      },
      "source": [
        "# Train\n",
        "perceptron1.fit(X_train2,y_train2)\n",
        "# Test\n",
        "ann1_result = perceptron1.predict(X_val)\n",
        "accuracy_score(y_val, ann1_result)"
      ],
      "execution_count": 10,
      "outputs": [
        {
          "output_type": "execute_result",
          "data": {
            "text/plain": [
              "0.2777777777777778"
            ]
          },
          "metadata": {},
          "execution_count": 10
        }
      ]
    },
    {
      "cell_type": "markdown",
      "metadata": {
        "id": "Cq7hAtrRxKi-"
      },
      "source": [
        "ANN 2"
      ]
    },
    {
      "cell_type": "code",
      "metadata": {
        "id": "SD8pVa52xIrw",
        "outputId": "0fc5cba2-56f3-43d9-9cf5-12b6180c60ad",
        "colab": {
          "base_uri": "https://localhost:8080/"
        }
      },
      "source": [
        "perceptron2 = MLPClassifier(random_state=6, max_iter=2000, hidden_layer_sizes=10,learning_rate_init=0.005)\n",
        "# Train\n",
        "perceptron2.fit(X_train2,y_train2)\n",
        "# Test\n",
        "ann2_result = perceptron2.predict(X_val)\n",
        "accuracy_score(y_val, ann2_result)"
      ],
      "execution_count": 11,
      "outputs": [
        {
          "output_type": "execute_result",
          "data": {
            "text/plain": [
              "0.9185185185185185"
            ]
          },
          "metadata": {},
          "execution_count": 11
        }
      ]
    },
    {
      "cell_type": "markdown",
      "metadata": {
        "id": "RxT1zYDrxT0V"
      },
      "source": [
        "ANN 3"
      ]
    },
    {
      "cell_type": "code",
      "metadata": {
        "id": "f-PATdcexNui",
        "outputId": "649acd5d-5411-4918-c1b8-083c669ddc54",
        "colab": {
          "base_uri": "https://localhost:8080/"
        }
      },
      "source": [
        "perceptron3 = MLPClassifier(random_state=6, max_iter=20000, hidden_layer_sizes=10,learning_rate_init=0.001)\n",
        "# Train\n",
        "perceptron3.fit(X_train2,y_train2)\n",
        "# Test\n",
        "ann3_result = perceptron3.predict(X_val)\n",
        "accuracy_score(y_val, ann3_result)"
      ],
      "execution_count": 13,
      "outputs": [
        {
          "output_type": "execute_result",
          "data": {
            "text/plain": [
              "0.9444444444444444"
            ]
          },
          "metadata": {},
          "execution_count": 13
        }
      ]
    },
    {
      "cell_type": "code",
      "metadata": {
        "id": "W0SAPrUexP5d"
      },
      "source": [
        ""
      ],
      "execution_count": null,
      "outputs": []
    }
  ]
}