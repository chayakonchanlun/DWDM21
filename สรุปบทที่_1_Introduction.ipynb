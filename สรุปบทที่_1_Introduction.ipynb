{
  "nbformat": 4,
  "nbformat_minor": 0,
  "metadata": {
    "colab": {
      "name": "สรุปบทที่ 1 Introduction.ipynb",
      "provenance": [],
      "authorship_tag": "ABX9TyPBHuSo7BgyXBN7JsrQOl1B",
      "include_colab_link": true
    },
    "kernelspec": {
      "name": "python3",
      "display_name": "Python 3"
    },
    "language_info": {
      "name": "python"
    }
  },
  "cells": [
    {
      "cell_type": "markdown",
      "metadata": {
        "id": "view-in-github",
        "colab_type": "text"
      },
      "source": [
        "<a href=\"https://colab.research.google.com/github/chayakonchanlun/DWDM21/blob/main/%E0%B8%AA%E0%B8%A3%E0%B8%B8%E0%B8%9B%E0%B8%9A%E0%B8%97%E0%B8%97%E0%B8%B5%E0%B9%88_1_Introduction.ipynb\" target=\"_parent\"><img src=\"https://colab.research.google.com/assets/colab-badge.svg\" alt=\"Open In Colab\"/></a>"
      ]
    },
    {
      "cell_type": "markdown",
      "metadata": {
        "id": "nHppN1rfNKMG"
      },
      "source": [
        "สรุปเนื้อหาคาบที่ 1\n",
        "\n",
        "ตกลงเกณฑ์การให้คะเเนน\n",
        "- Project Presentation 30%\n",
        "- Programming assignments 40%\n",
        "- Final exam 30%\n",
        "\n",
        "ดาวน์โหลดเอกสารประกอบการเรียน Data Warehouse and Data mining\n",
        "\n",
        "จับกลุ่ม กลุ่มละ 5 คน เเล้วลงชื่อกลุ่มใน Excel\n",
        "\n",
        "\n",
        "สรุปเนื้อหาบทที่ 1\n",
        "\n",
        "Data mining คือ การวิเคราะห์ข้อมูลจากข้อมูลจำนวนมาก (big data) เพื่อหาความสัมพันธ์ของข้อมูลที่ซ่อนอยู่ โดยทำการจำแนกประเภท รูปแบบ \n",
        "เชื่อมโยงข้อมูลที่มีความสัมพันธ์กัน และหาความน่าจะเป็นที่จะเกิดขึ้น เพื่อให้ได้องค์ความรู้ใหม่ ที่สามารถนำไปใช้ประกอบการตัดสินใจในด้านต่างๆได้\n",
        "\n",
        "ประกอบไปด้วยขั้นตอนต่างๆดังนี้\n",
        "- Data Cleaning การคัดข้อมูลที่ไม่เกี่ยวข้องออกไป\n",
        "- Data Integration การรวมข้อมูลที่มีหลายแหล่งให้เป็นข้อมูลชุดเดียวกัน\n",
        "- Data Selection การดึงข้อมูลสำหรับการวิเคราะห์จากแหล่งที่บันทึกไว้\n",
        "- Data Transformation การแปลงข้อมูลให้เหมาะสมสำหรับการใช้งาน\n",
        "- Data Mining การค้นหารูปแบบที่เป็นประโยชน์จากข้อมูลที่มีอยู่\n",
        "- Pattern Evaluation การประเมินรูปแบบที่ได้จากการทำเหมืองข้อมูล\n",
        "- Knowledge Representation การนำเสนอความรู้ที่ค้นพบ โดยใช้เทคนิคในการนำเสนอเพื่อให้เข้าใจ\n",
        "\n",
        "knowledge discovery (kdd) process\n",
        "กระบวนการของ Data Mining (A KDD Process เป็นกระบวนการในการค้นหาลักษณะแฝงของข้อมูล (Pattern) ที่ซ่อนอยู่ในฐานข้อมูล\n",
        "\n",
        "Multi-Dimensional View of Data Mining (มุมมองหลายมิติของการทำเหมืองข้อมูล)\n",
        "- Data to be mined ข้อมูลที่จะขุด\n",
        "- Knowledge to be mined ความรู้ที่จะขุด\n",
        "- Techniques utilized เทคนิคที่ใช้\n",
        "- Applications adapted การดัดเเปลง"
      ]
    },
    {
      "cell_type": "code",
      "metadata": {
        "id": "_ZUtf-8CNZyS"
      },
      "source": [
        ""
      ],
      "execution_count": null,
      "outputs": []
    }
  ]
}