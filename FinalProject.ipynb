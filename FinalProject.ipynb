{
  "nbformat": 4,
  "nbformat_minor": 0,
  "metadata": {
    "colab": {
      "name": "FinalProject.ipynb",
      "provenance": [],
      "authorship_tag": "ABX9TyOHlGnMicd2JG/B7n+P703l",
      "include_colab_link": true
    },
    "kernelspec": {
      "name": "python3",
      "display_name": "Python 3"
    },
    "language_info": {
      "name": "python"
    }
  },
  "cells": [
    {
      "cell_type": "markdown",
      "metadata": {
        "id": "view-in-github",
        "colab_type": "text"
      },
      "source": [
        "<a href=\"https://colab.research.google.com/github/chayakonchanlun/DWDM21/blob/main/FinalProject.ipynb\" target=\"_parent\"><img src=\"https://colab.research.google.com/assets/colab-badge.svg\" alt=\"Open In Colab\"/></a>"
      ]
    },
    {
      "cell_type": "markdown",
      "metadata": {
        "id": "emG0LlD5pRDO"
      },
      "source": [
        "สมาชิก\n",
        "อ้างอิงข้อมูลจากเว๊บไซร์ www.data.go.th\n",
        "\n",
        "1.ข้อมูลจำนวนประชากรในกรุ่งเทพมหานคร จำเเนกตามอายุเเละเขตปี 56 อ้างอิง : https://data.go.th/dataset/poppulationbyage56\n",
        "\n",
        "2.ข้อมูลจำนวนประชากรในกรุ่งเทพมหานคร จำเเนกตามอายุเเละเขตปี 57 อ้างอิง : https://data.go.th/dataset/poppulationbyage57\n",
        "\n",
        "3.ข้อมูลจำนวนประชากรในกรุ่งเทพมหานคร จำเเนกตามอายุเเละเขตปี 59 อ้างอิง : https://data.go.th/dataset/poppulationbyage59\n",
        "\n",
        "Data_Preprecessing\n",
        "data ข้อมูลจำนวนประชากรในกรุงเทพมหานคร จำแนกตามอายุและเขต ปี 59,57,56"
      ]
    },
    {
      "cell_type": "code",
      "metadata": {
        "id": "sXAmLt-opCHC"
      },
      "source": [
        "#Import the pandas library for visualizing data | การ import ให้สามารถเรียกใช้ไลบรารี่ pandas ในการ visualizing ชุดข้อมูล\n",
        "import pandas as pd"
      ],
      "execution_count": 1,
      "outputs": []
    },
    {
      "cell_type": "code",
      "metadata": {
        "colab": {
          "base_uri": "https://localhost:8080/"
        },
        "id": "c3c9T3OupWr9",
        "outputId": "5f2aef2f-74d3-473b-cfb5-37b4ea1df235"
      },
      "source": [
        "#Import the drive library from Google Colab module | การ import ให้สามารถเรียกใช้ไลบรารี่ drive ในการเข้าถึงไฟล์บน Google Drive\n",
        "from google.colab import drive \n",
        "\n",
        "#Mount the drive on Google Colab to access any files from Google Drive | การ mount ไดร์ฟบน Google Colab ในการเข้าถึงไฟล์บน Google Drive \n",
        "drive.mount('/content/drive')"
      ],
      "execution_count": 2,
      "outputs": [
        {
          "output_type": "stream",
          "name": "stdout",
          "text": [
            "Mounted at /content/drive\n"
          ]
        }
      ]
    },
    {
      "cell_type": "code",
      "metadata": {
        "id": "4E6mv-C3pZgE"
      },
      "source": [
        "#Read .csv files on the path with pandas | การอ่านไฟล์นามสกุล .csv ตามตำแหน่งของ path ที่กำหนด ด้วยไลบรารี่ pandas \n",
        "\n",
        "import os\n",
        "path = '/content/drive/My Drive/DWDM21_DATA'"
      ],
      "execution_count": 3,
      "outputs": []
    },
    {
      "cell_type": "markdown",
      "metadata": {
        "id": "O8YkPsPAp9yq"
      },
      "source": [
        "# ข้อมูลจำนวนประชากรในกรุ่งเทพมหานคร จำเเนกตามอายุเเละเขตปี 56"
      ]
    }
  ]
}