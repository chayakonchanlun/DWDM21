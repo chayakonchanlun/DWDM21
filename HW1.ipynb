{
  "nbformat": 4,
  "nbformat_minor": 0,
  "metadata": {
    "colab": {
      "name": "HW1.ipynb",
      "provenance": [],
      "authorship_tag": "ABX9TyMrlF4ffyl27bM81WyayShP",
      "include_colab_link": true
    },
    "kernelspec": {
      "name": "python3",
      "display_name": "Python 3"
    },
    "language_info": {
      "name": "python"
    }
  },
  "cells": [
    {
      "cell_type": "markdown",
      "metadata": {
        "id": "view-in-github",
        "colab_type": "text"
      },
      "source": [
        "<a href=\"https://colab.research.google.com/github/chayakonchanlun/DWDM21/blob/main/HW1.ipynb\" target=\"_parent\"><img src=\"https://colab.research.google.com/assets/colab-badge.svg\" alt=\"Open In Colab\"/></a>"
      ]
    },
    {
      "cell_type": "markdown",
      "metadata": {
        "id": "CUR5MdLU7em0"
      },
      "source": [
        "## **สรุปเนื้อหาบทที่1**                        \n"
      ]
    },
    {
      "cell_type": "markdown",
      "metadata": {
        "id": "DBlNWMYo7mq4"
      },
      "source": [
        "นายชยากร จันทร์ลุน 623020517-9"
      ]
    },
    {
      "cell_type": "markdown",
      "metadata": {
        "id": "F2D-sn3Z8QUm"
      },
      "source": [
        "Data mining คือ การวิเคราะห์ข้อมูลจากข้อมูลจำนวนมาก (big data) เพื่อหาความสัมพันธ์ของข้อมูลที่ซ่อนอยู่ โดยทำการจำแนกประเภท รูปแบบ เชื่อมโยงข้อมูลที่มีความสัมพันธ์กัน และหาความน่าจะเป็นที่จะเกิดขึ้น เพื่อให้ได้องค์ความรู้ใหม่ ที่สามารถนำไปใช้ประกอบการตัดสินใจในด้านต่างๆ\n",
        "ซึ่งประกอบไปด้วยขั้นตอนต่างๆดังนี้\n",
        "\n",
        "1.  Data Cleaning เป็นขั้นตอนสำหรับการคัดข้อมูลที่ไม่เกี่ยวข้องออกไป\n",
        "2. Data Integrationเป็นขั้นตอนการรวมข้อมูลที่มีหลายแหล่งให้เป็นข้อมูลชุดเดียวกัน\n",
        "3. Data Selection เป็นขั้นตอนการดึงข้อมูลสำหรับการวิเคราะห์จากแหล่งที่บันทึกไว้\n",
        "4. Data Transformation เป็นขั้นตอนการแปลงข้อมูลให้เหมาะสมสำหรับการใช้งาน\n",
        "5. Data Mining เป็นขั้นตอนการค้นหารูปแบบที่เป็นประโยชน์จากข้อมูลที่มีอยู่\n",
        "6. Pattern Evaluation เป็นขั้นตอนการประเมินรูปแบบที่ได้จากการทำเหมืองข้อมูล\n",
        "7. Knowledge Representation เป็นขั้นตอนการนำเสนอความรู้ที่ค้นพบ โดยใช้เทคนิคในการนำเสนอเพื่อให้เข้าใจ\n",
        "\n"
      ]
    },
    {
      "cell_type": "markdown",
      "metadata": {
        "id": "xirs7mX8A5JW"
      },
      "source": [
        "knowledge discovery (kdd) process"
      ]
    },
    {
      "cell_type": "markdown",
      "metadata": {
        "id": "VsWflZdIA6f2"
      },
      "source": [
        "![image.png](data:image/png;base64,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)"
      ]
    },
    {
      "cell_type": "markdown",
      "metadata": {
        "id": "9Rdn7MwuA9Gt"
      },
      "source": [
        "คือกระบวนการที่ใช้\n",
        "ค้นหาและแยก\n",
        "สารสนเทศที่มีประโยชน์ออกจากเอกสารและข้อมูล\n",
        "ขนาดใหญ่ที่ประกอบไปด้วย\n",
        "\n",
        "1. การคัดแยกองค์ความรู้ (knowledge extraction)\n",
        "2. ข้อมูลในอดีต (data archaeology)\n",
        "3. การสํารวจข้อมูล(data exploration)\n",
        "4. การประมวลรูปแบบข้อมูล(data pattern processing)\n",
        "5. data dredging (dredge =\n",
        "ขุด,เจาะ\n",
        ")\n",
        "6. information harvesting"
      ]
    },
    {
      "cell_type": "code",
      "metadata": {
        "id": "i_9OMZPZ7aI-"
      },
      "source": [
        ""
      ],
      "execution_count": null,
      "outputs": []
    }
  ]
}