{
  "nbformat": 4,
  "nbformat_minor": 0,
  "metadata": {
    "colab": {
      "name": "Distance_Numpy.ipynb",
      "provenance": [],
      "authorship_tag": "ABX9TyNllVqAdd7GklGznK/0mGke",
      "include_colab_link": true
    },
    "kernelspec": {
      "name": "python3",
      "display_name": "Python 3"
    },
    "language_info": {
      "name": "python"
    }
  },
  "cells": [
    {
      "cell_type": "markdown",
      "metadata": {
        "id": "view-in-github",
        "colab_type": "text"
      },
      "source": [
        "<a href=\"https://colab.research.google.com/github/chayakonchanlun/DWDM21/blob/main/Distance_Numpy.ipynb\" target=\"_parent\"><img src=\"https://colab.research.google.com/assets/colab-badge.svg\" alt=\"Open In Colab\"/></a>"
      ]
    },
    {
      "cell_type": "code",
      "metadata": {
        "id": "YJmGFTjFcj54"
      },
      "source": [
        "import numpy as np \n",
        "#การรับทำงานกับ ข้อมูลที่เป็นตัวเลข (อยู่ในรูปแบบ Matrix)"
      ],
      "execution_count": 1,
      "outputs": []
    },
    {
      "cell_type": "markdown",
      "metadata": {
        "id": "Q5_EJ4gOOAQX"
      },
      "source": [
        "# Numpy Array\n",
        "\n",
        "# สร้าง numpy **array**"
      ]
    },
    {
      "cell_type": "code",
      "metadata": {
        "id": "npjqErQ2N-XB"
      },
      "source": [
        "np_a = np.array([[1,2,3],[4,5,6]]) \n",
        "# สร้าง numpy array ที่มี 2 เเถว 3 หลัก สร้าง matrix จาก list"
      ],
      "execution_count": 2,
      "outputs": []
    },
    {
      "cell_type": "code",
      "metadata": {
        "id": "24TVMSoCODjA",
        "colab": {
          "base_uri": "https://localhost:8080/"
        },
        "outputId": "0ff9006f-95ee-4fe0-a5c7-c083b535a11c"
      },
      "source": [
        "np_a"
      ],
      "execution_count": 3,
      "outputs": [
        {
          "output_type": "execute_result",
          "data": {
            "text/plain": [
              "array([[1, 2, 3],\n",
              "       [4, 5, 6]])"
            ]
          },
          "metadata": {},
          "execution_count": 3
        }
      ]
    },
    {
      "cell_type": "code",
      "metadata": {
        "id": "5CTmOBJFOExm",
        "colab": {
          "base_uri": "https://localhost:8080/"
        },
        "outputId": "10390622-6caf-4c69-91a0-8fd3ce46d66e"
      },
      "source": [
        "np_a.shape \n",
        "# เช็คขนาด (เเถว,หลัก)"
      ],
      "execution_count": 4,
      "outputs": [
        {
          "output_type": "execute_result",
          "data": {
            "text/plain": [
              "(2, 3)"
            ]
          },
          "metadata": {},
          "execution_count": 4
        }
      ]
    },
    {
      "cell_type": "code",
      "metadata": {
        "id": "Ba7OSu0NOGqS",
        "colab": {
          "base_uri": "https://localhost:8080/"
        },
        "outputId": "926ae260-d36e-4229-bfa5-6e0f78cc0e50"
      },
      "source": [
        "np_b = np.array([[1,4],[2,5],[3,6]])\n",
        "np_b"
      ],
      "execution_count": 5,
      "outputs": [
        {
          "output_type": "execute_result",
          "data": {
            "text/plain": [
              "array([[1, 4],\n",
              "       [2, 5],\n",
              "       [3, 6]])"
            ]
          },
          "metadata": {},
          "execution_count": 5
        }
      ]
    },
    {
      "cell_type": "markdown",
      "metadata": {
        "id": "3ft4U0RKOJ3u"
      },
      "source": [
        "## matrix **transpose**"
      ]
    },
    {
      "cell_type": "code",
      "metadata": {
        "id": "3bJVHIwMOIBd",
        "colab": {
          "base_uri": "https://localhost:8080/"
        },
        "outputId": "8869e5aa-412d-41c3-df78-3199eef0a2f3"
      },
      "source": [
        "np_a.T"
      ],
      "execution_count": 6,
      "outputs": [
        {
          "output_type": "execute_result",
          "data": {
            "text/plain": [
              "array([[1, 4],\n",
              "       [2, 5],\n",
              "       [3, 6]])"
            ]
          },
          "metadata": {},
          "execution_count": 6
        }
      ]
    },
    {
      "cell_type": "markdown",
      "metadata": {
        "id": "mR8T5ALRONZj"
      },
      "source": [
        "### **สร้าง matrix เริ่มต้น (zeros,ones)**"
      ]
    },
    {
      "cell_type": "code",
      "metadata": {
        "id": "h6uoMEDrOLrh",
        "colab": {
          "base_uri": "https://localhost:8080/"
        },
        "outputId": "5d6ff4e8-1fea-49f1-8f66-beab2042ab4a"
      },
      "source": [
        "np_z = np.zeros((4,5))   # matrix เริ่มต้นคือ matrix ที่กำหนดค่าให้เป็น 0,1\n",
        "np_z"
      ],
      "execution_count": 7,
      "outputs": [
        {
          "output_type": "execute_result",
          "data": {
            "text/plain": [
              "array([[0., 0., 0., 0., 0.],\n",
              "       [0., 0., 0., 0., 0.],\n",
              "       [0., 0., 0., 0., 0.],\n",
              "       [0., 0., 0., 0., 0.]])"
            ]
          },
          "metadata": {},
          "execution_count": 7
        }
      ]
    },
    {
      "cell_type": "code",
      "metadata": {
        "id": "8ttMOIOXOQBi",
        "colab": {
          "base_uri": "https://localhost:8080/"
        },
        "outputId": "b192fb58-4181-4cba-996d-af14868b87eb"
      },
      "source": [
        "np_o = np.ones((5,6))\n",
        "np_o"
      ],
      "execution_count": 8,
      "outputs": [
        {
          "output_type": "execute_result",
          "data": {
            "text/plain": [
              "array([[1., 1., 1., 1., 1., 1.],\n",
              "       [1., 1., 1., 1., 1., 1.],\n",
              "       [1., 1., 1., 1., 1., 1.],\n",
              "       [1., 1., 1., 1., 1., 1.],\n",
              "       [1., 1., 1., 1., 1., 1.]])"
            ]
          },
          "metadata": {},
          "execution_count": 8
        }
      ]
    },
    {
      "cell_type": "code",
      "metadata": {
        "id": "0migCE8VORh6",
        "colab": {
          "base_uri": "https://localhost:8080/"
        },
        "outputId": "3df803c5-cdc6-497a-b908-0eb7e40b6966"
      },
      "source": [
        "np_200 = 200 * np.ones((4,7))\n",
        "np_200 # ทำเป็นค่า 200 ทุกค่าใน matrix เอา 200"
      ],
      "execution_count": 9,
      "outputs": [
        {
          "output_type": "execute_result",
          "data": {
            "text/plain": [
              "array([[200., 200., 200., 200., 200., 200., 200.],\n",
              "       [200., 200., 200., 200., 200., 200., 200.],\n",
              "       [200., 200., 200., 200., 200., 200., 200.],\n",
              "       [200., 200., 200., 200., 200., 200., 200.]])"
            ]
          },
          "metadata": {},
          "execution_count": 9
        }
      ]
    },
    {
      "cell_type": "markdown",
      "metadata": {
        "id": "1M16QUICOUwt"
      },
      "source": [
        "## สร้าง matrix random **ค่าเเบบมั่ว**"
      ]
    },
    {
      "cell_type": "code",
      "metadata": {
        "id": "XBdxfIovOS04",
        "colab": {
          "base_uri": "https://localhost:8080/"
        },
        "outputId": "f08e7e99-71b3-4257-ac39-3aeeef5f9f92"
      },
      "source": [
        "np.random.randn(5,5) \n",
        "#random เลขมาจาก normal distribution ที่มี mu=0 std=1"
      ],
      "execution_count": 10,
      "outputs": [
        {
          "output_type": "execute_result",
          "data": {
            "text/plain": [
              "array([[-0.93126127,  0.13030316,  0.34609436,  0.46089966, -1.70635975],\n",
              "       [ 0.61755831,  1.97137526,  1.9025671 , -1.36589979,  0.62736489],\n",
              "       [ 0.55247157, -0.0873157 , -0.68881661, -0.55133681,  0.29960859],\n",
              "       [ 0.10953159,  1.10044906, -0.23531504, -0.26053425, -0.8924061 ],\n",
              "       [ 0.4056668 , -1.23447463, -1.10807665, -0.33880007,  2.0773819 ]])"
            ]
          },
          "metadata": {},
          "execution_count": 10
        }
      ]
    },
    {
      "cell_type": "code",
      "metadata": {
        "id": "6Yz3YQOWOWtF",
        "colab": {
          "base_uri": "https://localhost:8080/"
        },
        "outputId": "ff967add-2596-4065-fb0c-193358542307"
      },
      "source": [
        "2+(5*np.random.randn(3,3)) \n",
        "#normal distribution ที่มี mu=2 std=5"
      ],
      "execution_count": 11,
      "outputs": [
        {
          "output_type": "execute_result",
          "data": {
            "text/plain": [
              "array([[-8.59259096, -0.27188869, -0.32875218],\n",
              "       [ 3.47478456,  2.08763741,  6.82288398],\n",
              "       [12.31426186, -1.00576288, -6.14135408]])"
            ]
          },
          "metadata": {},
          "execution_count": 11
        }
      ]
    },
    {
      "cell_type": "code",
      "metadata": {
        "id": "lbcRhY3uOX0l",
        "colab": {
          "base_uri": "https://localhost:8080/"
        },
        "outputId": "a44b4f3d-04d4-44e5-d914-4d43d4f996e7"
      },
      "source": [
        "np.random.randint(5,11,(4,5)) \n",
        "#ค่าตั้งเเต่ระหว่าง 5 ถึง 10 (5,11,(ขนาด 4x5))"
      ],
      "execution_count": 12,
      "outputs": [
        {
          "output_type": "execute_result",
          "data": {
            "text/plain": [
              "array([[ 8,  7,  7,  9,  8],\n",
              "       [10,  6, 10,  7,  8],\n",
              "       [ 7,  5,  6, 10,  9],\n",
              "       [ 9,  9,  8,  6,  7]])"
            ]
          },
          "metadata": {},
          "execution_count": 12
        }
      ]
    },
    {
      "cell_type": "markdown",
      "metadata": {
        "id": "862mY95MOaq3"
      },
      "source": [
        "## matrix **properties**"
      ]
    },
    {
      "cell_type": "code",
      "metadata": {
        "id": "25JdDUktOZWf",
        "colab": {
          "base_uri": "https://localhost:8080/"
        },
        "outputId": "31f03c64-eff9-4621-8180-ad6686eb0f42"
      },
      "source": [
        "np_a"
      ],
      "execution_count": 13,
      "outputs": [
        {
          "output_type": "execute_result",
          "data": {
            "text/plain": [
              "array([[1, 2, 3],\n",
              "       [4, 5, 6]])"
            ]
          },
          "metadata": {},
          "execution_count": 13
        }
      ]
    },
    {
      "cell_type": "code",
      "metadata": {
        "id": "dWIXjUuIOclC",
        "colab": {
          "base_uri": "https://localhost:8080/"
        },
        "outputId": "a84c78d4-3d23-4a5f-a5f5-227a5889a332"
      },
      "source": [
        "np_a.T  #transpose"
      ],
      "execution_count": 14,
      "outputs": [
        {
          "output_type": "execute_result",
          "data": {
            "text/plain": [
              "array([[1, 4],\n",
              "       [2, 5],\n",
              "       [3, 6]])"
            ]
          },
          "metadata": {},
          "execution_count": 14
        }
      ]
    },
    {
      "cell_type": "code",
      "metadata": {
        "id": "IialLDoVOd5x",
        "colab": {
          "base_uri": "https://localhost:8080/"
        },
        "outputId": "4ae9c108-a5f5-4f3c-8ff9-0fe20cd44c85"
      },
      "source": [
        "1 + np_a  #adding scalar to matrix"
      ],
      "execution_count": 15,
      "outputs": [
        {
          "output_type": "execute_result",
          "data": {
            "text/plain": [
              "array([[2, 3, 4],\n",
              "       [5, 6, 7]])"
            ]
          },
          "metadata": {},
          "execution_count": 15
        }
      ]
    },
    {
      "cell_type": "code",
      "metadata": {
        "id": "UN-9dRgEOfSS",
        "colab": {
          "base_uri": "https://localhost:8080/"
        },
        "outputId": "260f23fa-ba66-4784-bfe1-4fa41daae289"
      },
      "source": [
        "2 * np_a  #multipling scalar to matrix"
      ],
      "execution_count": 16,
      "outputs": [
        {
          "output_type": "execute_result",
          "data": {
            "text/plain": [
              "array([[ 2,  4,  6],\n",
              "       [ 8, 10, 12]])"
            ]
          },
          "metadata": {},
          "execution_count": 16
        }
      ]
    },
    {
      "cell_type": "code",
      "metadata": {
        "id": "HpUClPlAOgfJ",
        "colab": {
          "base_uri": "https://localhost:8080/"
        },
        "outputId": "0f579b95-b202-41b7-d50c-9af32cc82bea"
      },
      "source": [
        "np_c = np.array([[6,5,4],[3,2,1]])\n",
        "np_c"
      ],
      "execution_count": 17,
      "outputs": [
        {
          "output_type": "execute_result",
          "data": {
            "text/plain": [
              "array([[6, 5, 4],\n",
              "       [3, 2, 1]])"
            ]
          },
          "metadata": {},
          "execution_count": 17
        }
      ]
    },
    {
      "cell_type": "code",
      "metadata": {
        "id": "TwRkm-ujOh04",
        "colab": {
          "base_uri": "https://localhost:8080/"
        },
        "outputId": "04423420-74cd-4763-8a47-bdf69487cfc5"
      },
      "source": [
        "np_a + np_c  #adding matrix to matrix"
      ],
      "execution_count": 18,
      "outputs": [
        {
          "output_type": "execute_result",
          "data": {
            "text/plain": [
              "array([[7, 7, 7],\n",
              "       [7, 7, 7]])"
            ]
          },
          "metadata": {},
          "execution_count": 18
        }
      ]
    },
    {
      "cell_type": "code",
      "metadata": {
        "id": "3PUDfRxJOi-N",
        "colab": {
          "base_uri": "https://localhost:8080/"
        },
        "outputId": "fdd7ce3a-8a38-45ae-c404-339dce1fa1c0"
      },
      "source": [
        "np_a.shape"
      ],
      "execution_count": 19,
      "outputs": [
        {
          "output_type": "execute_result",
          "data": {
            "text/plain": [
              "(2, 3)"
            ]
          },
          "metadata": {},
          "execution_count": 19
        }
      ]
    },
    {
      "cell_type": "code",
      "metadata": {
        "id": "ARIzJXF_OkaV",
        "colab": {
          "base_uri": "https://localhost:8080/"
        },
        "outputId": "77211fce-6e99-45e9-fd54-3bd86c600264"
      },
      "source": [
        "np_c.shape"
      ],
      "execution_count": 20,
      "outputs": [
        {
          "output_type": "execute_result",
          "data": {
            "text/plain": [
              "(2, 3)"
            ]
          },
          "metadata": {},
          "execution_count": 20
        }
      ]
    },
    {
      "cell_type": "code",
      "metadata": {
        "id": "zzt4rXdHOlj7",
        "colab": {
          "base_uri": "https://localhost:8080/"
        },
        "outputId": "db611655-e042-4586-be2c-97435a320a7c"
      },
      "source": [
        "np_c.T.shape"
      ],
      "execution_count": 21,
      "outputs": [
        {
          "output_type": "execute_result",
          "data": {
            "text/plain": [
              "(3, 2)"
            ]
          },
          "metadata": {},
          "execution_count": 21
        }
      ]
    },
    {
      "cell_type": "code",
      "metadata": {
        "id": "DKABMER2OmzP",
        "colab": {
          "base_uri": "https://localhost:8080/"
        },
        "outputId": "cf004ee5-e211-47a6-9e28-798fdf997025"
      },
      "source": [
        "np.dot(np_a,np_c.T)  #multipling matrix to matrix   (a,b) x (b,c) = (a,c)"
      ],
      "execution_count": 22,
      "outputs": [
        {
          "output_type": "execute_result",
          "data": {
            "text/plain": [
              "array([[28, 10],\n",
              "       [73, 28]])"
            ]
          },
          "metadata": {},
          "execution_count": 22
        }
      ]
    },
    {
      "cell_type": "markdown",
      "metadata": {
        "id": "oZCg00z6Opi7"
      },
      "source": [
        "## Indexing & **Slicing**"
      ]
    },
    {
      "cell_type": "code",
      "metadata": {
        "id": "sLtX5FVLOoBp",
        "colab": {
          "base_uri": "https://localhost:8080/"
        },
        "outputId": "da8d2631-23b6-488f-eb60-76bf4bb202c3"
      },
      "source": [
        "np_a"
      ],
      "execution_count": 23,
      "outputs": [
        {
          "output_type": "execute_result",
          "data": {
            "text/plain": [
              "array([[1, 2, 3],\n",
              "       [4, 5, 6]])"
            ]
          },
          "metadata": {},
          "execution_count": 23
        }
      ]
    },
    {
      "cell_type": "code",
      "metadata": {
        "id": "AYn29_9MOrLE",
        "colab": {
          "base_uri": "https://localhost:8080/"
        },
        "outputId": "316a6dfa-5572-42f8-b122-21e88429b402"
      },
      "source": [
        "np_a[1,1]"
      ],
      "execution_count": 24,
      "outputs": [
        {
          "output_type": "execute_result",
          "data": {
            "text/plain": [
              "5"
            ]
          },
          "metadata": {},
          "execution_count": 24
        }
      ]
    },
    {
      "cell_type": "code",
      "metadata": {
        "id": "NxQNkvcOOs69",
        "colab": {
          "base_uri": "https://localhost:8080/"
        },
        "outputId": "e606bbd6-3251-4e58-ed5b-e413714bb786"
      },
      "source": [
        "np_a[:2,:2]\n"
      ],
      "execution_count": 25,
      "outputs": [
        {
          "output_type": "execute_result",
          "data": {
            "text/plain": [
              "array([[1, 2],\n",
              "       [4, 5]])"
            ]
          },
          "metadata": {},
          "execution_count": 25
        }
      ]
    },
    {
      "cell_type": "code",
      "metadata": {
        "id": "5vAP-qZXOuUf",
        "colab": {
          "base_uri": "https://localhost:8080/"
        },
        "outputId": "1abe9e35-cbff-47e6-e950-cce7ab42782d"
      },
      "source": [
        "np_a[0,:]"
      ],
      "execution_count": 26,
      "outputs": [
        {
          "output_type": "execute_result",
          "data": {
            "text/plain": [
              "array([1, 2, 3])"
            ]
          },
          "metadata": {},
          "execution_count": 26
        }
      ]
    },
    {
      "cell_type": "markdown",
      "metadata": {
        "id": "doxnOMVZOw9x"
      },
      "source": [
        "## Useful **functions**"
      ]
    },
    {
      "cell_type": "code",
      "metadata": {
        "id": "6goWzR-zOvVr",
        "colab": {
          "base_uri": "https://localhost:8080/"
        },
        "outputId": "c108f498-049a-4bbd-eb85-81f4da7a11ba"
      },
      "source": [
        "\n",
        "np_a"
      ],
      "execution_count": 27,
      "outputs": [
        {
          "output_type": "execute_result",
          "data": {
            "text/plain": [
              "array([[1, 2, 3],\n",
              "       [4, 5, 6]])"
            ]
          },
          "metadata": {},
          "execution_count": 27
        }
      ]
    },
    {
      "cell_type": "code",
      "metadata": {
        "id": "PVzowLvfOyv-",
        "colab": {
          "base_uri": "https://localhost:8080/"
        },
        "outputId": "a8d22ea7-7265-4cf5-e425-8f7f59bfd98d"
      },
      "source": [
        "np.sum(np_a)"
      ],
      "execution_count": 28,
      "outputs": [
        {
          "output_type": "execute_result",
          "data": {
            "text/plain": [
              "21"
            ]
          },
          "metadata": {},
          "execution_count": 28
        }
      ]
    },
    {
      "cell_type": "code",
      "metadata": {
        "id": "AutBx6XaO0Al",
        "colab": {
          "base_uri": "https://localhost:8080/"
        },
        "outputId": "87f3c8d6-eea0-4f8c-8b28-2417b6c7c3a0"
      },
      "source": [
        "np.sum(np_a,axis=0)  # axis 0 ก็คือรวมเลขในแต่ละแถว"
      ],
      "execution_count": 29,
      "outputs": [
        {
          "output_type": "execute_result",
          "data": {
            "text/plain": [
              "array([5, 7, 9])"
            ]
          },
          "metadata": {},
          "execution_count": 29
        }
      ]
    },
    {
      "cell_type": "code",
      "metadata": {
        "id": "ImbZmubvO1Et",
        "colab": {
          "base_uri": "https://localhost:8080/"
        },
        "outputId": "2f3124ac-459a-4258-dde8-81c57fb1df9c"
      },
      "source": [
        "np.sum(np_a,axis=1)  # axis 1 ก็คือรวมเลขในแต่ละหลัก"
      ],
      "execution_count": 30,
      "outputs": [
        {
          "output_type": "execute_result",
          "data": {
            "text/plain": [
              "array([ 6, 15])"
            ]
          },
          "metadata": {},
          "execution_count": 30
        }
      ]
    },
    {
      "cell_type": "code",
      "metadata": {
        "id": "nHYtKv_LO2RL",
        "colab": {
          "base_uri": "https://localhost:8080/"
        },
        "outputId": "21840605-edb0-44e4-da3c-42e5991ababf"
      },
      "source": [
        "np.mean(np_a)"
      ],
      "execution_count": 31,
      "outputs": [
        {
          "output_type": "execute_result",
          "data": {
            "text/plain": [
              "3.5"
            ]
          },
          "metadata": {},
          "execution_count": 31
        }
      ]
    },
    {
      "cell_type": "code",
      "metadata": {
        "id": "9wHNM-atO3Tp",
        "colab": {
          "base_uri": "https://localhost:8080/"
        },
        "outputId": "bd6e68f4-d0be-4cff-f802-9576d74b3c91"
      },
      "source": [
        "np.mean(np_a,axis=0)  #หา mean ของ column"
      ],
      "execution_count": 32,
      "outputs": [
        {
          "output_type": "execute_result",
          "data": {
            "text/plain": [
              "array([2.5, 3.5, 4.5])"
            ]
          },
          "metadata": {},
          "execution_count": 32
        }
      ]
    },
    {
      "cell_type": "markdown",
      "metadata": {
        "id": "UyTw80yGO6wH"
      },
      "source": [
        "## **วนลูปเอง**\n",
        "# **summation**"
      ]
    },
    {
      "cell_type": "code",
      "metadata": {
        "id": "Cq_815hfO4bB",
        "colab": {
          "base_uri": "https://localhost:8080/"
        },
        "outputId": "69956ce7-a2c5-4f39-8699-988e2c56e2a5"
      },
      "source": [
        "np_a.shape"
      ],
      "execution_count": 33,
      "outputs": [
        {
          "output_type": "execute_result",
          "data": {
            "text/plain": [
              "(2, 3)"
            ]
          },
          "metadata": {},
          "execution_count": 33
        }
      ]
    },
    {
      "cell_type": "code",
      "metadata": {
        "id": "EjnlpGVgO-cV",
        "colab": {
          "base_uri": "https://localhost:8080/"
        },
        "outputId": "931b7786-dea9-4046-c0ed-c3ebbeaa10a4"
      },
      "source": [
        "sum_all = 0\n",
        "\n",
        "for row in range(np_a.shape[0]):\n",
        "    for col in range(np_a.shape[1]):\n",
        "        sum_all = sum_all + np_a[row,col]\n",
        "        print(f'we are at row={row},col={col} np_a[{row},{col}]={np_a[row,col]}  sum_all={sum_all}')\n",
        "print(sum_all)"
      ],
      "execution_count": 34,
      "outputs": [
        {
          "output_type": "stream",
          "name": "stdout",
          "text": [
            "we are at row=0,col=0 np_a[0,0]=1  sum_all=1\n",
            "we are at row=0,col=1 np_a[0,1]=2  sum_all=3\n",
            "we are at row=0,col=2 np_a[0,2]=3  sum_all=6\n",
            "we are at row=1,col=0 np_a[1,0]=4  sum_all=10\n",
            "we are at row=1,col=1 np_a[1,1]=5  sum_all=15\n",
            "we are at row=1,col=2 np_a[1,2]=6  sum_all=21\n",
            "21\n"
          ]
        }
      ]
    },
    {
      "cell_type": "code",
      "metadata": {
        "id": "FiCGLZ32O_4J",
        "colab": {
          "base_uri": "https://localhost:8080/"
        },
        "outputId": "011ce720-d641-4c43-95bb-34f2d6f3d1e6"
      },
      "source": [
        "sum_all = np.zeros(np_a.shape[1])\n",
        "\n",
        "for row in range(np_a.shape[0]):\n",
        "    for col in range(np_a.shape[1]):\n",
        "        sum_all[col] = sum_all[col] + np_a[row,col]\n",
        "print(sum_all)"
      ],
      "execution_count": 35,
      "outputs": [
        {
          "output_type": "stream",
          "name": "stdout",
          "text": [
            "[5. 7. 9.]\n"
          ]
        }
      ]
    },
    {
      "cell_type": "markdown",
      "metadata": {
        "id": "T2mJsDYwPDvf"
      },
      "source": [
        "# **Quiz กลุ่ม**\n",
        "## **วนลูปหาค่า**\n",
        "\n",
        "np.sum(np_a,axis=1)\n",
        "\n",
        "np.mean(np_a)\n",
        "\n",
        "np.mean(np_a,axis=0)\n",
        "\n",
        "np.mean(np_a,axis=1)\n",
        "\n",
        "np.max(np_a)\n",
        "\n",
        "np.max(np_a,axis=0)\n",
        "\n",
        "np.max(np_a,axis=1)\n",
        "\n",
        "np.min(np_a)\n",
        "\n",
        "np.min(np_a,axis=0)\n",
        "\n",
        "np.min(np_a,axis=1)"
      ]
    },
    {
      "cell_type": "code",
      "metadata": {
        "id": "jK6-GVJzPBc4",
        "colab": {
          "base_uri": "https://localhost:8080/"
        },
        "outputId": "c2cf8cbe-2248-49c5-f62d-357b411af6d1"
      },
      "source": [
        "sum_all = np.zeros(np_a.shape[0])\n",
        "\n",
        "for row in range(np_a.shape[0]):\n",
        "    for col in range(np_a.shape[1]):\n",
        "        sum_all[row] = sum_all[row] + np_a[row,col]     \n",
        "print(sum_all)"
      ],
      "execution_count": 36,
      "outputs": [
        {
          "output_type": "stream",
          "name": "stdout",
          "text": [
            "[ 6. 15.]\n"
          ]
        }
      ]
    },
    {
      "cell_type": "code",
      "metadata": {
        "id": "TQtk38EzPKyd",
        "colab": {
          "base_uri": "https://localhost:8080/"
        },
        "outputId": "a0d2fe6f-b06b-4965-b345-3a6293c6fde7"
      },
      "source": [
        "mean_all = 0\n",
        "for row in range(np_a.shape[0]):\n",
        "    for col in range(np_a.shape[1]):\n",
        "        mean_all = mean_all + np_a[row,col]\n",
        "mean_all = mean_all/(np_a.shape[0]*np_a.shape[1])\n",
        "print(mean_all)"
      ],
      "execution_count": 37,
      "outputs": [
        {
          "output_type": "stream",
          "name": "stdout",
          "text": [
            "3.5\n"
          ]
        }
      ]
    },
    {
      "cell_type": "code",
      "metadata": {
        "id": "-Px6vlLLPL--",
        "colab": {
          "base_uri": "https://localhost:8080/"
        },
        "outputId": "16968e85-6eeb-4f4b-b16d-e4cb451ea4c8"
      },
      "source": [
        "mean_all = np.zeros(np_a.shape[1])\n",
        "\n",
        "for row in range(np_a.shape[0]):\n",
        "    for col in range(np_a.shape[1]):\n",
        "        mean_all[col] = mean_all[col] + np_a[row,col]/np_a.shape[0]\n",
        "print(mean_all)"
      ],
      "execution_count": 38,
      "outputs": [
        {
          "output_type": "stream",
          "name": "stdout",
          "text": [
            "[2.5 3.5 4.5]\n"
          ]
        }
      ]
    },
    {
      "cell_type": "code",
      "metadata": {
        "id": "IP9X5sRDPNMX",
        "colab": {
          "base_uri": "https://localhost:8080/"
        },
        "outputId": "0225db17-910c-4cb9-937a-ab026ba0fc05"
      },
      "source": [
        "sum_all = np.zeros(np_a.shape[0])\n",
        "\n",
        "for row in range(np_a.shape[0]):\n",
        "    for col in range(np_a.shape[1]):\n",
        "        sum_all[row] = sum_all[row] + np_a[row,col]\n",
        "sum_all = sum_all/np_a.shape[1]\n",
        "print(sum_all)"
      ],
      "execution_count": 39,
      "outputs": [
        {
          "output_type": "stream",
          "name": "stdout",
          "text": [
            "[2. 5.]\n"
          ]
        }
      ]
    },
    {
      "cell_type": "code",
      "metadata": {
        "id": "LomeBoVCPi1x",
        "colab": {
          "base_uri": "https://localhost:8080/"
        },
        "outputId": "5d6887c2-d8ee-4a5a-dd64-dfcce18b8edc"
      },
      "source": [
        "max_a = -100000000\n",
        "for row in range(np_a.shape[0]):\n",
        "    for col in range(np_a.shape[1]):\n",
        "        if np_a[row,col] > max_a :\n",
        "            max_a = np_a[row,col]\n",
        "print(max_a)"
      ],
      "execution_count": 40,
      "outputs": [
        {
          "output_type": "stream",
          "name": "stdout",
          "text": [
            "6\n"
          ]
        }
      ]
    },
    {
      "cell_type": "code",
      "metadata": {
        "id": "BR2-80zdPk3i",
        "colab": {
          "base_uri": "https://localhost:8080/"
        },
        "outputId": "10e03e10-995e-4c03-a404-baa59b5e33c3"
      },
      "source": [
        "max_all = -100000 * np.ones(np_a.shape[1])\n",
        "for col in range(np_a.shape[1]):\n",
        "    for row in range(np_a.shape[0]):\n",
        "        if np_a[row,col] > max_all[col]: \n",
        "            max_all[col] = np_a[row,col]\n",
        "print(max_all)"
      ],
      "execution_count": 41,
      "outputs": [
        {
          "output_type": "stream",
          "name": "stdout",
          "text": [
            "[4. 5. 6.]\n"
          ]
        }
      ]
    },
    {
      "cell_type": "code",
      "metadata": {
        "id": "AQsHkGZtPmlT",
        "colab": {
          "base_uri": "https://localhost:8080/"
        },
        "outputId": "c3ca877e-c0fa-4327-d18e-1083eef7531d"
      },
      "source": [
        "max_all = np.zeros(np_a.shape[0])\n",
        "for row in range(np_a.shape[0]):\n",
        "    max_all[row] = max(np_a[row,:])\n",
        "print(max_all)"
      ],
      "execution_count": 42,
      "outputs": [
        {
          "output_type": "stream",
          "name": "stdout",
          "text": [
            "[3. 6.]\n"
          ]
        }
      ]
    },
    {
      "cell_type": "code",
      "metadata": {
        "id": "Lw6bS_UxPnqY",
        "colab": {
          "base_uri": "https://localhost:8080/"
        },
        "outputId": "45682246-dc64-4b52-fea0-7f2eb26fa6eb"
      },
      "source": [
        "minV = 100000\n",
        "for row in range(np_a.shape[0]):\n",
        "    for col in range(np_a.shape[1]):\n",
        "        if np_a[row,col] < minV:\n",
        "            minV = np_a[row,col]\n",
        "print(minV)"
      ],
      "execution_count": 43,
      "outputs": [
        {
          "output_type": "stream",
          "name": "stdout",
          "text": [
            "1\n"
          ]
        }
      ]
    },
    {
      "cell_type": "code",
      "metadata": {
        "id": "gqpukDa0PpRi",
        "colab": {
          "base_uri": "https://localhost:8080/"
        },
        "outputId": "e2c76c33-ced0-4047-a2aa-1d337c547d75"
      },
      "source": [
        "min_all = np.zeros(np_a.shape[1])\n",
        "\n",
        "for col in range(np_a.shape[1]):\n",
        "    min_all[col] = min(np_a[:,col])\n",
        "print(min_all)"
      ],
      "execution_count": 44,
      "outputs": [
        {
          "output_type": "stream",
          "name": "stdout",
          "text": [
            "[1. 2. 3.]\n"
          ]
        }
      ]
    },
    {
      "cell_type": "code",
      "metadata": {
        "id": "g3DINtemPq1f",
        "colab": {
          "base_uri": "https://localhost:8080/"
        },
        "outputId": "346a54fe-bc7a-4f4d-df40-438c65a37762"
      },
      "source": [
        "min_row = np.zeros(np_a.shape[0])\n",
        "for row in range(np_a.shape[0]):\n",
        "   min_row[row] = min(np_a[row,:])\n",
        "print(min_row)"
      ],
      "execution_count": 45,
      "outputs": [
        {
          "output_type": "stream",
          "name": "stdout",
          "text": [
            "[1. 4.]\n"
          ]
        }
      ]
    },
    {
      "cell_type": "markdown",
      "metadata": {
        "id": "iLQ5tHx8odSg"
      },
      "source": [
        "## Distance **Matrix**"
      ]
    },
    {
      "cell_type": "code",
      "metadata": {
        "id": "7kcFPbaZPsDE",
        "colab": {
          "base_uri": "https://localhost:8080/"
        },
        "outputId": "2c279aa8-1af8-4d8a-b623-802dd358bc8e"
      },
      "source": [
        "data1 = np.array([[1,2],[3,5],[2,0],[4,5]])\n",
        "data1"
      ],
      "execution_count": 46,
      "outputs": [
        {
          "output_type": "execute_result",
          "data": {
            "text/plain": [
              "array([[1, 2],\n",
              "       [3, 5],\n",
              "       [2, 0],\n",
              "       [4, 5]])"
            ]
          },
          "metadata": {},
          "execution_count": 46
        }
      ]
    },
    {
      "cell_type": "code",
      "metadata": {
        "id": "pb7ruoqoofUZ",
        "colab": {
          "base_uri": "https://localhost:8080/",
          "height": 282
        },
        "outputId": "a71bad8f-7e62-46c0-e46f-92edaf115aa4"
      },
      "source": [
        "from matplotlib import pyplot as plt\n",
        "plt.scatter(data1[:,0],data1[:,1])"
      ],
      "execution_count": 47,
      "outputs": [
        {
          "output_type": "execute_result",
          "data": {
            "text/plain": [
              "<matplotlib.collections.PathCollection at 0x7f82ba779b50>"
            ]
          },
          "metadata": {},
          "execution_count": 47
        },
        {
          "output_type": "display_data",
          "data": {
            "image/png": "[encoded data removed]",
            "text/plain": [
              "<Figure size 432x288 with 1 Axes>"
            ]
          },
          "metadata": {
            "needs_background": "light"
          }
        }
      ]
    },
    {
      "cell_type": "markdown",
      "metadata": {
        "id": "6bO7msDOojbz"
      },
      "source": [
        "Euclidean Distance (L2-norm)\n",
        "\n",
        "$\\sqrt{(x_1-x_2)^2+(y_1-y_2)^2}$\n",
        "\n",
        "dist(P1,P2)"
      ]
    },
    {
      "cell_type": "code",
      "metadata": {
        "id": "3o-8buQ9ogpT",
        "colab": {
          "base_uri": "https://localhost:8080/"
        },
        "outputId": "6f60277c-045b-4ca0-acd6-e92d87ccedf7"
      },
      "source": [
        "dist_p1_p2 = np.sqrt(np.power(data1[0,0]-data1[1,0],2) + np.power(data1[0,1]-data1[1,1],2))\n",
        "dist_p1_p2"
      ],
      "execution_count": 48,
      "outputs": [
        {
          "output_type": "execute_result",
          "data": {
            "text/plain": [
              "3.605551275463989"
            ]
          },
          "metadata": {},
          "execution_count": 48
        }
      ]
    },
    {
      "cell_type": "code",
      "metadata": {
        "id": "gYLcng78om1d",
        "colab": {
          "base_uri": "https://localhost:8080/"
        },
        "outputId": "73436e45-edc4-4463-d25e-5a2ca117043f"
      },
      "source": [
        "dist_p1_p2 = np.power(np.power(data1[0,0]-data1[1,0],2) + np.power(data1[0,1]-data1[1,1],2),0.5)\n",
        "dist_p1_p2"
      ],
      "execution_count": 49,
      "outputs": [
        {
          "output_type": "execute_result",
          "data": {
            "text/plain": [
              "3.605551275463989"
            ]
          },
          "metadata": {},
          "execution_count": 49
        }
      ]
    },
    {
      "cell_type": "code",
      "metadata": {
        "id": "lEpjgu0Von8a",
        "colab": {
          "base_uri": "https://localhost:8080/"
        },
        "outputId": "2385807b-653c-4f6c-e712-ddda4e0973de"
      },
      "source": [
        "dist_p2_p4 = np.sqrt(np.power(data1[1,0]-data1[3,0],2) + np.power(data1[1,1]-data1[3,1],2))\n",
        "dist_p2_p4"
      ],
      "execution_count": 50,
      "outputs": [
        {
          "output_type": "execute_result",
          "data": {
            "text/plain": [
              "1.0"
            ]
          },
          "metadata": {},
          "execution_count": 50
        }
      ]
    },
    {
      "cell_type": "markdown",
      "metadata": {
        "id": "WEJhCZPqoqek"
      },
      "source": [
        "Distance function\n",
        "\n",
        "p1 = [x,y]\n",
        "\n",
        "dim = 2"
      ]
    },
    {
      "cell_type": "code",
      "metadata": {
        "id": "Hn5vmLDooo7A"
      },
      "source": [
        "def dist_l2_2(p1,p2):\n",
        "    return np.sqrt(np.power(p1[0]-p2[0],2) + np.power(p1[1]-p2[1],2))"
      ],
      "execution_count": 51,
      "outputs": []
    },
    {
      "cell_type": "code",
      "metadata": {
        "id": "D4MxgBtUos9X",
        "colab": {
          "base_uri": "https://localhost:8080/"
        },
        "outputId": "178ffb1f-93a1-4ffe-8b4d-924bbb8ca2ec"
      },
      "source": [
        "dist_l2_2(data1[0,:],data1[1,:])"
      ],
      "execution_count": 52,
      "outputs": [
        {
          "output_type": "execute_result",
          "data": {
            "text/plain": [
              "3.605551275463989"
            ]
          },
          "metadata": {},
          "execution_count": 52
        }
      ]
    },
    {
      "cell_type": "code",
      "metadata": {
        "id": "tPb8Au3hot5H",
        "colab": {
          "base_uri": "https://localhost:8080/"
        },
        "outputId": "0ac627cd-9e2a-4a67-fced-f360e86d2db0"
      },
      "source": [
        "dist_l2_2(data1[1,:],data1[3,:])"
      ],
      "execution_count": 53,
      "outputs": [
        {
          "output_type": "execute_result",
          "data": {
            "text/plain": [
              "1.0"
            ]
          },
          "metadata": {},
          "execution_count": 53
        }
      ]
    },
    {
      "cell_type": "code",
      "metadata": {
        "id": "DMlqhL_QovCN"
      },
      "source": [
        "def dist_l2_n(p1,p2):\n",
        "    sum = 0\n",
        "    for i in range(len(p1)):\n",
        "        sum = sum + np.power(p1[i]-p2[i],2)\n",
        "    return np.sqrt(sum)"
      ],
      "execution_count": 54,
      "outputs": []
    },
    {
      "cell_type": "code",
      "metadata": {
        "id": "OMBaCIuMowJE",
        "colab": {
          "base_uri": "https://localhost:8080/"
        },
        "outputId": "55690b99-13b1-4c7e-d45b-a51bb66c5074"
      },
      "source": [
        "dist_l2_n(data1[0,:],data1[1,:])"
      ],
      "execution_count": 55,
      "outputs": [
        {
          "output_type": "execute_result",
          "data": {
            "text/plain": [
              "3.605551275463989"
            ]
          },
          "metadata": {},
          "execution_count": 55
        }
      ]
    },
    {
      "cell_type": "markdown",
      "metadata": {
        "id": "LlAyR_BboyyJ"
      },
      "source": [
        "Manhattan Distance (L1-norm)\n",
        "\n",
        "$|x_1-x_2|+|y_1-y_2|$\n",
        "\n",
        "quiz6\n",
        "\n",
        "เขียน function คำนวณ manhattan distance ของ ข้อมูล 2 dimensions"
      ]
    },
    {
      "cell_type": "code",
      "metadata": {
        "id": "U0k_M65doxLo"
      },
      "source": [
        "def dist_l2_Q(p1,p2):\n",
        "    return np.abs(p1[0]-p2[0]) + np.abs(p1[1]-p2[1])"
      ],
      "execution_count": 56,
      "outputs": []
    },
    {
      "cell_type": "code",
      "metadata": {
        "id": "rlI4xKjVF5zj",
        "outputId": "7fd6e445-2e2c-4a03-8029-cee51348fbc8",
        "colab": {
          "base_uri": "https://localhost:8080/"
        }
      },
      "source": [
        "dist_l2_Q(data1[0,:],data1[1,:])"
      ],
      "execution_count": 57,
      "outputs": [
        {
          "output_type": "execute_result",
          "data": {
            "text/plain": [
              "5"
            ]
          },
          "metadata": {},
          "execution_count": 57
        }
      ]
    },
    {
      "cell_type": "markdown",
      "metadata": {
        "id": "voBjY7Y8F9Oa"
      },
      "source": [
        "HW11\n",
        "\n",
        "Function คำนวณ manhattan distance ของ ข้อมูล N dimensions\n",
        "\n",
        "Function คำนวณ L-$\\infty$ ของ ข้อมูล N dimensions\n",
        "\n",
        "Function คำนวณ Distance Matrix ด้วย Euclidean Distance"
      ]
    },
    {
      "cell_type": "code",
      "metadata": {
        "id": "Rxv6qAEhF7f0"
      },
      "source": [
        "#1.Function คำนวณ manhattan distance ของ ข้อมูล N dimensions\n",
        "def dist_l1_Hw11_1(p1,p2):\n",
        "    sum = 0\n",
        "    for i in range(len(p1)):\n",
        "        sum = sum + np.abs(p1[i]-p2[i])\n",
        "    return sum"
      ],
      "execution_count": 58,
      "outputs": []
    },
    {
      "cell_type": "code",
      "metadata": {
        "id": "nr7X_AoyGAAl",
        "outputId": "6b13c2ad-ae13-47db-a5e3-5e058360926e",
        "colab": {
          "base_uri": "https://localhost:8080/"
        }
      },
      "source": [
        "dist_l1_Hw11_1(data1[0,:],data1[1,:])"
      ],
      "execution_count": 59,
      "outputs": [
        {
          "output_type": "execute_result",
          "data": {
            "text/plain": [
              "5"
            ]
          },
          "metadata": {},
          "execution_count": 59
        }
      ]
    },
    {
      "cell_type": "code",
      "metadata": {
        "id": "mKfFOXC9GBZn",
        "outputId": "5a9c695b-f5b6-4619-f337-f95a3430697f",
        "colab": {
          "base_uri": "https://localhost:8080/"
        }
      },
      "source": [
        "dist_l1_Hw11_1(data1[1,:],data1[3,:])"
      ],
      "execution_count": 60,
      "outputs": [
        {
          "output_type": "execute_result",
          "data": {
            "text/plain": [
              "1"
            ]
          },
          "metadata": {},
          "execution_count": 60
        }
      ]
    },
    {
      "cell_type": "code",
      "metadata": {
        "id": "CMohgzhtGCfw"
      },
      "source": [
        "#2.Function คำนวณ L-$\\infty$ ของ ข้อมูล N dimensions\n",
        "def dist_linf_n(p1,p2):\n",
        "    maxv = -10000\n",
        "    for i in range(len(p1)):\n",
        "        this_dist = np.abs(p1[i]-p2[i])\n",
        "        if this_dist > maxv:\n",
        "            maxv = this_dist\n",
        "    return maxv"
      ],
      "execution_count": 61,
      "outputs": []
    },
    {
      "cell_type": "code",
      "metadata": {
        "id": "YksdISPYGEIY",
        "outputId": "a9f5c3b2-44b4-469b-ce7a-46eb544b0e92",
        "colab": {
          "base_uri": "https://localhost:8080/"
        }
      },
      "source": [
        "#x1, x3\n",
        "dist_linf_n(data1[0,:],data1[2,:])"
      ],
      "execution_count": 62,
      "outputs": [
        {
          "output_type": "execute_result",
          "data": {
            "text/plain": [
              "2"
            ]
          },
          "metadata": {},
          "execution_count": 62
        }
      ]
    },
    {
      "cell_type": "code",
      "metadata": {
        "id": "uMMwHimKGFZi",
        "outputId": "ca649d97-5587-4152-ff91-24d2c6eac94e",
        "colab": {
          "base_uri": "https://localhost:8080/"
        }
      },
      "source": [
        "dist_linf_n([-20,2,7],[0,5,9])"
      ],
      "execution_count": 63,
      "outputs": [
        {
          "output_type": "execute_result",
          "data": {
            "text/plain": [
              "20"
            ]
          },
          "metadata": {},
          "execution_count": 63
        }
      ]
    },
    {
      "cell_type": "code",
      "metadata": {
        "id": "IM_mxneKGGgk"
      },
      "source": [
        "#3.Function คำนวณ Distance Matrix ด้วย Euclidean Distance\n",
        "def dist_mat_eud(data):\n",
        "    d_mat = np.zeros((data.shape[0],data.shape[0]))\n",
        "    for i in range(data.shape[0]):\n",
        "        for j in range(data.shape[0]):\n",
        "            d_mat[i,j] = dist_l2_n(data[i,:],data[j,:])\n",
        "    return d_mat"
      ],
      "execution_count": 64,
      "outputs": []
    },
    {
      "cell_type": "code",
      "metadata": {
        "id": "PWBe4t8DGIsT",
        "outputId": "52018caf-8a44-4aeb-a2ea-28c51ad10634",
        "colab": {
          "base_uri": "https://localhost:8080/"
        }
      },
      "source": [
        "dist_mat_eud(data1)"
      ],
      "execution_count": 65,
      "outputs": [
        {
          "output_type": "execute_result",
          "data": {
            "text/plain": [
              "array([[0.        , 3.60555128, 2.23606798, 4.24264069],\n",
              "       [3.60555128, 0.        , 5.09901951, 1.        ],\n",
              "       [2.23606798, 5.09901951, 0.        , 5.38516481],\n",
              "       [4.24264069, 1.        , 5.38516481, 0.        ]])"
            ]
          },
          "metadata": {},
          "execution_count": 65
        }
      ]
    },
    {
      "cell_type": "markdown",
      "metadata": {
        "id": "TzodIN7HGMeJ"
      },
      "source": [
        "## Distance of Binary **Value**\n",
        "\n",
        "Create Table"
      ]
    },
    {
      "cell_type": "markdown",
      "metadata": {
        "id": "ks-lpIygGRlj"
      },
      "source": [
        "![image.png](data:image/png;base64,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)"
      ]
    },
    {
      "cell_type": "code",
      "metadata": {
        "id": "fcDtWC3_GKuo"
      },
      "source": [
        "import pandas as pd"
      ],
      "execution_count": 66,
      "outputs": []
    },
    {
      "cell_type": "code",
      "metadata": {
        "id": "JGtqGcSaGTjZ",
        "outputId": "c6614190-b22f-4aa3-a9be-89f34969a7f5",
        "colab": {
          "base_uri": "https://localhost:8080/",
          "height": 141
        }
      },
      "source": [
        "records = [['Jack',1,1,0,1,0,0,0],\n",
        "           ['Mary',0,1,0,1,0,1,0],\n",
        "           ['Jim',1,1,1,0,0,0,0]]\n",
        "labels = ['Name','Gender','Fever','Cough','Test-1','Test-2','Test-3','Test-4']\n",
        "binary_table = pd.DataFrame.from_records(records,columns=labels)\n",
        "binary_table"
      ],
      "execution_count": 67,
      "outputs": [
        {
          "output_type": "execute_result",
          "data": {
            "text/html": [
              "<div>\n",
              "<style scoped>\n",
              "    .dataframe tbody tr th:only-of-type {\n",
              "        vertical-align: middle;\n",
              "    }\n",
              "\n",
              "    .dataframe tbody tr th {\n",
              "        vertical-align: top;\n",
              "    }\n",
              "\n",
              "    .dataframe thead th {\n",
              "        text-align: right;\n",
              "    }\n",
              "</style>\n",
              "<table border=\"1\" class=\"dataframe\">\n",
              "  <thead>\n",
              "    <tr style=\"text-align: right;\">\n",
              "      <th></th>\n",
              "      <th>Name</th>\n",
              "      <th>Gender</th>\n",
              "      <th>Fever</th>\n",
              "      <th>Cough</th>\n",
              "      <th>Test-1</th>\n",
              "      <th>Test-2</th>\n",
              "      <th>Test-3</th>\n",
              "      <th>Test-4</th>\n",
              "    </tr>\n",
              "  </thead>\n",
              "  <tbody>\n",
              "    <tr>\n",
              "      <th>0</th>\n",
              "      <td>Jack</td>\n",
              "      <td>1</td>\n",
              "      <td>1</td>\n",
              "      <td>0</td>\n",
              "      <td>1</td>\n",
              "      <td>0</td>\n",
              "      <td>0</td>\n",
              "      <td>0</td>\n",
              "    </tr>\n",
              "    <tr>\n",
              "      <th>1</th>\n",
              "      <td>Mary</td>\n",
              "      <td>0</td>\n",
              "      <td>1</td>\n",
              "      <td>0</td>\n",
              "      <td>1</td>\n",
              "      <td>0</td>\n",
              "      <td>1</td>\n",
              "      <td>0</td>\n",
              "    </tr>\n",
              "    <tr>\n",
              "      <th>2</th>\n",
              "      <td>Jim</td>\n",
              "      <td>1</td>\n",
              "      <td>1</td>\n",
              "      <td>1</td>\n",
              "      <td>0</td>\n",
              "      <td>0</td>\n",
              "      <td>0</td>\n",
              "      <td>0</td>\n",
              "    </tr>\n",
              "  </tbody>\n",
              "</table>\n",
              "</div>"
            ],
            "text/plain": [
              "   Name  Gender  Fever  Cough  Test-1  Test-2  Test-3  Test-4\n",
              "0  Jack       1      1      0       1       0       0       0\n",
              "1  Mary       0      1      0       1       0       1       0\n",
              "2   Jim       1      1      1       0       0       0       0"
            ]
          },
          "metadata": {},
          "execution_count": 67
        }
      ]
    },
    {
      "cell_type": "code",
      "metadata": {
        "id": "TfjvMJOeGUxY"
      },
      "source": [
        "def dist_binary_symmetric(p1,p2):\n",
        "    q = 0\n",
        "    r = 0\n",
        "    s = 0\n",
        "    t = 0\n",
        "    for i in range(len(p1)):\n",
        "        if (p1[i] == 1) and (p2[i] == 1):\n",
        "            q = q + 1\n",
        "        if (p1[i] == 0) and (p2[i] == 1):\n",
        "            r = r + 1\n",
        "        if (p1[i] == 1) and (p2[i] == 0):\n",
        "            s = s + 1\n",
        "        if (p1[i] == 0) and (p2[i] == 0):\n",
        "            t = t + 1\n",
        "    return (r+s)/(q+r+s+t)"
      ],
      "execution_count": 68,
      "outputs": []
    },
    {
      "cell_type": "code",
      "metadata": {
        "id": "dsiFs4NRGWHT",
        "outputId": "edd8cdbc-c7a4-435c-bd47-465627d094cb",
        "colab": {
          "base_uri": "https://localhost:8080/"
        }
      },
      "source": [
        "dist_binary_symmetric(binary_table.iloc[0,1:],binary_table.iloc[1,1:])"
      ],
      "execution_count": 69,
      "outputs": [
        {
          "output_type": "execute_result",
          "data": {
            "text/plain": [
              "0.2857142857142857"
            ]
          },
          "metadata": {},
          "execution_count": 69
        }
      ]
    },
    {
      "cell_type": "code",
      "metadata": {
        "id": "24kmiD7ZGXc8"
      },
      "source": [
        ""
      ],
      "execution_count": null,
      "outputs": []
    }
  ]
}