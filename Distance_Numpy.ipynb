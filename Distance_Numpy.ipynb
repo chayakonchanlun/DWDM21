{
  "nbformat": 4,
  "nbformat_minor": 0,
  "metadata": {
    "colab": {
      "name": "Distance_Numpy.ipynb",
      "provenance": [],
      "authorship_tag": "ABX9TyPhZ7jpUxL0rOyzOvzXZUux",
      "include_colab_link": true
    },
    "kernelspec": {
      "name": "python3",
      "display_name": "Python 3"
    },
    "language_info": {
      "name": "python"
    }
  },
  "cells": [
    {
      "cell_type": "markdown",
      "metadata": {
        "id": "view-in-github",
        "colab_type": "text"
      },
      "source": [
        "<a href=\"https://colab.research.google.com/github/chayakonchanlun/DWDM21/blob/main/Distance_Numpy.ipynb\" target=\"_parent\"><img src=\"https://colab.research.google.com/assets/colab-badge.svg\" alt=\"Open In Colab\"/></a>"
      ]
    },
    {
      "cell_type": "code",
      "metadata": {
        "id": "YJmGFTjFcj54"
      },
      "source": [
        "import numpy as np \n",
        "#การรับทำงานกับ ข้อมูลที่เป็นตัวเลข (อยู่ในรูปแบบ Matrix)"
      ],
      "execution_count": 56,
      "outputs": []
    },
    {
      "cell_type": "markdown",
      "metadata": {
        "id": "Q5_EJ4gOOAQX"
      },
      "source": [
        "# Numpy Array\n",
        "\n",
        "# สร้าง numpy **array**"
      ]
    },
    {
      "cell_type": "code",
      "metadata": {
        "id": "npjqErQ2N-XB"
      },
      "source": [
        "np_a = np.array([[1,2,3],[4,5,6]]) \n",
        "# สร้าง numpy array ที่มี 2 เเถว 3 หลัก สร้าง matrix จาก list"
      ],
      "execution_count": 57,
      "outputs": []
    },
    {
      "cell_type": "code",
      "metadata": {
        "id": "24TVMSoCODjA",
        "colab": {
          "base_uri": "https://localhost:8080/"
        },
        "outputId": "ed92bd07-fc77-4b6a-96e8-2c5be9b46464"
      },
      "source": [
        "np_a"
      ],
      "execution_count": 58,
      "outputs": [
        {
          "output_type": "execute_result",
          "data": {
            "text/plain": [
              "array([[1, 2, 3],\n",
              "       [4, 5, 6]])"
            ]
          },
          "metadata": {},
          "execution_count": 58
        }
      ]
    },
    {
      "cell_type": "code",
      "metadata": {
        "id": "5CTmOBJFOExm",
        "colab": {
          "base_uri": "https://localhost:8080/"
        },
        "outputId": "2ff26251-4cd7-4a14-c235-16afd4fafddc"
      },
      "source": [
        "np_a.shape \n",
        "# เช็คขนาด (เเถว,หลัก)"
      ],
      "execution_count": 59,
      "outputs": [
        {
          "output_type": "execute_result",
          "data": {
            "text/plain": [
              "(2, 3)"
            ]
          },
          "metadata": {},
          "execution_count": 59
        }
      ]
    },
    {
      "cell_type": "code",
      "metadata": {
        "id": "Ba7OSu0NOGqS",
        "colab": {
          "base_uri": "https://localhost:8080/"
        },
        "outputId": "9db3aca5-6bb6-4811-8d39-86be557d0a60"
      },
      "source": [
        "np_b = np.array([[1,4],[2,5],[3,6]])\n",
        "np_b"
      ],
      "execution_count": 60,
      "outputs": [
        {
          "output_type": "execute_result",
          "data": {
            "text/plain": [
              "array([[1, 4],\n",
              "       [2, 5],\n",
              "       [3, 6]])"
            ]
          },
          "metadata": {},
          "execution_count": 60
        }
      ]
    },
    {
      "cell_type": "markdown",
      "metadata": {
        "id": "3ft4U0RKOJ3u"
      },
      "source": [
        "## matrix **transpose**"
      ]
    },
    {
      "cell_type": "code",
      "metadata": {
        "id": "3bJVHIwMOIBd",
        "colab": {
          "base_uri": "https://localhost:8080/"
        },
        "outputId": "f4840d73-4afe-4384-ba03-be5fac5aa77a"
      },
      "source": [
        "np_a.T"
      ],
      "execution_count": 61,
      "outputs": [
        {
          "output_type": "execute_result",
          "data": {
            "text/plain": [
              "array([[1, 4],\n",
              "       [2, 5],\n",
              "       [3, 6]])"
            ]
          },
          "metadata": {},
          "execution_count": 61
        }
      ]
    },
    {
      "cell_type": "markdown",
      "metadata": {
        "id": "mR8T5ALRONZj"
      },
      "source": [
        "### **สร้าง matrix เริ่มต้น (zeros,ones)**"
      ]
    },
    {
      "cell_type": "code",
      "metadata": {
        "id": "h6uoMEDrOLrh",
        "colab": {
          "base_uri": "https://localhost:8080/"
        },
        "outputId": "e424238a-edf4-4270-bb77-8fd2ac8e86e1"
      },
      "source": [
        "np_z = np.zeros((4,5))   # matrix เริ่มต้นคือ matrix ที่กำหนดค่าให้เป็น 0,1\n",
        "np_z"
      ],
      "execution_count": 62,
      "outputs": [
        {
          "output_type": "execute_result",
          "data": {
            "text/plain": [
              "array([[0., 0., 0., 0., 0.],\n",
              "       [0., 0., 0., 0., 0.],\n",
              "       [0., 0., 0., 0., 0.],\n",
              "       [0., 0., 0., 0., 0.]])"
            ]
          },
          "metadata": {},
          "execution_count": 62
        }
      ]
    },
    {
      "cell_type": "code",
      "metadata": {
        "id": "8ttMOIOXOQBi",
        "colab": {
          "base_uri": "https://localhost:8080/"
        },
        "outputId": "040d4722-a374-4c04-91bb-4070fe790719"
      },
      "source": [
        "np_o = np.ones((5,6))\n",
        "np_o"
      ],
      "execution_count": 63,
      "outputs": [
        {
          "output_type": "execute_result",
          "data": {
            "text/plain": [
              "array([[1., 1., 1., 1., 1., 1.],\n",
              "       [1., 1., 1., 1., 1., 1.],\n",
              "       [1., 1., 1., 1., 1., 1.],\n",
              "       [1., 1., 1., 1., 1., 1.],\n",
              "       [1., 1., 1., 1., 1., 1.]])"
            ]
          },
          "metadata": {},
          "execution_count": 63
        }
      ]
    },
    {
      "cell_type": "code",
      "metadata": {
        "id": "0migCE8VORh6",
        "colab": {
          "base_uri": "https://localhost:8080/"
        },
        "outputId": "7b287ea4-0157-4c02-a4a0-7c320c2f666d"
      },
      "source": [
        "np_200 = 200 * np.ones((4,7))\n",
        "np_200 # ทำเป็นค่า 200 ทุกค่าใน matrix เอา 200"
      ],
      "execution_count": 64,
      "outputs": [
        {
          "output_type": "execute_result",
          "data": {
            "text/plain": [
              "array([[200., 200., 200., 200., 200., 200., 200.],\n",
              "       [200., 200., 200., 200., 200., 200., 200.],\n",
              "       [200., 200., 200., 200., 200., 200., 200.],\n",
              "       [200., 200., 200., 200., 200., 200., 200.]])"
            ]
          },
          "metadata": {},
          "execution_count": 64
        }
      ]
    },
    {
      "cell_type": "markdown",
      "metadata": {
        "id": "1M16QUICOUwt"
      },
      "source": [
        "## สร้าง matrix random **ค่าเเบบมั่ว**"
      ]
    },
    {
      "cell_type": "code",
      "metadata": {
        "id": "XBdxfIovOS04",
        "colab": {
          "base_uri": "https://localhost:8080/"
        },
        "outputId": "c813e580-83b4-4280-f1ba-b1af00b66234"
      },
      "source": [
        "np.random.randn(5,5) \n",
        "#random เลขมาจาก normal distribution ที่มี mu=0 std=1"
      ],
      "execution_count": 65,
      "outputs": [
        {
          "output_type": "execute_result",
          "data": {
            "text/plain": [
              "array([[-1.61633967e-01,  2.44910528e-01,  3.35618379e-01,\n",
              "         7.60885913e-01,  6.67789630e-05],\n",
              "       [-1.72177471e-01, -4.66082793e-01, -1.73216746e-01,\n",
              "        -9.62442186e-01, -7.23029129e-01],\n",
              "       [ 4.99995613e-03,  4.37902111e-02,  1.21052692e+00,\n",
              "         7.27613653e-01,  4.83013182e-01],\n",
              "       [ 1.52747283e-01, -1.11677781e-01,  1.76435560e-01,\n",
              "         1.27071219e+00,  1.68682187e+00],\n",
              "       [ 2.82118999e-01, -8.88927307e-01, -1.58799480e+00,\n",
              "        -6.74737040e-01, -7.57101944e-02]])"
            ]
          },
          "metadata": {},
          "execution_count": 65
        }
      ]
    },
    {
      "cell_type": "code",
      "metadata": {
        "id": "6Yz3YQOWOWtF",
        "colab": {
          "base_uri": "https://localhost:8080/"
        },
        "outputId": "91c3bda9-ce1b-4f22-e7dd-7ac7aa71ea2f"
      },
      "source": [
        "2+(5*np.random.randn(3,3)) \n",
        "#normal distribution ที่มี mu=2 std=5"
      ],
      "execution_count": 66,
      "outputs": [
        {
          "output_type": "execute_result",
          "data": {
            "text/plain": [
              "array([[ 0.92724465,  7.40368698,  3.18423291],\n",
              "       [-2.70830556,  7.82020422,  8.89839713],\n",
              "       [-4.56950117,  0.22161773, -2.50641381]])"
            ]
          },
          "metadata": {},
          "execution_count": 66
        }
      ]
    },
    {
      "cell_type": "code",
      "metadata": {
        "id": "lbcRhY3uOX0l",
        "colab": {
          "base_uri": "https://localhost:8080/"
        },
        "outputId": "7771e925-06d3-45e0-b844-402388432cfc"
      },
      "source": [
        "np.random.randint(5,11,(4,5)) \n",
        "#ค่าตั้งเเต่ระหว่าง 5 ถึง 10 (5,11,(ขนาด 4x5))"
      ],
      "execution_count": 67,
      "outputs": [
        {
          "output_type": "execute_result",
          "data": {
            "text/plain": [
              "array([[ 5,  5,  7,  5,  7],\n",
              "       [10,  9,  7,  6,  6],\n",
              "       [ 7,  8,  6, 10,  6],\n",
              "       [10,  5,  6,  7,  7]])"
            ]
          },
          "metadata": {},
          "execution_count": 67
        }
      ]
    },
    {
      "cell_type": "markdown",
      "metadata": {
        "id": "862mY95MOaq3"
      },
      "source": [
        "## matrix **properties**"
      ]
    },
    {
      "cell_type": "code",
      "metadata": {
        "id": "25JdDUktOZWf",
        "colab": {
          "base_uri": "https://localhost:8080/"
        },
        "outputId": "c4e11a84-ce81-4969-f2b9-a8548355e24f"
      },
      "source": [
        "np_a"
      ],
      "execution_count": 68,
      "outputs": [
        {
          "output_type": "execute_result",
          "data": {
            "text/plain": [
              "array([[1, 2, 3],\n",
              "       [4, 5, 6]])"
            ]
          },
          "metadata": {},
          "execution_count": 68
        }
      ]
    },
    {
      "cell_type": "code",
      "metadata": {
        "id": "dWIXjUuIOclC",
        "colab": {
          "base_uri": "https://localhost:8080/"
        },
        "outputId": "44a3710e-d863-4d49-9493-0fe7dd28dc30"
      },
      "source": [
        "np_a.T  #transpose"
      ],
      "execution_count": 69,
      "outputs": [
        {
          "output_type": "execute_result",
          "data": {
            "text/plain": [
              "array([[1, 4],\n",
              "       [2, 5],\n",
              "       [3, 6]])"
            ]
          },
          "metadata": {},
          "execution_count": 69
        }
      ]
    },
    {
      "cell_type": "code",
      "metadata": {
        "id": "IialLDoVOd5x",
        "colab": {
          "base_uri": "https://localhost:8080/"
        },
        "outputId": "a7dfef20-1d13-446d-d349-37a96e6a1a60"
      },
      "source": [
        "1 + np_a  #adding scalar to matrix"
      ],
      "execution_count": 70,
      "outputs": [
        {
          "output_type": "execute_result",
          "data": {
            "text/plain": [
              "array([[2, 3, 4],\n",
              "       [5, 6, 7]])"
            ]
          },
          "metadata": {},
          "execution_count": 70
        }
      ]
    },
    {
      "cell_type": "code",
      "metadata": {
        "id": "UN-9dRgEOfSS",
        "colab": {
          "base_uri": "https://localhost:8080/"
        },
        "outputId": "2cacee8c-9d35-4577-e22d-27ddfcdef01d"
      },
      "source": [
        "2 * np_a  #multipling scalar to matrix"
      ],
      "execution_count": 71,
      "outputs": [
        {
          "output_type": "execute_result",
          "data": {
            "text/plain": [
              "array([[ 2,  4,  6],\n",
              "       [ 8, 10, 12]])"
            ]
          },
          "metadata": {},
          "execution_count": 71
        }
      ]
    },
    {
      "cell_type": "code",
      "metadata": {
        "id": "HpUClPlAOgfJ",
        "colab": {
          "base_uri": "https://localhost:8080/"
        },
        "outputId": "d6453988-0626-4072-99f7-c355e0352e4b"
      },
      "source": [
        "np_c = np.array([[6,5,4],[3,2,1]])\n",
        "np_c"
      ],
      "execution_count": 72,
      "outputs": [
        {
          "output_type": "execute_result",
          "data": {
            "text/plain": [
              "array([[6, 5, 4],\n",
              "       [3, 2, 1]])"
            ]
          },
          "metadata": {},
          "execution_count": 72
        }
      ]
    },
    {
      "cell_type": "code",
      "metadata": {
        "id": "TwRkm-ujOh04",
        "colab": {
          "base_uri": "https://localhost:8080/"
        },
        "outputId": "78cc32f6-aee9-4e70-f057-fceab996d758"
      },
      "source": [
        "np_a + np_c  #adding matrix to matrix"
      ],
      "execution_count": 73,
      "outputs": [
        {
          "output_type": "execute_result",
          "data": {
            "text/plain": [
              "array([[7, 7, 7],\n",
              "       [7, 7, 7]])"
            ]
          },
          "metadata": {},
          "execution_count": 73
        }
      ]
    },
    {
      "cell_type": "code",
      "metadata": {
        "id": "3PUDfRxJOi-N",
        "colab": {
          "base_uri": "https://localhost:8080/"
        },
        "outputId": "31a5fcd7-7cee-4d96-cc06-b6c95e43e607"
      },
      "source": [
        "np_a.shape"
      ],
      "execution_count": 74,
      "outputs": [
        {
          "output_type": "execute_result",
          "data": {
            "text/plain": [
              "(2, 3)"
            ]
          },
          "metadata": {},
          "execution_count": 74
        }
      ]
    },
    {
      "cell_type": "code",
      "metadata": {
        "id": "ARIzJXF_OkaV",
        "colab": {
          "base_uri": "https://localhost:8080/"
        },
        "outputId": "e247bfd5-c0dc-477b-c93d-e4e11904a567"
      },
      "source": [
        "np_c.shape"
      ],
      "execution_count": 75,
      "outputs": [
        {
          "output_type": "execute_result",
          "data": {
            "text/plain": [
              "(2, 3)"
            ]
          },
          "metadata": {},
          "execution_count": 75
        }
      ]
    },
    {
      "cell_type": "code",
      "metadata": {
        "id": "zzt4rXdHOlj7",
        "colab": {
          "base_uri": "https://localhost:8080/"
        },
        "outputId": "ed6495a2-63e9-4e64-d013-04edda557262"
      },
      "source": [
        "np_c.T.shape"
      ],
      "execution_count": 76,
      "outputs": [
        {
          "output_type": "execute_result",
          "data": {
            "text/plain": [
              "(3, 2)"
            ]
          },
          "metadata": {},
          "execution_count": 76
        }
      ]
    },
    {
      "cell_type": "code",
      "metadata": {
        "id": "DKABMER2OmzP",
        "colab": {
          "base_uri": "https://localhost:8080/"
        },
        "outputId": "fdf4b2aa-c8dc-43ff-b3f1-1e27cc1620ea"
      },
      "source": [
        "np.dot(np_a,np_c.T)  #multipling matrix to matrix   (a,b) x (b,c) = (a,c)"
      ],
      "execution_count": 77,
      "outputs": [
        {
          "output_type": "execute_result",
          "data": {
            "text/plain": [
              "array([[28, 10],\n",
              "       [73, 28]])"
            ]
          },
          "metadata": {},
          "execution_count": 77
        }
      ]
    },
    {
      "cell_type": "markdown",
      "metadata": {
        "id": "oZCg00z6Opi7"
      },
      "source": [
        "## Indexing & **Slicing**"
      ]
    },
    {
      "cell_type": "code",
      "metadata": {
        "id": "sLtX5FVLOoBp",
        "colab": {
          "base_uri": "https://localhost:8080/"
        },
        "outputId": "be291e95-1dee-47f2-febe-bc11c9289fd5"
      },
      "source": [
        "np_a"
      ],
      "execution_count": 78,
      "outputs": [
        {
          "output_type": "execute_result",
          "data": {
            "text/plain": [
              "array([[1, 2, 3],\n",
              "       [4, 5, 6]])"
            ]
          },
          "metadata": {},
          "execution_count": 78
        }
      ]
    },
    {
      "cell_type": "code",
      "metadata": {
        "id": "AYn29_9MOrLE",
        "colab": {
          "base_uri": "https://localhost:8080/"
        },
        "outputId": "b8283828-bdda-4acf-bd2c-856912034948"
      },
      "source": [
        "np_a[1,1]"
      ],
      "execution_count": 79,
      "outputs": [
        {
          "output_type": "execute_result",
          "data": {
            "text/plain": [
              "5"
            ]
          },
          "metadata": {},
          "execution_count": 79
        }
      ]
    },
    {
      "cell_type": "code",
      "metadata": {
        "id": "NxQNkvcOOs69",
        "colab": {
          "base_uri": "https://localhost:8080/"
        },
        "outputId": "782ea5e8-084f-4662-d9d7-63a438ab4399"
      },
      "source": [
        "np_a[:2,:2]\n"
      ],
      "execution_count": 80,
      "outputs": [
        {
          "output_type": "execute_result",
          "data": {
            "text/plain": [
              "array([[1, 2],\n",
              "       [4, 5]])"
            ]
          },
          "metadata": {},
          "execution_count": 80
        }
      ]
    },
    {
      "cell_type": "code",
      "metadata": {
        "id": "5vAP-qZXOuUf",
        "colab": {
          "base_uri": "https://localhost:8080/"
        },
        "outputId": "c22c452d-12c7-4934-ba12-e70011a8e3d5"
      },
      "source": [
        "np_a[0,:]"
      ],
      "execution_count": 81,
      "outputs": [
        {
          "output_type": "execute_result",
          "data": {
            "text/plain": [
              "array([1, 2, 3])"
            ]
          },
          "metadata": {},
          "execution_count": 81
        }
      ]
    },
    {
      "cell_type": "markdown",
      "metadata": {
        "id": "doxnOMVZOw9x"
      },
      "source": [
        "## Useful **functions**"
      ]
    },
    {
      "cell_type": "code",
      "metadata": {
        "id": "6goWzR-zOvVr",
        "colab": {
          "base_uri": "https://localhost:8080/"
        },
        "outputId": "b29569df-694b-416d-f78f-28bb059655cc"
      },
      "source": [
        "\n",
        "np_a"
      ],
      "execution_count": 82,
      "outputs": [
        {
          "output_type": "execute_result",
          "data": {
            "text/plain": [
              "array([[1, 2, 3],\n",
              "       [4, 5, 6]])"
            ]
          },
          "metadata": {},
          "execution_count": 82
        }
      ]
    },
    {
      "cell_type": "code",
      "metadata": {
        "id": "PVzowLvfOyv-",
        "colab": {
          "base_uri": "https://localhost:8080/"
        },
        "outputId": "90b6b57e-f973-4d86-8af5-b3ad2b4514d3"
      },
      "source": [
        "np.sum(np_a)"
      ],
      "execution_count": 83,
      "outputs": [
        {
          "output_type": "execute_result",
          "data": {
            "text/plain": [
              "21"
            ]
          },
          "metadata": {},
          "execution_count": 83
        }
      ]
    },
    {
      "cell_type": "code",
      "metadata": {
        "id": "AutBx6XaO0Al",
        "colab": {
          "base_uri": "https://localhost:8080/"
        },
        "outputId": "7575f8e3-6385-49d9-c9a1-332990880127"
      },
      "source": [
        "np.sum(np_a,axis=0)  # axis 0 ก็คือรวมเลขในแต่ละแถว"
      ],
      "execution_count": 84,
      "outputs": [
        {
          "output_type": "execute_result",
          "data": {
            "text/plain": [
              "array([5, 7, 9])"
            ]
          },
          "metadata": {},
          "execution_count": 84
        }
      ]
    },
    {
      "cell_type": "code",
      "metadata": {
        "id": "ImbZmubvO1Et",
        "colab": {
          "base_uri": "https://localhost:8080/"
        },
        "outputId": "02bc2479-6c26-4fea-9b43-d58f42ee16d2"
      },
      "source": [
        "np.sum(np_a,axis=1)  # axis 1 ก็คือรวมเลขในแต่ละหลัก"
      ],
      "execution_count": 85,
      "outputs": [
        {
          "output_type": "execute_result",
          "data": {
            "text/plain": [
              "array([ 6, 15])"
            ]
          },
          "metadata": {},
          "execution_count": 85
        }
      ]
    },
    {
      "cell_type": "code",
      "metadata": {
        "id": "nHYtKv_LO2RL",
        "colab": {
          "base_uri": "https://localhost:8080/"
        },
        "outputId": "033472e3-378d-4e35-b5a7-fbaf8334b7ed"
      },
      "source": [
        "np.mean(np_a)"
      ],
      "execution_count": 86,
      "outputs": [
        {
          "output_type": "execute_result",
          "data": {
            "text/plain": [
              "3.5"
            ]
          },
          "metadata": {},
          "execution_count": 86
        }
      ]
    },
    {
      "cell_type": "code",
      "metadata": {
        "id": "9wHNM-atO3Tp",
        "colab": {
          "base_uri": "https://localhost:8080/"
        },
        "outputId": "ce9deff1-1f7d-4fb1-e2a8-42442a2a45e1"
      },
      "source": [
        "np.mean(np_a,axis=0)  #หา mean ของ column"
      ],
      "execution_count": 87,
      "outputs": [
        {
          "output_type": "execute_result",
          "data": {
            "text/plain": [
              "array([2.5, 3.5, 4.5])"
            ]
          },
          "metadata": {},
          "execution_count": 87
        }
      ]
    },
    {
      "cell_type": "markdown",
      "metadata": {
        "id": "UyTw80yGO6wH"
      },
      "source": [
        "## **วนลูปเอง**\n",
        "# **summation**"
      ]
    },
    {
      "cell_type": "code",
      "metadata": {
        "id": "Cq_815hfO4bB",
        "colab": {
          "base_uri": "https://localhost:8080/"
        },
        "outputId": "3fbaa9a4-ed68-4a43-d656-a01e02035fdf"
      },
      "source": [
        "np_a.shape"
      ],
      "execution_count": 88,
      "outputs": [
        {
          "output_type": "execute_result",
          "data": {
            "text/plain": [
              "(2, 3)"
            ]
          },
          "metadata": {},
          "execution_count": 88
        }
      ]
    },
    {
      "cell_type": "code",
      "metadata": {
        "id": "EjnlpGVgO-cV",
        "colab": {
          "base_uri": "https://localhost:8080/"
        },
        "outputId": "5b2ff8aa-7b1d-4399-c989-5b87ac1ddb7a"
      },
      "source": [
        "sum_all = 0\n",
        "\n",
        "for row in range(np_a.shape[0]):\n",
        "    for col in range(np_a.shape[1]):\n",
        "        sum_all = sum_all + np_a[row,col]\n",
        "        print(f'we are at row={row},col={col} np_a[{row},{col}]={np_a[row,col]}  sum_all={sum_all}')\n",
        "print(sum_all)"
      ],
      "execution_count": 89,
      "outputs": [
        {
          "output_type": "stream",
          "name": "stdout",
          "text": [
            "we are at row=0,col=0 np_a[0,0]=1  sum_all=1\n",
            "we are at row=0,col=1 np_a[0,1]=2  sum_all=3\n",
            "we are at row=0,col=2 np_a[0,2]=3  sum_all=6\n",
            "we are at row=1,col=0 np_a[1,0]=4  sum_all=10\n",
            "we are at row=1,col=1 np_a[1,1]=5  sum_all=15\n",
            "we are at row=1,col=2 np_a[1,2]=6  sum_all=21\n",
            "21\n"
          ]
        }
      ]
    },
    {
      "cell_type": "code",
      "metadata": {
        "id": "FiCGLZ32O_4J",
        "colab": {
          "base_uri": "https://localhost:8080/"
        },
        "outputId": "85e108af-27cf-47d9-e34d-844a1e1c769e"
      },
      "source": [
        "sum_all = np.zeros(np_a.shape[1])\n",
        "\n",
        "for row in range(np_a.shape[0]):\n",
        "    for col in range(np_a.shape[1]):\n",
        "        sum_all[col] = sum_all[col] + np_a[row,col]\n",
        "print(sum_all)"
      ],
      "execution_count": 90,
      "outputs": [
        {
          "output_type": "stream",
          "name": "stdout",
          "text": [
            "[5. 7. 9.]\n"
          ]
        }
      ]
    },
    {
      "cell_type": "markdown",
      "metadata": {
        "id": "T2mJsDYwPDvf"
      },
      "source": [
        "# **Quiz กลุ่ม**\n",
        "## **วนลูปหาค่า**\n",
        "\n",
        "np.sum(np_a,axis=1)\n",
        "\n",
        "np.mean(np_a)\n",
        "\n",
        "np.mean(np_a,axis=0)\n",
        "\n",
        "np.mean(np_a,axis=1)\n",
        "\n",
        "np.max(np_a)\n",
        "\n",
        "np.max(np_a,axis=0)\n",
        "\n",
        "np.max(np_a,axis=1)\n",
        "\n",
        "np.min(np_a)\n",
        "\n",
        "np.min(np_a,axis=0)\n",
        "\n",
        "np.min(np_a,axis=1)"
      ]
    },
    {
      "cell_type": "code",
      "metadata": {
        "id": "jK6-GVJzPBc4",
        "colab": {
          "base_uri": "https://localhost:8080/"
        },
        "outputId": "ce497cb9-ced6-4fff-87f5-d434e836aea0"
      },
      "source": [
        "sum_all = np.zeros(np_a.shape[0])\n",
        "\n",
        "for row in range(np_a.shape[0]):\n",
        "    for col in range(np_a.shape[1]):\n",
        "        sum_all[row] = sum_all[row] + np_a[row,col]     \n",
        "print(sum_all)"
      ],
      "execution_count": 91,
      "outputs": [
        {
          "output_type": "stream",
          "name": "stdout",
          "text": [
            "[ 6. 15.]\n"
          ]
        }
      ]
    },
    {
      "cell_type": "code",
      "metadata": {
        "id": "TQtk38EzPKyd",
        "colab": {
          "base_uri": "https://localhost:8080/"
        },
        "outputId": "a1139160-0492-4c25-bce1-ec9baff31cbb"
      },
      "source": [
        "mean_all = 0\n",
        "for row in range(np_a.shape[0]):\n",
        "    for col in range(np_a.shape[1]):\n",
        "        mean_all = mean_all + np_a[row,col]\n",
        "mean_all = mean_all/(np_a.shape[0]*np_a.shape[1])\n",
        "print(mean_all)"
      ],
      "execution_count": 92,
      "outputs": [
        {
          "output_type": "stream",
          "name": "stdout",
          "text": [
            "3.5\n"
          ]
        }
      ]
    },
    {
      "cell_type": "code",
      "metadata": {
        "id": "-Px6vlLLPL--",
        "colab": {
          "base_uri": "https://localhost:8080/"
        },
        "outputId": "1cef86bb-ddff-482e-bc4b-21c9675cf0d7"
      },
      "source": [
        "mean_all = np.zeros(np_a.shape[1])\n",
        "\n",
        "for row in range(np_a.shape[0]):\n",
        "    for col in range(np_a.shape[1]):\n",
        "        mean_all[col] = mean_all[col] + np_a[row,col]/np_a.shape[0]\n",
        "print(mean_all)"
      ],
      "execution_count": 93,
      "outputs": [
        {
          "output_type": "stream",
          "name": "stdout",
          "text": [
            "[2.5 3.5 4.5]\n"
          ]
        }
      ]
    },
    {
      "cell_type": "code",
      "metadata": {
        "id": "IP9X5sRDPNMX",
        "colab": {
          "base_uri": "https://localhost:8080/"
        },
        "outputId": "3c7896c6-e4ab-4ee6-e7d7-df36e98835e3"
      },
      "source": [
        "sum_all = np.zeros(np_a.shape[0])\n",
        "\n",
        "for row in range(np_a.shape[0]):\n",
        "    for col in range(np_a.shape[1]):\n",
        "        sum_all[row] = sum_all[row] + np_a[row,col]\n",
        "sum_all = sum_all/np_a.shape[1]\n",
        "print(sum_all)"
      ],
      "execution_count": 94,
      "outputs": [
        {
          "output_type": "stream",
          "name": "stdout",
          "text": [
            "[2. 5.]\n"
          ]
        }
      ]
    },
    {
      "cell_type": "code",
      "metadata": {
        "id": "LomeBoVCPi1x",
        "colab": {
          "base_uri": "https://localhost:8080/"
        },
        "outputId": "2e229f2d-ecdf-45fa-b104-fce7995a4e06"
      },
      "source": [
        "max_a = -100000000\n",
        "for row in range(np_a.shape[0]):\n",
        "    for col in range(np_a.shape[1]):\n",
        "        if np_a[row,col] > max_a :\n",
        "            max_a = np_a[row,col]\n",
        "print(max_a)"
      ],
      "execution_count": 95,
      "outputs": [
        {
          "output_type": "stream",
          "name": "stdout",
          "text": [
            "6\n"
          ]
        }
      ]
    },
    {
      "cell_type": "code",
      "metadata": {
        "id": "BR2-80zdPk3i",
        "colab": {
          "base_uri": "https://localhost:8080/"
        },
        "outputId": "5682b801-55dc-43fd-aae9-c281a768ec22"
      },
      "source": [
        "max_all = -100000 * np.ones(np_a.shape[1])\n",
        "for col in range(np_a.shape[1]):\n",
        "    for row in range(np_a.shape[0]):\n",
        "        if np_a[row,col] > max_all[col]: \n",
        "            max_all[col] = np_a[row,col]\n",
        "print(max_all)"
      ],
      "execution_count": 96,
      "outputs": [
        {
          "output_type": "stream",
          "name": "stdout",
          "text": [
            "[4. 5. 6.]\n"
          ]
        }
      ]
    },
    {
      "cell_type": "code",
      "metadata": {
        "id": "AQsHkGZtPmlT",
        "colab": {
          "base_uri": "https://localhost:8080/"
        },
        "outputId": "0ed212ff-d386-4492-cc86-8481a68ffc71"
      },
      "source": [
        "max_all = np.zeros(np_a.shape[0])\n",
        "for row in range(np_a.shape[0]):\n",
        "    max_all[row] = max(np_a[row,:])\n",
        "print(max_all)"
      ],
      "execution_count": 97,
      "outputs": [
        {
          "output_type": "stream",
          "name": "stdout",
          "text": [
            "[3. 6.]\n"
          ]
        }
      ]
    },
    {
      "cell_type": "code",
      "metadata": {
        "id": "Lw6bS_UxPnqY",
        "colab": {
          "base_uri": "https://localhost:8080/"
        },
        "outputId": "277b401c-987a-41da-d8cf-b9f41bc7764c"
      },
      "source": [
        "minV = 100000\n",
        "for row in range(np_a.shape[0]):\n",
        "    for col in range(np_a.shape[1]):\n",
        "        if np_a[row,col] < minV:\n",
        "            minV = np_a[row,col]\n",
        "print(minV)"
      ],
      "execution_count": 98,
      "outputs": [
        {
          "output_type": "stream",
          "name": "stdout",
          "text": [
            "1\n"
          ]
        }
      ]
    },
    {
      "cell_type": "code",
      "metadata": {
        "id": "gqpukDa0PpRi",
        "colab": {
          "base_uri": "https://localhost:8080/"
        },
        "outputId": "7281a687-7408-421b-a974-ae62cb0a7933"
      },
      "source": [
        "min_all = np.zeros(np_a.shape[1])\n",
        "\n",
        "for col in range(np_a.shape[1]):\n",
        "    min_all[col] = min(np_a[:,col])\n",
        "print(min_all)"
      ],
      "execution_count": 99,
      "outputs": [
        {
          "output_type": "stream",
          "name": "stdout",
          "text": [
            "[1. 2. 3.]\n"
          ]
        }
      ]
    },
    {
      "cell_type": "code",
      "metadata": {
        "id": "g3DINtemPq1f",
        "colab": {
          "base_uri": "https://localhost:8080/"
        },
        "outputId": "651ab9fa-f10c-4ab2-ab17-152c9b75ca4c"
      },
      "source": [
        "min_row = np.zeros(np_a.shape[0])\n",
        "for row in range(np_a.shape[0]):\n",
        "   min_row[row] = min(np_a[row,:])\n",
        "print(min_row)"
      ],
      "execution_count": 100,
      "outputs": [
        {
          "output_type": "stream",
          "name": "stdout",
          "text": [
            "[1. 4.]\n"
          ]
        }
      ]
    },
    {
      "cell_type": "markdown",
      "metadata": {
        "id": "iLQ5tHx8odSg"
      },
      "source": [
        "## Distance **Matrix**"
      ]
    },
    {
      "cell_type": "code",
      "metadata": {
        "id": "7kcFPbaZPsDE",
        "outputId": "5e55517e-fe7f-4dd0-9c4c-f04410b57fd5",
        "colab": {
          "base_uri": "https://localhost:8080/"
        }
      },
      "source": [
        "data1 = np.array([[1,2],[3,5],[2,0],[4,5]])\n",
        "data1"
      ],
      "execution_count": 101,
      "outputs": [
        {
          "output_type": "execute_result",
          "data": {
            "text/plain": [
              "array([[1, 2],\n",
              "       [3, 5],\n",
              "       [2, 0],\n",
              "       [4, 5]])"
            ]
          },
          "metadata": {},
          "execution_count": 101
        }
      ]
    },
    {
      "cell_type": "code",
      "metadata": {
        "id": "pb7ruoqoofUZ",
        "outputId": "d4ff8a96-862e-4b92-9ff5-ce400f26439b",
        "colab": {
          "base_uri": "https://localhost:8080/",
          "height": 282
        }
      },
      "source": [
        "from matplotlib import pyplot as plt\n",
        "plt.scatter(data1[:,0],data1[:,1])"
      ],
      "execution_count": 102,
      "outputs": [
        {
          "output_type": "execute_result",
          "data": {
            "text/plain": [
              "<matplotlib.collections.PathCollection at 0x7f0a42d6fcd0>"
            ]
          },
          "metadata": {},
          "execution_count": 102
        },
        {
          "output_type": "display_data",
          "data": {
            "image/png": "[encoded data removed]",
            "text/plain": [
              "<Figure size 432x288 with 1 Axes>"
            ]
          },
          "metadata": {
            "needs_background": "light"
          }
        }
      ]
    },
    {
      "cell_type": "markdown",
      "metadata": {
        "id": "6bO7msDOojbz"
      },
      "source": [
        "Euclidean Distance (L2-norm)\n",
        "\n",
        "$\\sqrt{(x_1-x_2)^2+(y_1-y_2)^2}$\n",
        "\n",
        "dist(P1,P2)"
      ]
    },
    {
      "cell_type": "code",
      "metadata": {
        "id": "3o-8buQ9ogpT",
        "outputId": "e734969d-af52-488d-92ea-41c2bbe2f717",
        "colab": {
          "base_uri": "https://localhost:8080/"
        }
      },
      "source": [
        "dist_p1_p2 = np.sqrt(np.power(data1[0,0]-data1[1,0],2) + np.power(data1[0,1]-data1[1,1],2))\n",
        "dist_p1_p2"
      ],
      "execution_count": 103,
      "outputs": [
        {
          "output_type": "execute_result",
          "data": {
            "text/plain": [
              "3.605551275463989"
            ]
          },
          "metadata": {},
          "execution_count": 103
        }
      ]
    },
    {
      "cell_type": "code",
      "metadata": {
        "id": "gYLcng78om1d",
        "outputId": "5ea77476-b6f2-4878-c041-147c1877188a",
        "colab": {
          "base_uri": "https://localhost:8080/"
        }
      },
      "source": [
        "dist_p1_p2 = np.power(np.power(data1[0,0]-data1[1,0],2) + np.power(data1[0,1]-data1[1,1],2),0.5)\n",
        "dist_p1_p2"
      ],
      "execution_count": 104,
      "outputs": [
        {
          "output_type": "execute_result",
          "data": {
            "text/plain": [
              "3.605551275463989"
            ]
          },
          "metadata": {},
          "execution_count": 104
        }
      ]
    },
    {
      "cell_type": "code",
      "metadata": {
        "id": "lEpjgu0Von8a",
        "outputId": "6137d654-884e-479c-dcf1-c1445573cda5",
        "colab": {
          "base_uri": "https://localhost:8080/"
        }
      },
      "source": [
        "dist_p2_p4 = np.sqrt(np.power(data1[1,0]-data1[3,0],2) + np.power(data1[1,1]-data1[3,1],2))\n",
        "dist_p2_p4"
      ],
      "execution_count": 105,
      "outputs": [
        {
          "output_type": "execute_result",
          "data": {
            "text/plain": [
              "1.0"
            ]
          },
          "metadata": {},
          "execution_count": 105
        }
      ]
    },
    {
      "cell_type": "markdown",
      "metadata": {
        "id": "WEJhCZPqoqek"
      },
      "source": [
        "Distance function\n",
        "\n",
        "p1 = [x,y]\n",
        "\n",
        "dim = 2"
      ]
    },
    {
      "cell_type": "code",
      "metadata": {
        "id": "Hn5vmLDooo7A"
      },
      "source": [
        "def dist_l2_2(p1,p2):\n",
        "    return np.sqrt(np.power(p1[0]-p2[0],2) + np.power(p1[1]-p2[1],2))"
      ],
      "execution_count": 106,
      "outputs": []
    },
    {
      "cell_type": "code",
      "metadata": {
        "id": "D4MxgBtUos9X",
        "outputId": "6de90a06-d09e-41d7-d11b-fbfa9adeae2b",
        "colab": {
          "base_uri": "https://localhost:8080/"
        }
      },
      "source": [
        "dist_l2_2(data1[0,:],data1[1,:])"
      ],
      "execution_count": 107,
      "outputs": [
        {
          "output_type": "execute_result",
          "data": {
            "text/plain": [
              "3.605551275463989"
            ]
          },
          "metadata": {},
          "execution_count": 107
        }
      ]
    },
    {
      "cell_type": "code",
      "metadata": {
        "id": "tPb8Au3hot5H",
        "outputId": "5b62386c-dedf-459d-8f42-340845fa3211",
        "colab": {
          "base_uri": "https://localhost:8080/"
        }
      },
      "source": [
        "dist_l2_2(data1[1,:],data1[3,:])"
      ],
      "execution_count": 108,
      "outputs": [
        {
          "output_type": "execute_result",
          "data": {
            "text/plain": [
              "1.0"
            ]
          },
          "metadata": {},
          "execution_count": 108
        }
      ]
    },
    {
      "cell_type": "code",
      "metadata": {
        "id": "DMlqhL_QovCN"
      },
      "source": [
        "def dist_l2_n(p1,p2):\n",
        "    sum = 0\n",
        "    for i in range(len(p1)):\n",
        "        sum = sum + np.power(p1[i]-p2[i],2)\n",
        "    return np.sqrt(sum)"
      ],
      "execution_count": 109,
      "outputs": []
    },
    {
      "cell_type": "code",
      "metadata": {
        "id": "OMBaCIuMowJE",
        "outputId": "b991d6ab-3da9-46df-b13a-b58c8e591c9b",
        "colab": {
          "base_uri": "https://localhost:8080/"
        }
      },
      "source": [
        "dist_l2_n(data1[0,:],data1[1,:])"
      ],
      "execution_count": 110,
      "outputs": [
        {
          "output_type": "execute_result",
          "data": {
            "text/plain": [
              "3.605551275463989"
            ]
          },
          "metadata": {},
          "execution_count": 110
        }
      ]
    },
    {
      "cell_type": "markdown",
      "metadata": {
        "id": "LlAyR_BboyyJ"
      },
      "source": [
        "Manhattan Distance (L1-norm)\n",
        "\n",
        "$|x_1-x_2|+|y_1-y_2|$\n",
        "\n",
        "quiz6\n",
        "\n",
        "เขียน function คำนวณ manhattan distance ของ ข้อมูล 2 dimensions"
      ]
    },
    {
      "cell_type": "code",
      "metadata": {
        "id": "U0k_M65doxLo"
      },
      "source": [
        ""
      ],
      "execution_count": null,
      "outputs": []
    }
  ]
}